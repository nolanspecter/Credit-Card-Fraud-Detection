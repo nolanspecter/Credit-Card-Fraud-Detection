{
  "nbformat": 4,
  "nbformat_minor": 0,
  "metadata": {
    "colab": {
      "name": "Thesis.ipynb",
      "provenance": [],
      "collapsed_sections": []
    },
    "kernelspec": {
      "display_name": "Python 3",
      "name": "python3"
    },
    "language_info": {
      "name": "python"
    }
  },
  "cells": [
    {
      "cell_type": "code",
      "metadata": {
        "colab": {
          "base_uri": "https://localhost:8080/"
        },
        "id": "q5d7Nd5N8etA",
        "outputId": "a32bf7d4-fd83-4baa-ec12-d548d5094fb7"
      },
      "source": [
        "from google.colab import drive\n",
        "drive.mount('/content/drive')"
      ],
      "execution_count": null,
      "outputs": [
        {
          "output_type": "stream",
          "text": [
            "Drive already mounted at /content/drive; to attempt to forcibly remount, call drive.mount(\"/content/drive\", force_remount=True).\n"
          ],
          "name": "stdout"
        }
      ]
    },
    {
      "cell_type": "code",
      "metadata": {
        "colab": {
          "base_uri": "https://localhost:8080/"
        },
        "id": "N2nP0En48ol-",
        "outputId": "2a90174a-b45a-4e8d-f49c-6b0266a6ce65"
      },
      "source": [
        "cd drive/MyDrive/Thesis"
      ],
      "execution_count": null,
      "outputs": [
        {
          "output_type": "stream",
          "text": [
            "[Errno 2] No such file or directory: 'drive/MyDrive/Thesis'\n",
            "/content/drive/MyDrive/Thesis\n"
          ],
          "name": "stdout"
        }
      ]
    },
    {
      "cell_type": "code",
      "metadata": {
        "colab": {
          "base_uri": "https://localhost:8080/"
        },
        "id": "8PkZjH9vQU2M",
        "outputId": "36026894-dccc-42cd-9d6d-efa491961a8d"
      },
      "source": [
        "!pip install pycodestyle pycodestyle_magic\n",
        "!pip install flake8\n",
        "%load_ext pycodestyle_magic"
      ],
      "execution_count": null,
      "outputs": [
        {
          "output_type": "stream",
          "text": [
            "Requirement already satisfied: pycodestyle in /usr/local/lib/python3.7/dist-packages (2.7.0)\n",
            "Requirement already satisfied: pycodestyle_magic in /usr/local/lib/python3.7/dist-packages (0.5)\n",
            "Requirement already satisfied: flake8 in /usr/local/lib/python3.7/dist-packages (3.9.1)\n",
            "Requirement already satisfied: importlib-metadata; python_version < \"3.8\" in /usr/local/lib/python3.7/dist-packages (from flake8) (3.10.1)\n",
            "Requirement already satisfied: pyflakes<2.4.0,>=2.3.0 in /usr/local/lib/python3.7/dist-packages (from flake8) (2.3.1)\n",
            "Requirement already satisfied: pycodestyle<2.8.0,>=2.7.0 in /usr/local/lib/python3.7/dist-packages (from flake8) (2.7.0)\n",
            "Requirement already satisfied: mccabe<0.7.0,>=0.6.0 in /usr/local/lib/python3.7/dist-packages (from flake8) (0.6.1)\n",
            "Requirement already satisfied: zipp>=0.5 in /usr/local/lib/python3.7/dist-packages (from importlib-metadata; python_version < \"3.8\"->flake8) (3.4.1)\n",
            "Requirement already satisfied: typing-extensions>=3.6.4; python_version < \"3.8\" in /usr/local/lib/python3.7/dist-packages (from importlib-metadata; python_version < \"3.8\"->flake8) (3.7.4.3)\n",
            "The pycodestyle_magic extension is already loaded. To reload it, use:\n",
            "  %reload_ext pycodestyle_magic\n"
          ],
          "name": "stdout"
        }
      ]
    },
    {
      "cell_type": "code",
      "metadata": {
        "id": "Fgmf5YGR-cx9"
      },
      "source": [
        "# %%pycodestyle\n",
        "import matplotlib.pyplot as plt\n",
        "import numpy as np\n",
        "import pandas as pd\n",
        "import seaborn as sns\n",
        "\n",
        "from collections import Counter\n",
        "from imblearn.over_sampling import RandomOverSampler, SMOTE\n",
        "from imblearn.under_sampling import RandomUnderSampler, TomekLinks\n",
        "from sklearn.linear_model import LogisticRegression\n",
        "from sklearn.metrics import classification_report, f1_score\n",
        "from sklearn.metrics import plot_confusion_matrix, plot_precision_recall_curve\n",
        "from sklearn.metrics import plot_roc_curve, precision_score\n",
        "from sklearn.metrics import recall_score, roc_auc_score\n",
        "from sklearn.model_selection import train_test_split, GridSearchCV\n",
        "from sklearn.preprocessing import StandardScaler"
      ],
      "execution_count": null,
      "outputs": []
    },
    {
      "cell_type": "markdown",
      "metadata": {
        "id": "X48L7TocUu3_"
      },
      "source": [
        "# Data Preparation"
      ]
    },
    {
      "cell_type": "markdown",
      "metadata": {
        "id": "lo0coBX4FtUo"
      },
      "source": [
        "## Load DataFrame\n"
      ]
    },
    {
      "cell_type": "code",
      "metadata": {
        "colab": {
          "base_uri": "https://localhost:8080/",
          "height": 224
        },
        "id": "Vue5aYb__Lc6",
        "outputId": "1bdcd26c-b990-447d-eb69-57728765f240"
      },
      "source": [
        "# %%pycodestyle\n",
        "df = pd.read_csv('creditcard.csv')\n",
        "df.head()\n",
        "# Time: Number of seconds elapsed between this transaction and the first transaction in the dataset"
      ],
      "execution_count": null,
      "outputs": [
        {
          "output_type": "execute_result",
          "data": {
            "text/html": [
              "<div>\n",
              "<style scoped>\n",
              "    .dataframe tbody tr th:only-of-type {\n",
              "        vertical-align: middle;\n",
              "    }\n",
              "\n",
              "    .dataframe tbody tr th {\n",
              "        vertical-align: top;\n",
              "    }\n",
              "\n",
              "    .dataframe thead th {\n",
              "        text-align: right;\n",
              "    }\n",
              "</style>\n",
              "<table border=\"1\" class=\"dataframe\">\n",
              "  <thead>\n",
              "    <tr style=\"text-align: right;\">\n",
              "      <th></th>\n",
              "      <th>Time</th>\n",
              "      <th>V1</th>\n",
              "      <th>V2</th>\n",
              "      <th>V3</th>\n",
              "      <th>V4</th>\n",
              "      <th>V5</th>\n",
              "      <th>V6</th>\n",
              "      <th>V7</th>\n",
              "      <th>V8</th>\n",
              "      <th>V9</th>\n",
              "      <th>V10</th>\n",
              "      <th>V11</th>\n",
              "      <th>V12</th>\n",
              "      <th>V13</th>\n",
              "      <th>V14</th>\n",
              "      <th>V15</th>\n",
              "      <th>V16</th>\n",
              "      <th>V17</th>\n",
              "      <th>V18</th>\n",
              "      <th>V19</th>\n",
              "      <th>V20</th>\n",
              "      <th>V21</th>\n",
              "      <th>V22</th>\n",
              "      <th>V23</th>\n",
              "      <th>V24</th>\n",
              "      <th>V25</th>\n",
              "      <th>V26</th>\n",
              "      <th>V27</th>\n",
              "      <th>V28</th>\n",
              "      <th>Amount</th>\n",
              "      <th>Class</th>\n",
              "    </tr>\n",
              "  </thead>\n",
              "  <tbody>\n",
              "    <tr>\n",
              "      <th>0</th>\n",
              "      <td>0.0</td>\n",
              "      <td>-1.359807</td>\n",
              "      <td>-0.072781</td>\n",
              "      <td>2.536347</td>\n",
              "      <td>1.378155</td>\n",
              "      <td>-0.338321</td>\n",
              "      <td>0.462388</td>\n",
              "      <td>0.239599</td>\n",
              "      <td>0.098698</td>\n",
              "      <td>0.363787</td>\n",
              "      <td>0.090794</td>\n",
              "      <td>-0.551600</td>\n",
              "      <td>-0.617801</td>\n",
              "      <td>-0.991390</td>\n",
              "      <td>-0.311169</td>\n",
              "      <td>1.468177</td>\n",
              "      <td>-0.470401</td>\n",
              "      <td>0.207971</td>\n",
              "      <td>0.025791</td>\n",
              "      <td>0.403993</td>\n",
              "      <td>0.251412</td>\n",
              "      <td>-0.018307</td>\n",
              "      <td>0.277838</td>\n",
              "      <td>-0.110474</td>\n",
              "      <td>0.066928</td>\n",
              "      <td>0.128539</td>\n",
              "      <td>-0.189115</td>\n",
              "      <td>0.133558</td>\n",
              "      <td>-0.021053</td>\n",
              "      <td>149.62</td>\n",
              "      <td>0</td>\n",
              "    </tr>\n",
              "    <tr>\n",
              "      <th>1</th>\n",
              "      <td>0.0</td>\n",
              "      <td>1.191857</td>\n",
              "      <td>0.266151</td>\n",
              "      <td>0.166480</td>\n",
              "      <td>0.448154</td>\n",
              "      <td>0.060018</td>\n",
              "      <td>-0.082361</td>\n",
              "      <td>-0.078803</td>\n",
              "      <td>0.085102</td>\n",
              "      <td>-0.255425</td>\n",
              "      <td>-0.166974</td>\n",
              "      <td>1.612727</td>\n",
              "      <td>1.065235</td>\n",
              "      <td>0.489095</td>\n",
              "      <td>-0.143772</td>\n",
              "      <td>0.635558</td>\n",
              "      <td>0.463917</td>\n",
              "      <td>-0.114805</td>\n",
              "      <td>-0.183361</td>\n",
              "      <td>-0.145783</td>\n",
              "      <td>-0.069083</td>\n",
              "      <td>-0.225775</td>\n",
              "      <td>-0.638672</td>\n",
              "      <td>0.101288</td>\n",
              "      <td>-0.339846</td>\n",
              "      <td>0.167170</td>\n",
              "      <td>0.125895</td>\n",
              "      <td>-0.008983</td>\n",
              "      <td>0.014724</td>\n",
              "      <td>2.69</td>\n",
              "      <td>0</td>\n",
              "    </tr>\n",
              "    <tr>\n",
              "      <th>2</th>\n",
              "      <td>1.0</td>\n",
              "      <td>-1.358354</td>\n",
              "      <td>-1.340163</td>\n",
              "      <td>1.773209</td>\n",
              "      <td>0.379780</td>\n",
              "      <td>-0.503198</td>\n",
              "      <td>1.800499</td>\n",
              "      <td>0.791461</td>\n",
              "      <td>0.247676</td>\n",
              "      <td>-1.514654</td>\n",
              "      <td>0.207643</td>\n",
              "      <td>0.624501</td>\n",
              "      <td>0.066084</td>\n",
              "      <td>0.717293</td>\n",
              "      <td>-0.165946</td>\n",
              "      <td>2.345865</td>\n",
              "      <td>-2.890083</td>\n",
              "      <td>1.109969</td>\n",
              "      <td>-0.121359</td>\n",
              "      <td>-2.261857</td>\n",
              "      <td>0.524980</td>\n",
              "      <td>0.247998</td>\n",
              "      <td>0.771679</td>\n",
              "      <td>0.909412</td>\n",
              "      <td>-0.689281</td>\n",
              "      <td>-0.327642</td>\n",
              "      <td>-0.139097</td>\n",
              "      <td>-0.055353</td>\n",
              "      <td>-0.059752</td>\n",
              "      <td>378.66</td>\n",
              "      <td>0</td>\n",
              "    </tr>\n",
              "    <tr>\n",
              "      <th>3</th>\n",
              "      <td>1.0</td>\n",
              "      <td>-0.966272</td>\n",
              "      <td>-0.185226</td>\n",
              "      <td>1.792993</td>\n",
              "      <td>-0.863291</td>\n",
              "      <td>-0.010309</td>\n",
              "      <td>1.247203</td>\n",
              "      <td>0.237609</td>\n",
              "      <td>0.377436</td>\n",
              "      <td>-1.387024</td>\n",
              "      <td>-0.054952</td>\n",
              "      <td>-0.226487</td>\n",
              "      <td>0.178228</td>\n",
              "      <td>0.507757</td>\n",
              "      <td>-0.287924</td>\n",
              "      <td>-0.631418</td>\n",
              "      <td>-1.059647</td>\n",
              "      <td>-0.684093</td>\n",
              "      <td>1.965775</td>\n",
              "      <td>-1.232622</td>\n",
              "      <td>-0.208038</td>\n",
              "      <td>-0.108300</td>\n",
              "      <td>0.005274</td>\n",
              "      <td>-0.190321</td>\n",
              "      <td>-1.175575</td>\n",
              "      <td>0.647376</td>\n",
              "      <td>-0.221929</td>\n",
              "      <td>0.062723</td>\n",
              "      <td>0.061458</td>\n",
              "      <td>123.50</td>\n",
              "      <td>0</td>\n",
              "    </tr>\n",
              "    <tr>\n",
              "      <th>4</th>\n",
              "      <td>2.0</td>\n",
              "      <td>-1.158233</td>\n",
              "      <td>0.877737</td>\n",
              "      <td>1.548718</td>\n",
              "      <td>0.403034</td>\n",
              "      <td>-0.407193</td>\n",
              "      <td>0.095921</td>\n",
              "      <td>0.592941</td>\n",
              "      <td>-0.270533</td>\n",
              "      <td>0.817739</td>\n",
              "      <td>0.753074</td>\n",
              "      <td>-0.822843</td>\n",
              "      <td>0.538196</td>\n",
              "      <td>1.345852</td>\n",
              "      <td>-1.119670</td>\n",
              "      <td>0.175121</td>\n",
              "      <td>-0.451449</td>\n",
              "      <td>-0.237033</td>\n",
              "      <td>-0.038195</td>\n",
              "      <td>0.803487</td>\n",
              "      <td>0.408542</td>\n",
              "      <td>-0.009431</td>\n",
              "      <td>0.798278</td>\n",
              "      <td>-0.137458</td>\n",
              "      <td>0.141267</td>\n",
              "      <td>-0.206010</td>\n",
              "      <td>0.502292</td>\n",
              "      <td>0.219422</td>\n",
              "      <td>0.215153</td>\n",
              "      <td>69.99</td>\n",
              "      <td>0</td>\n",
              "    </tr>\n",
              "  </tbody>\n",
              "</table>\n",
              "</div>"
            ],
            "text/plain": [
              "   Time        V1        V2        V3  ...       V27       V28  Amount  Class\n",
              "0   0.0 -1.359807 -0.072781  2.536347  ...  0.133558 -0.021053  149.62      0\n",
              "1   0.0  1.191857  0.266151  0.166480  ... -0.008983  0.014724    2.69      0\n",
              "2   1.0 -1.358354 -1.340163  1.773209  ... -0.055353 -0.059752  378.66      0\n",
              "3   1.0 -0.966272 -0.185226  1.792993  ...  0.062723  0.061458  123.50      0\n",
              "4   2.0 -1.158233  0.877737  1.548718  ...  0.219422  0.215153   69.99      0\n",
              "\n",
              "[5 rows x 31 columns]"
            ]
          },
          "metadata": {
            "tags": []
          },
          "execution_count": 77
        }
      ]
    },
    {
      "cell_type": "code",
      "metadata": {
        "colab": {
          "base_uri": "https://localhost:8080/",
          "height": 533
        },
        "id": "ZbqM-8xwALTb",
        "outputId": "e149d3dd-3140-4d38-acce-68ada74d6e9e"
      },
      "source": [
        "# %%pycodestyle\n",
        "plt.rcParams.update({'font.size': 10})\n",
        "fig = plt.figure(figsize=(15, 8))\n",
        "sns.heatmap(df.corr())"
      ],
      "execution_count": null,
      "outputs": [
        {
          "output_type": "execute_result",
          "data": {
            "text/plain": [
              "<matplotlib.axes._subplots.AxesSubplot at 0x7fde2a9dbad0>"
            ]
          },
          "metadata": {
            "tags": []
          },
          "execution_count": 78
        },
        {
          "output_type": "display_data",
          "data": {
            "image/png": "[encoded data removed]",
            "text/plain": [
              "<Figure size 1080x576 with 2 Axes>"
            ]
          },
          "metadata": {
            "tags": [],
            "needs_background": "light"
          }
        }
      ]
    },
    {
      "cell_type": "code",
      "metadata": {
        "colab": {
          "base_uri": "https://localhost:8080/",
          "height": 651
        },
        "id": "XrDjUNdJ_R35",
        "outputId": "335df943-e8f4-41e0-db85-88a986bfc0a4"
      },
      "source": [
        "# %%pycodestyle\n",
        "plt.rcParams.update({'font.size': 14})\n",
        "fig, ax = plt.subplots(figsize=(12, 10))\n",
        "ax = sns.countplot(data=df, x='Class')\n",
        "ax.set_title('Class Distribution')\n",
        "ax.set(xlabel=\"Class\", ylabel = \"Frequency\")\n",
        "ax.set_xticklabels(['Genuine (0)', 'Fraud (1)'])"
      ],
      "execution_count": null,
      "outputs": [
        {
          "output_type": "execute_result",
          "data": {
            "text/plain": [
              "[Text(0, 0, 'Genuine (0)'), Text(0, 0, 'Fraud (1)')]"
            ]
          },
          "metadata": {
            "tags": []
          },
          "execution_count": 79
        },
        {
          "output_type": "display_data",
          "data": {
            "image/png": "[encoded data removed]",
            "text/plain": [
              "<Figure size 864x720 with 1 Axes>"
            ]
          },
          "metadata": {
            "tags": [],
            "needs_background": "light"
          }
        }
      ]
    },
    {
      "cell_type": "markdown",
      "metadata": {
        "id": "5I4oruOWEYKC"
      },
      "source": [
        "## Normalization ('Amount')\n"
      ]
    },
    {
      "cell_type": "code",
      "metadata": {
        "colab": {
          "base_uri": "https://localhost:8080/",
          "height": 224
        },
        "id": "knLcSLq3Ec14",
        "outputId": "076fe7eb-2d18-4ed4-d7cc-e87ff73ae75c"
      },
      "source": [
        "scaler = StandardScaler()\n",
        "df[['Amount']] = scaler.fit_transform(df[['Amount']].values)\n",
        "df.head()"
      ],
      "execution_count": null,
      "outputs": [
        {
          "output_type": "execute_result",
          "data": {
            "text/html": [
              "<div>\n",
              "<style scoped>\n",
              "    .dataframe tbody tr th:only-of-type {\n",
              "        vertical-align: middle;\n",
              "    }\n",
              "\n",
              "    .dataframe tbody tr th {\n",
              "        vertical-align: top;\n",
              "    }\n",
              "\n",
              "    .dataframe thead th {\n",
              "        text-align: right;\n",
              "    }\n",
              "</style>\n",
              "<table border=\"1\" class=\"dataframe\">\n",
              "  <thead>\n",
              "    <tr style=\"text-align: right;\">\n",
              "      <th></th>\n",
              "      <th>Time</th>\n",
              "      <th>V1</th>\n",
              "      <th>V2</th>\n",
              "      <th>V3</th>\n",
              "      <th>V4</th>\n",
              "      <th>V5</th>\n",
              "      <th>V6</th>\n",
              "      <th>V7</th>\n",
              "      <th>V8</th>\n",
              "      <th>V9</th>\n",
              "      <th>V10</th>\n",
              "      <th>V11</th>\n",
              "      <th>V12</th>\n",
              "      <th>V13</th>\n",
              "      <th>V14</th>\n",
              "      <th>V15</th>\n",
              "      <th>V16</th>\n",
              "      <th>V17</th>\n",
              "      <th>V18</th>\n",
              "      <th>V19</th>\n",
              "      <th>V20</th>\n",
              "      <th>V21</th>\n",
              "      <th>V22</th>\n",
              "      <th>V23</th>\n",
              "      <th>V24</th>\n",
              "      <th>V25</th>\n",
              "      <th>V26</th>\n",
              "      <th>V27</th>\n",
              "      <th>V28</th>\n",
              "      <th>Amount</th>\n",
              "      <th>Class</th>\n",
              "    </tr>\n",
              "  </thead>\n",
              "  <tbody>\n",
              "    <tr>\n",
              "      <th>0</th>\n",
              "      <td>0.0</td>\n",
              "      <td>-1.359807</td>\n",
              "      <td>-0.072781</td>\n",
              "      <td>2.536347</td>\n",
              "      <td>1.378155</td>\n",
              "      <td>-0.338321</td>\n",
              "      <td>0.462388</td>\n",
              "      <td>0.239599</td>\n",
              "      <td>0.098698</td>\n",
              "      <td>0.363787</td>\n",
              "      <td>0.090794</td>\n",
              "      <td>-0.551600</td>\n",
              "      <td>-0.617801</td>\n",
              "      <td>-0.991390</td>\n",
              "      <td>-0.311169</td>\n",
              "      <td>1.468177</td>\n",
              "      <td>-0.470401</td>\n",
              "      <td>0.207971</td>\n",
              "      <td>0.025791</td>\n",
              "      <td>0.403993</td>\n",
              "      <td>0.251412</td>\n",
              "      <td>-0.018307</td>\n",
              "      <td>0.277838</td>\n",
              "      <td>-0.110474</td>\n",
              "      <td>0.066928</td>\n",
              "      <td>0.128539</td>\n",
              "      <td>-0.189115</td>\n",
              "      <td>0.133558</td>\n",
              "      <td>-0.021053</td>\n",
              "      <td>0.244964</td>\n",
              "      <td>0</td>\n",
              "    </tr>\n",
              "    <tr>\n",
              "      <th>1</th>\n",
              "      <td>0.0</td>\n",
              "      <td>1.191857</td>\n",
              "      <td>0.266151</td>\n",
              "      <td>0.166480</td>\n",
              "      <td>0.448154</td>\n",
              "      <td>0.060018</td>\n",
              "      <td>-0.082361</td>\n",
              "      <td>-0.078803</td>\n",
              "      <td>0.085102</td>\n",
              "      <td>-0.255425</td>\n",
              "      <td>-0.166974</td>\n",
              "      <td>1.612727</td>\n",
              "      <td>1.065235</td>\n",
              "      <td>0.489095</td>\n",
              "      <td>-0.143772</td>\n",
              "      <td>0.635558</td>\n",
              "      <td>0.463917</td>\n",
              "      <td>-0.114805</td>\n",
              "      <td>-0.183361</td>\n",
              "      <td>-0.145783</td>\n",
              "      <td>-0.069083</td>\n",
              "      <td>-0.225775</td>\n",
              "      <td>-0.638672</td>\n",
              "      <td>0.101288</td>\n",
              "      <td>-0.339846</td>\n",
              "      <td>0.167170</td>\n",
              "      <td>0.125895</td>\n",
              "      <td>-0.008983</td>\n",
              "      <td>0.014724</td>\n",
              "      <td>-0.342475</td>\n",
              "      <td>0</td>\n",
              "    </tr>\n",
              "    <tr>\n",
              "      <th>2</th>\n",
              "      <td>1.0</td>\n",
              "      <td>-1.358354</td>\n",
              "      <td>-1.340163</td>\n",
              "      <td>1.773209</td>\n",
              "      <td>0.379780</td>\n",
              "      <td>-0.503198</td>\n",
              "      <td>1.800499</td>\n",
              "      <td>0.791461</td>\n",
              "      <td>0.247676</td>\n",
              "      <td>-1.514654</td>\n",
              "      <td>0.207643</td>\n",
              "      <td>0.624501</td>\n",
              "      <td>0.066084</td>\n",
              "      <td>0.717293</td>\n",
              "      <td>-0.165946</td>\n",
              "      <td>2.345865</td>\n",
              "      <td>-2.890083</td>\n",
              "      <td>1.109969</td>\n",
              "      <td>-0.121359</td>\n",
              "      <td>-2.261857</td>\n",
              "      <td>0.524980</td>\n",
              "      <td>0.247998</td>\n",
              "      <td>0.771679</td>\n",
              "      <td>0.909412</td>\n",
              "      <td>-0.689281</td>\n",
              "      <td>-0.327642</td>\n",
              "      <td>-0.139097</td>\n",
              "      <td>-0.055353</td>\n",
              "      <td>-0.059752</td>\n",
              "      <td>1.160686</td>\n",
              "      <td>0</td>\n",
              "    </tr>\n",
              "    <tr>\n",
              "      <th>3</th>\n",
              "      <td>1.0</td>\n",
              "      <td>-0.966272</td>\n",
              "      <td>-0.185226</td>\n",
              "      <td>1.792993</td>\n",
              "      <td>-0.863291</td>\n",
              "      <td>-0.010309</td>\n",
              "      <td>1.247203</td>\n",
              "      <td>0.237609</td>\n",
              "      <td>0.377436</td>\n",
              "      <td>-1.387024</td>\n",
              "      <td>-0.054952</td>\n",
              "      <td>-0.226487</td>\n",
              "      <td>0.178228</td>\n",
              "      <td>0.507757</td>\n",
              "      <td>-0.287924</td>\n",
              "      <td>-0.631418</td>\n",
              "      <td>-1.059647</td>\n",
              "      <td>-0.684093</td>\n",
              "      <td>1.965775</td>\n",
              "      <td>-1.232622</td>\n",
              "      <td>-0.208038</td>\n",
              "      <td>-0.108300</td>\n",
              "      <td>0.005274</td>\n",
              "      <td>-0.190321</td>\n",
              "      <td>-1.175575</td>\n",
              "      <td>0.647376</td>\n",
              "      <td>-0.221929</td>\n",
              "      <td>0.062723</td>\n",
              "      <td>0.061458</td>\n",
              "      <td>0.140534</td>\n",
              "      <td>0</td>\n",
              "    </tr>\n",
              "    <tr>\n",
              "      <th>4</th>\n",
              "      <td>2.0</td>\n",
              "      <td>-1.158233</td>\n",
              "      <td>0.877737</td>\n",
              "      <td>1.548718</td>\n",
              "      <td>0.403034</td>\n",
              "      <td>-0.407193</td>\n",
              "      <td>0.095921</td>\n",
              "      <td>0.592941</td>\n",
              "      <td>-0.270533</td>\n",
              "      <td>0.817739</td>\n",
              "      <td>0.753074</td>\n",
              "      <td>-0.822843</td>\n",
              "      <td>0.538196</td>\n",
              "      <td>1.345852</td>\n",
              "      <td>-1.119670</td>\n",
              "      <td>0.175121</td>\n",
              "      <td>-0.451449</td>\n",
              "      <td>-0.237033</td>\n",
              "      <td>-0.038195</td>\n",
              "      <td>0.803487</td>\n",
              "      <td>0.408542</td>\n",
              "      <td>-0.009431</td>\n",
              "      <td>0.798278</td>\n",
              "      <td>-0.137458</td>\n",
              "      <td>0.141267</td>\n",
              "      <td>-0.206010</td>\n",
              "      <td>0.502292</td>\n",
              "      <td>0.219422</td>\n",
              "      <td>0.215153</td>\n",
              "      <td>-0.073403</td>\n",
              "      <td>0</td>\n",
              "    </tr>\n",
              "  </tbody>\n",
              "</table>\n",
              "</div>"
            ],
            "text/plain": [
              "   Time        V1        V2        V3  ...       V27       V28    Amount  Class\n",
              "0   0.0 -1.359807 -0.072781  2.536347  ...  0.133558 -0.021053  0.244964      0\n",
              "1   0.0  1.191857  0.266151  0.166480  ... -0.008983  0.014724 -0.342475      0\n",
              "2   1.0 -1.358354 -1.340163  1.773209  ... -0.055353 -0.059752  1.160686      0\n",
              "3   1.0 -0.966272 -0.185226  1.792993  ...  0.062723  0.061458  0.140534      0\n",
              "4   2.0 -1.158233  0.877737  1.548718  ...  0.219422  0.215153 -0.073403      0\n",
              "\n",
              "[5 rows x 31 columns]"
            ]
          },
          "metadata": {
            "tags": []
          },
          "execution_count": 80
        }
      ]
    },
    {
      "cell_type": "markdown",
      "metadata": {
        "id": "ytp6f9krJi9p"
      },
      "source": [
        "## Split X, y"
      ]
    },
    {
      "cell_type": "code",
      "metadata": {
        "id": "cLUiMXw3_ZdV"
      },
      "source": [
        "# %%pycodestyle\n",
        "y = df[['Class']]\n",
        "X = df.drop(['Class'], axis=1)"
      ],
      "execution_count": null,
      "outputs": []
    },
    {
      "cell_type": "code",
      "metadata": {
        "id": "D7Y8M-WMM0Xb"
      },
      "source": [
        "X_train, X_test, y_train, y_test = train_test_split(X, y, test_size=0.3, random_state=14)"
      ],
      "execution_count": null,
      "outputs": []
    },
    {
      "cell_type": "markdown",
      "metadata": {
        "id": "glvsAkqMKWe_"
      },
      "source": [
        "## Random Oversampling"
      ]
    },
    {
      "cell_type": "code",
      "metadata": {
        "colab": {
          "base_uri": "https://localhost:8080/"
        },
        "id": "DzZRQ5RT9s_a",
        "outputId": "844aab25-8116-46bb-8967-7e58892d9c4f"
      },
      "source": [
        "oversampler = RandomOverSampler(sampling_strategy='minority', random_state=14)\n",
        "X_over, y_over = oversampler.fit_resample(X_train,y_train)\n",
        "y_over = np.ravel(y_over)\n",
        "Counter(y_over)"
      ],
      "execution_count": null,
      "outputs": [
        {
          "output_type": "stream",
          "text": [
            "/usr/local/lib/python3.7/dist-packages/sklearn/utils/validation.py:760: DataConversionWarning: A column-vector y was passed when a 1d array was expected. Please change the shape of y to (n_samples, ), for example using ravel().\n",
            "  y = column_or_1d(y, warn=True)\n",
            "/usr/local/lib/python3.7/dist-packages/sklearn/utils/deprecation.py:87: FutureWarning: Function safe_indexing is deprecated; safe_indexing is deprecated in version 0.22 and will be removed in version 0.24.\n",
            "  warnings.warn(msg, category=FutureWarning)\n"
          ],
          "name": "stderr"
        },
        {
          "output_type": "execute_result",
          "data": {
            "text/plain": [
              "Counter({0: 199013, 1: 199013})"
            ]
          },
          "metadata": {
            "tags": []
          },
          "execution_count": 83
        }
      ]
    },
    {
      "cell_type": "markdown",
      "metadata": {
        "id": "gDFIrhg-7Ixk"
      },
      "source": [
        "## Random Undersampling"
      ]
    },
    {
      "cell_type": "code",
      "metadata": {
        "colab": {
          "base_uri": "https://localhost:8080/"
        },
        "id": "V_Be-MJF7QVu",
        "outputId": "bf1287ef-9c4d-4253-951a-f92612cf56c5"
      },
      "source": [
        "undersampler = RandomUnderSampler(sampling_strategy='majority', random_state=14)\n",
        "X_under, y_under = undersampler.fit_resample(X_train,y_train)\n",
        "y_under = np.ravel(y_under)\n",
        "Counter(y_under)"
      ],
      "execution_count": null,
      "outputs": [
        {
          "output_type": "stream",
          "text": [
            "/usr/local/lib/python3.7/dist-packages/sklearn/utils/deprecation.py:87: FutureWarning: Function safe_indexing is deprecated; safe_indexing is deprecated in version 0.22 and will be removed in version 0.24.\n",
            "  warnings.warn(msg, category=FutureWarning)\n"
          ],
          "name": "stderr"
        },
        {
          "output_type": "execute_result",
          "data": {
            "text/plain": [
              "Counter({0: 351, 1: 351})"
            ]
          },
          "metadata": {
            "tags": []
          },
          "execution_count": 84
        }
      ]
    },
    {
      "cell_type": "markdown",
      "metadata": {
        "id": "f2vR3Pw760DH"
      },
      "source": [
        "## SMOTE"
      ]
    },
    {
      "cell_type": "code",
      "metadata": {
        "id": "hPBWhsU0625b",
        "colab": {
          "base_uri": "https://localhost:8080/"
        },
        "outputId": "f168a12a-7129-4d0c-8169-27f569cd464e"
      },
      "source": [
        "smote = SMOTE(sampling_strategy='minority',random_state=14)\n",
        "X_smote, y_smote = smote.fit_resample(X_train, y_train)\n",
        "y_smote = np.ravel(y_smote)\n",
        "Counter(y_smote)"
      ],
      "execution_count": null,
      "outputs": [
        {
          "output_type": "stream",
          "text": [
            "/usr/local/lib/python3.7/dist-packages/sklearn/utils/validation.py:760: DataConversionWarning: A column-vector y was passed when a 1d array was expected. Please change the shape of y to (n_samples, ), for example using ravel().\n",
            "  y = column_or_1d(y, warn=True)\n",
            "/usr/local/lib/python3.7/dist-packages/sklearn/utils/deprecation.py:87: FutureWarning: Function safe_indexing is deprecated; safe_indexing is deprecated in version 0.22 and will be removed in version 0.24.\n",
            "  warnings.warn(msg, category=FutureWarning)\n"
          ],
          "name": "stderr"
        },
        {
          "output_type": "execute_result",
          "data": {
            "text/plain": [
              "Counter({0: 199013, 1: 199013})"
            ]
          },
          "metadata": {
            "tags": []
          },
          "execution_count": 85
        }
      ]
    },
    {
      "cell_type": "markdown",
      "metadata": {
        "id": "qyF5IQk0vCm4"
      },
      "source": [
        "## Tomek Links Removal"
      ]
    },
    {
      "cell_type": "code",
      "metadata": {
        "colab": {
          "base_uri": "https://localhost:8080/"
        },
        "id": "hfkmucm_vFY6",
        "outputId": "6ce0688d-a6c9-44d2-a5fb-6771d0977400"
      },
      "source": [
        "tomek = TomekLinks(sampling_strategy='majority', random_state=0)\n",
        "X_tomek, y_tomek = tomek.fit_resample(X_train,y_train)\n",
        "y_tomek = np.ravel(y_tomek)\n",
        "Counter(y_tomek)"
      ],
      "execution_count": null,
      "outputs": [
        {
          "output_type": "stream",
          "text": [
            "/usr/local/lib/python3.7/dist-packages/sklearn/utils/validation.py:760: DataConversionWarning: A column-vector y was passed when a 1d array was expected. Please change the shape of y to (n_samples, ), for example using ravel().\n",
            "  y = column_or_1d(y, warn=True)\n",
            "/usr/local/lib/python3.7/dist-packages/sklearn/utils/deprecation.py:87: FutureWarning: Function safe_indexing is deprecated; safe_indexing is deprecated in version 0.22 and will be removed in version 0.24.\n",
            "  warnings.warn(msg, category=FutureWarning)\n"
          ],
          "name": "stderr"
        },
        {
          "output_type": "execute_result",
          "data": {
            "text/plain": [
              "Counter({0: 198999, 1: 351})"
            ]
          },
          "metadata": {
            "tags": []
          },
          "execution_count": 129
        }
      ]
    },
    {
      "cell_type": "markdown",
      "metadata": {
        "id": "wRzaI3vbOjkE"
      },
      "source": [
        "# Logistic Regression no Resampling"
      ]
    },
    {
      "cell_type": "markdown",
      "metadata": {
        "id": "B-k0jXT3MJjE"
      },
      "source": [
        "## Parameter Tuning using Cross-Validation (GridSearchCV)"
      ]
    },
    {
      "cell_type": "code",
      "metadata": {
        "id": "cmE7aiRLMJOP"
      },
      "source": [
        "search_range = np.linspace(0.1,1,10)\n",
        "PARAM = {'C':search_range}\n",
        "clf = LogisticRegression(max_iter=1000)\n",
        "search = GridSearchCV(clf,PARAM, cv=10, verbose=3)"
      ],
      "execution_count": null,
      "outputs": []
    },
    {
      "cell_type": "code",
      "metadata": {
        "colab": {
          "base_uri": "https://localhost:8080/"
        },
        "id": "TN40zk5vN7Ga",
        "outputId": "8685554c-2f15-4cef-f36e-3402a41cdd25"
      },
      "source": [
        "# %%pycodestyle\n",
        "search.fit(X_train, y_train)"
      ],
      "execution_count": null,
      "outputs": [
        {
          "output_type": "stream",
          "text": [
            "Fitting 10 folds for each of 10 candidates, totalling 100 fits\n",
            "[CV] C=0.1 ...........................................................\n"
          ],
          "name": "stdout"
        },
        {
          "output_type": "stream",
          "text": [
            "[Parallel(n_jobs=1)]: Using backend SequentialBackend with 1 concurrent workers.\n",
            "/usr/local/lib/python3.7/dist-packages/sklearn/utils/validation.py:760: DataConversionWarning: A column-vector y was passed when a 1d array was expected. Please change the shape of y to (n_samples, ), for example using ravel().\n",
            "  y = column_or_1d(y, warn=True)\n"
          ],
          "name": "stderr"
        },
        {
          "output_type": "stream",
          "text": [
            "[CV] ............................... C=0.1, score=0.999, total=  21.5s\n",
            "[CV] C=0.1 ...........................................................\n"
          ],
          "name": "stdout"
        },
        {
          "output_type": "stream",
          "text": [
            "[Parallel(n_jobs=1)]: Done   1 out of   1 | elapsed:   21.5s remaining:    0.0s\n",
            "/usr/local/lib/python3.7/dist-packages/sklearn/utils/validation.py:760: DataConversionWarning: A column-vector y was passed when a 1d array was expected. Please change the shape of y to (n_samples, ), for example using ravel().\n",
            "  y = column_or_1d(y, warn=True)\n"
          ],
          "name": "stderr"
        },
        {
          "output_type": "stream",
          "text": [
            "[CV] ............................... C=0.1, score=0.999, total=  10.0s\n",
            "[CV] C=0.1 ...........................................................\n"
          ],
          "name": "stdout"
        },
        {
          "output_type": "stream",
          "text": [
            "[Parallel(n_jobs=1)]: Done   2 out of   2 | elapsed:   31.5s remaining:    0.0s\n",
            "/usr/local/lib/python3.7/dist-packages/sklearn/utils/validation.py:760: DataConversionWarning: A column-vector y was passed when a 1d array was expected. Please change the shape of y to (n_samples, ), for example using ravel().\n",
            "  y = column_or_1d(y, warn=True)\n"
          ],
          "name": "stderr"
        },
        {
          "output_type": "stream",
          "text": [
            "[CV] ............................... C=0.1, score=0.999, total=   6.6s\n",
            "[CV] C=0.1 ...........................................................\n"
          ],
          "name": "stdout"
        },
        {
          "output_type": "stream",
          "text": [
            "/usr/local/lib/python3.7/dist-packages/sklearn/utils/validation.py:760: DataConversionWarning: A column-vector y was passed when a 1d array was expected. Please change the shape of y to (n_samples, ), for example using ravel().\n",
            "  y = column_or_1d(y, warn=True)\n"
          ],
          "name": "stderr"
        },
        {
          "output_type": "stream",
          "text": [
            "[CV] ............................... C=0.1, score=0.999, total=   7.5s\n",
            "[CV] C=0.1 ...........................................................\n"
          ],
          "name": "stdout"
        },
        {
          "output_type": "stream",
          "text": [
            "/usr/local/lib/python3.7/dist-packages/sklearn/utils/validation.py:760: DataConversionWarning: A column-vector y was passed when a 1d array was expected. Please change the shape of y to (n_samples, ), for example using ravel().\n",
            "  y = column_or_1d(y, warn=True)\n"
          ],
          "name": "stderr"
        },
        {
          "output_type": "stream",
          "text": [
            "[CV] ............................... C=0.1, score=0.999, total=   7.3s\n",
            "[CV] C=0.1 ...........................................................\n"
          ],
          "name": "stdout"
        },
        {
          "output_type": "stream",
          "text": [
            "/usr/local/lib/python3.7/dist-packages/sklearn/utils/validation.py:760: DataConversionWarning: A column-vector y was passed when a 1d array was expected. Please change the shape of y to (n_samples, ), for example using ravel().\n",
            "  y = column_or_1d(y, warn=True)\n"
          ],
          "name": "stderr"
        },
        {
          "output_type": "stream",
          "text": [
            "[CV] ............................... C=0.1, score=0.999, total=  14.1s\n",
            "[CV] C=0.1 ...........................................................\n"
          ],
          "name": "stdout"
        },
        {
          "output_type": "stream",
          "text": [
            "/usr/local/lib/python3.7/dist-packages/sklearn/utils/validation.py:760: DataConversionWarning: A column-vector y was passed when a 1d array was expected. Please change the shape of y to (n_samples, ), for example using ravel().\n",
            "  y = column_or_1d(y, warn=True)\n"
          ],
          "name": "stderr"
        },
        {
          "output_type": "stream",
          "text": [
            "[CV] ............................... C=0.1, score=0.999, total=  24.3s\n",
            "[CV] C=0.1 ...........................................................\n"
          ],
          "name": "stdout"
        },
        {
          "output_type": "stream",
          "text": [
            "/usr/local/lib/python3.7/dist-packages/sklearn/utils/validation.py:760: DataConversionWarning: A column-vector y was passed when a 1d array was expected. Please change the shape of y to (n_samples, ), for example using ravel().\n",
            "  y = column_or_1d(y, warn=True)\n"
          ],
          "name": "stderr"
        },
        {
          "output_type": "stream",
          "text": [
            "[CV] ............................... C=0.1, score=0.999, total=   7.3s\n",
            "[CV] C=0.1 ...........................................................\n"
          ],
          "name": "stdout"
        },
        {
          "output_type": "stream",
          "text": [
            "/usr/local/lib/python3.7/dist-packages/sklearn/utils/validation.py:760: DataConversionWarning: A column-vector y was passed when a 1d array was expected. Please change the shape of y to (n_samples, ), for example using ravel().\n",
            "  y = column_or_1d(y, warn=True)\n"
          ],
          "name": "stderr"
        },
        {
          "output_type": "stream",
          "text": [
            "[CV] ............................... C=0.1, score=0.999, total=   7.6s\n",
            "[CV] C=0.1 ...........................................................\n"
          ],
          "name": "stdout"
        },
        {
          "output_type": "stream",
          "text": [
            "/usr/local/lib/python3.7/dist-packages/sklearn/utils/validation.py:760: DataConversionWarning: A column-vector y was passed when a 1d array was expected. Please change the shape of y to (n_samples, ), for example using ravel().\n",
            "  y = column_or_1d(y, warn=True)\n"
          ],
          "name": "stderr"
        },
        {
          "output_type": "stream",
          "text": [
            "[CV] ............................... C=0.1, score=0.999, total=   7.9s\n",
            "[CV] C=0.2 ...........................................................\n"
          ],
          "name": "stdout"
        },
        {
          "output_type": "stream",
          "text": [
            "/usr/local/lib/python3.7/dist-packages/sklearn/utils/validation.py:760: DataConversionWarning: A column-vector y was passed when a 1d array was expected. Please change the shape of y to (n_samples, ), for example using ravel().\n",
            "  y = column_or_1d(y, warn=True)\n"
          ],
          "name": "stderr"
        },
        {
          "output_type": "stream",
          "text": [
            "[CV] ............................... C=0.2, score=0.999, total=   7.0s\n",
            "[CV] C=0.2 ...........................................................\n"
          ],
          "name": "stdout"
        },
        {
          "output_type": "stream",
          "text": [
            "/usr/local/lib/python3.7/dist-packages/sklearn/utils/validation.py:760: DataConversionWarning: A column-vector y was passed when a 1d array was expected. Please change the shape of y to (n_samples, ), for example using ravel().\n",
            "  y = column_or_1d(y, warn=True)\n"
          ],
          "name": "stderr"
        },
        {
          "output_type": "stream",
          "text": [
            "[CV] ............................... C=0.2, score=0.999, total=  19.4s\n",
            "[CV] C=0.2 ...........................................................\n"
          ],
          "name": "stdout"
        },
        {
          "output_type": "stream",
          "text": [
            "/usr/local/lib/python3.7/dist-packages/sklearn/utils/validation.py:760: DataConversionWarning: A column-vector y was passed when a 1d array was expected. Please change the shape of y to (n_samples, ), for example using ravel().\n",
            "  y = column_or_1d(y, warn=True)\n"
          ],
          "name": "stderr"
        },
        {
          "output_type": "stream",
          "text": [
            "[CV] ............................... C=0.2, score=0.999, total=  20.2s\n",
            "[CV] C=0.2 ...........................................................\n"
          ],
          "name": "stdout"
        },
        {
          "output_type": "stream",
          "text": [
            "/usr/local/lib/python3.7/dist-packages/sklearn/utils/validation.py:760: DataConversionWarning: A column-vector y was passed when a 1d array was expected. Please change the shape of y to (n_samples, ), for example using ravel().\n",
            "  y = column_or_1d(y, warn=True)\n"
          ],
          "name": "stderr"
        },
        {
          "output_type": "stream",
          "text": [
            "[CV] ............................... C=0.2, score=0.999, total=  19.6s\n",
            "[CV] C=0.2 ...........................................................\n"
          ],
          "name": "stdout"
        },
        {
          "output_type": "stream",
          "text": [
            "/usr/local/lib/python3.7/dist-packages/sklearn/utils/validation.py:760: DataConversionWarning: A column-vector y was passed when a 1d array was expected. Please change the shape of y to (n_samples, ), for example using ravel().\n",
            "  y = column_or_1d(y, warn=True)\n"
          ],
          "name": "stderr"
        },
        {
          "output_type": "stream",
          "text": [
            "[CV] ............................... C=0.2, score=0.999, total=  12.1s\n",
            "[CV] C=0.2 ...........................................................\n"
          ],
          "name": "stdout"
        },
        {
          "output_type": "stream",
          "text": [
            "/usr/local/lib/python3.7/dist-packages/sklearn/utils/validation.py:760: DataConversionWarning: A column-vector y was passed when a 1d array was expected. Please change the shape of y to (n_samples, ), for example using ravel().\n",
            "  y = column_or_1d(y, warn=True)\n"
          ],
          "name": "stderr"
        },
        {
          "output_type": "stream",
          "text": [
            "[CV] ............................... C=0.2, score=0.999, total=  15.0s\n",
            "[CV] C=0.2 ...........................................................\n"
          ],
          "name": "stdout"
        },
        {
          "output_type": "stream",
          "text": [
            "/usr/local/lib/python3.7/dist-packages/sklearn/utils/validation.py:760: DataConversionWarning: A column-vector y was passed when a 1d array was expected. Please change the shape of y to (n_samples, ), for example using ravel().\n",
            "  y = column_or_1d(y, warn=True)\n"
          ],
          "name": "stderr"
        },
        {
          "output_type": "stream",
          "text": [
            "[CV] ............................... C=0.2, score=0.999, total=   5.4s\n",
            "[CV] C=0.2 ...........................................................\n"
          ],
          "name": "stdout"
        },
        {
          "output_type": "stream",
          "text": [
            "/usr/local/lib/python3.7/dist-packages/sklearn/utils/validation.py:760: DataConversionWarning: A column-vector y was passed when a 1d array was expected. Please change the shape of y to (n_samples, ), for example using ravel().\n",
            "  y = column_or_1d(y, warn=True)\n"
          ],
          "name": "stderr"
        },
        {
          "output_type": "stream",
          "text": [
            "[CV] ............................... C=0.2, score=0.999, total=  10.5s\n",
            "[CV] C=0.2 ...........................................................\n"
          ],
          "name": "stdout"
        },
        {
          "output_type": "stream",
          "text": [
            "/usr/local/lib/python3.7/dist-packages/sklearn/utils/validation.py:760: DataConversionWarning: A column-vector y was passed when a 1d array was expected. Please change the shape of y to (n_samples, ), for example using ravel().\n",
            "  y = column_or_1d(y, warn=True)\n"
          ],
          "name": "stderr"
        },
        {
          "output_type": "stream",
          "text": [
            "[CV] ............................... C=0.2, score=0.999, total=   9.0s\n",
            "[CV] C=0.2 ...........................................................\n"
          ],
          "name": "stdout"
        },
        {
          "output_type": "stream",
          "text": [
            "/usr/local/lib/python3.7/dist-packages/sklearn/utils/validation.py:760: DataConversionWarning: A column-vector y was passed when a 1d array was expected. Please change the shape of y to (n_samples, ), for example using ravel().\n",
            "  y = column_or_1d(y, warn=True)\n"
          ],
          "name": "stderr"
        },
        {
          "output_type": "stream",
          "text": [
            "[CV] ............................... C=0.2, score=0.999, total=   7.7s\n",
            "[CV] C=0.30000000000000004 ...........................................\n"
          ],
          "name": "stdout"
        },
        {
          "output_type": "stream",
          "text": [
            "/usr/local/lib/python3.7/dist-packages/sklearn/utils/validation.py:760: DataConversionWarning: A column-vector y was passed when a 1d array was expected. Please change the shape of y to (n_samples, ), for example using ravel().\n",
            "  y = column_or_1d(y, warn=True)\n"
          ],
          "name": "stderr"
        },
        {
          "output_type": "stream",
          "text": [
            "[CV] ............... C=0.30000000000000004, score=0.999, total=  10.7s\n",
            "[CV] C=0.30000000000000004 ...........................................\n"
          ],
          "name": "stdout"
        },
        {
          "output_type": "stream",
          "text": [
            "/usr/local/lib/python3.7/dist-packages/sklearn/utils/validation.py:760: DataConversionWarning: A column-vector y was passed when a 1d array was expected. Please change the shape of y to (n_samples, ), for example using ravel().\n",
            "  y = column_or_1d(y, warn=True)\n"
          ],
          "name": "stderr"
        },
        {
          "output_type": "stream",
          "text": [
            "[CV] ............... C=0.30000000000000004, score=0.999, total=  10.2s\n",
            "[CV] C=0.30000000000000004 ...........................................\n"
          ],
          "name": "stdout"
        },
        {
          "output_type": "stream",
          "text": [
            "/usr/local/lib/python3.7/dist-packages/sklearn/utils/validation.py:760: DataConversionWarning: A column-vector y was passed when a 1d array was expected. Please change the shape of y to (n_samples, ), for example using ravel().\n",
            "  y = column_or_1d(y, warn=True)\n"
          ],
          "name": "stderr"
        },
        {
          "output_type": "stream",
          "text": [
            "[CV] ............... C=0.30000000000000004, score=0.999, total=   7.0s\n",
            "[CV] C=0.30000000000000004 ...........................................\n"
          ],
          "name": "stdout"
        },
        {
          "output_type": "stream",
          "text": [
            "/usr/local/lib/python3.7/dist-packages/sklearn/utils/validation.py:760: DataConversionWarning: A column-vector y was passed when a 1d array was expected. Please change the shape of y to (n_samples, ), for example using ravel().\n",
            "  y = column_or_1d(y, warn=True)\n"
          ],
          "name": "stderr"
        },
        {
          "output_type": "stream",
          "text": [
            "[CV] ............... C=0.30000000000000004, score=0.999, total=   9.6s\n",
            "[CV] C=0.30000000000000004 ...........................................\n"
          ],
          "name": "stdout"
        },
        {
          "output_type": "stream",
          "text": [
            "/usr/local/lib/python3.7/dist-packages/sklearn/utils/validation.py:760: DataConversionWarning: A column-vector y was passed when a 1d array was expected. Please change the shape of y to (n_samples, ), for example using ravel().\n",
            "  y = column_or_1d(y, warn=True)\n"
          ],
          "name": "stderr"
        },
        {
          "output_type": "stream",
          "text": [
            "[CV] ............... C=0.30000000000000004, score=0.999, total=   9.9s\n",
            "[CV] C=0.30000000000000004 ...........................................\n"
          ],
          "name": "stdout"
        },
        {
          "output_type": "stream",
          "text": [
            "/usr/local/lib/python3.7/dist-packages/sklearn/utils/validation.py:760: DataConversionWarning: A column-vector y was passed when a 1d array was expected. Please change the shape of y to (n_samples, ), for example using ravel().\n",
            "  y = column_or_1d(y, warn=True)\n"
          ],
          "name": "stderr"
        },
        {
          "output_type": "stream",
          "text": [
            "[CV] ............... C=0.30000000000000004, score=0.999, total=   9.7s\n",
            "[CV] C=0.30000000000000004 ...........................................\n"
          ],
          "name": "stdout"
        },
        {
          "output_type": "stream",
          "text": [
            "/usr/local/lib/python3.7/dist-packages/sklearn/utils/validation.py:760: DataConversionWarning: A column-vector y was passed when a 1d array was expected. Please change the shape of y to (n_samples, ), for example using ravel().\n",
            "  y = column_or_1d(y, warn=True)\n"
          ],
          "name": "stderr"
        },
        {
          "output_type": "stream",
          "text": [
            "[CV] ............... C=0.30000000000000004, score=0.999, total=  15.4s\n",
            "[CV] C=0.30000000000000004 ...........................................\n"
          ],
          "name": "stdout"
        },
        {
          "output_type": "stream",
          "text": [
            "/usr/local/lib/python3.7/dist-packages/sklearn/utils/validation.py:760: DataConversionWarning: A column-vector y was passed when a 1d array was expected. Please change the shape of y to (n_samples, ), for example using ravel().\n",
            "  y = column_or_1d(y, warn=True)\n"
          ],
          "name": "stderr"
        },
        {
          "output_type": "stream",
          "text": [
            "[CV] ............... C=0.30000000000000004, score=0.999, total=  11.4s\n",
            "[CV] C=0.30000000000000004 ...........................................\n"
          ],
          "name": "stdout"
        },
        {
          "output_type": "stream",
          "text": [
            "/usr/local/lib/python3.7/dist-packages/sklearn/utils/validation.py:760: DataConversionWarning: A column-vector y was passed when a 1d array was expected. Please change the shape of y to (n_samples, ), for example using ravel().\n",
            "  y = column_or_1d(y, warn=True)\n"
          ],
          "name": "stderr"
        },
        {
          "output_type": "stream",
          "text": [
            "[CV] ............... C=0.30000000000000004, score=0.999, total=   8.4s\n",
            "[CV] C=0.30000000000000004 ...........................................\n"
          ],
          "name": "stdout"
        },
        {
          "output_type": "stream",
          "text": [
            "/usr/local/lib/python3.7/dist-packages/sklearn/utils/validation.py:760: DataConversionWarning: A column-vector y was passed when a 1d array was expected. Please change the shape of y to (n_samples, ), for example using ravel().\n",
            "  y = column_or_1d(y, warn=True)\n"
          ],
          "name": "stderr"
        },
        {
          "output_type": "stream",
          "text": [
            "[CV] ............... C=0.30000000000000004, score=0.999, total=  18.1s\n",
            "[CV] C=0.4 ...........................................................\n"
          ],
          "name": "stdout"
        },
        {
          "output_type": "stream",
          "text": [
            "/usr/local/lib/python3.7/dist-packages/sklearn/utils/validation.py:760: DataConversionWarning: A column-vector y was passed when a 1d array was expected. Please change the shape of y to (n_samples, ), for example using ravel().\n",
            "  y = column_or_1d(y, warn=True)\n"
          ],
          "name": "stderr"
        },
        {
          "output_type": "stream",
          "text": [
            "[CV] ............................... C=0.4, score=0.999, total=  12.7s\n",
            "[CV] C=0.4 ...........................................................\n"
          ],
          "name": "stdout"
        },
        {
          "output_type": "stream",
          "text": [
            "/usr/local/lib/python3.7/dist-packages/sklearn/utils/validation.py:760: DataConversionWarning: A column-vector y was passed when a 1d array was expected. Please change the shape of y to (n_samples, ), for example using ravel().\n",
            "  y = column_or_1d(y, warn=True)\n"
          ],
          "name": "stderr"
        },
        {
          "output_type": "stream",
          "text": [
            "[CV] ............................... C=0.4, score=0.999, total=   3.2s\n",
            "[CV] C=0.4 ...........................................................\n"
          ],
          "name": "stdout"
        },
        {
          "output_type": "stream",
          "text": [
            "/usr/local/lib/python3.7/dist-packages/sklearn/utils/validation.py:760: DataConversionWarning: A column-vector y was passed when a 1d array was expected. Please change the shape of y to (n_samples, ), for example using ravel().\n",
            "  y = column_or_1d(y, warn=True)\n"
          ],
          "name": "stderr"
        },
        {
          "output_type": "stream",
          "text": [
            "[CV] ............................... C=0.4, score=0.999, total=   7.3s\n",
            "[CV] C=0.4 ...........................................................\n"
          ],
          "name": "stdout"
        },
        {
          "output_type": "stream",
          "text": [
            "/usr/local/lib/python3.7/dist-packages/sklearn/utils/validation.py:760: DataConversionWarning: A column-vector y was passed when a 1d array was expected. Please change the shape of y to (n_samples, ), for example using ravel().\n",
            "  y = column_or_1d(y, warn=True)\n"
          ],
          "name": "stderr"
        },
        {
          "output_type": "stream",
          "text": [
            "[CV] ............................... C=0.4, score=0.999, total=  12.0s\n",
            "[CV] C=0.4 ...........................................................\n"
          ],
          "name": "stdout"
        },
        {
          "output_type": "stream",
          "text": [
            "/usr/local/lib/python3.7/dist-packages/sklearn/utils/validation.py:760: DataConversionWarning: A column-vector y was passed when a 1d array was expected. Please change the shape of y to (n_samples, ), for example using ravel().\n",
            "  y = column_or_1d(y, warn=True)\n"
          ],
          "name": "stderr"
        },
        {
          "output_type": "stream",
          "text": [
            "[CV] ............................... C=0.4, score=0.999, total=   9.2s\n",
            "[CV] C=0.4 ...........................................................\n"
          ],
          "name": "stdout"
        },
        {
          "output_type": "stream",
          "text": [
            "/usr/local/lib/python3.7/dist-packages/sklearn/utils/validation.py:760: DataConversionWarning: A column-vector y was passed when a 1d array was expected. Please change the shape of y to (n_samples, ), for example using ravel().\n",
            "  y = column_or_1d(y, warn=True)\n"
          ],
          "name": "stderr"
        },
        {
          "output_type": "stream",
          "text": [
            "[CV] ............................... C=0.4, score=0.999, total=   3.4s\n",
            "[CV] C=0.4 ...........................................................\n"
          ],
          "name": "stdout"
        },
        {
          "output_type": "stream",
          "text": [
            "/usr/local/lib/python3.7/dist-packages/sklearn/utils/validation.py:760: DataConversionWarning: A column-vector y was passed when a 1d array was expected. Please change the shape of y to (n_samples, ), for example using ravel().\n",
            "  y = column_or_1d(y, warn=True)\n"
          ],
          "name": "stderr"
        },
        {
          "output_type": "stream",
          "text": [
            "[CV] ............................... C=0.4, score=0.999, total=  12.8s\n",
            "[CV] C=0.4 ...........................................................\n"
          ],
          "name": "stdout"
        },
        {
          "output_type": "stream",
          "text": [
            "/usr/local/lib/python3.7/dist-packages/sklearn/utils/validation.py:760: DataConversionWarning: A column-vector y was passed when a 1d array was expected. Please change the shape of y to (n_samples, ), for example using ravel().\n",
            "  y = column_or_1d(y, warn=True)\n"
          ],
          "name": "stderr"
        },
        {
          "output_type": "stream",
          "text": [
            "[CV] ............................... C=0.4, score=0.999, total=   7.8s\n",
            "[CV] C=0.4 ...........................................................\n"
          ],
          "name": "stdout"
        },
        {
          "output_type": "stream",
          "text": [
            "/usr/local/lib/python3.7/dist-packages/sklearn/utils/validation.py:760: DataConversionWarning: A column-vector y was passed when a 1d array was expected. Please change the shape of y to (n_samples, ), for example using ravel().\n",
            "  y = column_or_1d(y, warn=True)\n"
          ],
          "name": "stderr"
        },
        {
          "output_type": "stream",
          "text": [
            "[CV] ............................... C=0.4, score=0.999, total=  10.1s\n",
            "[CV] C=0.4 ...........................................................\n"
          ],
          "name": "stdout"
        },
        {
          "output_type": "stream",
          "text": [
            "/usr/local/lib/python3.7/dist-packages/sklearn/utils/validation.py:760: DataConversionWarning: A column-vector y was passed when a 1d array was expected. Please change the shape of y to (n_samples, ), for example using ravel().\n",
            "  y = column_or_1d(y, warn=True)\n"
          ],
          "name": "stderr"
        },
        {
          "output_type": "stream",
          "text": [
            "[CV] ............................... C=0.4, score=0.999, total=  12.3s\n",
            "[CV] C=0.5 ...........................................................\n"
          ],
          "name": "stdout"
        },
        {
          "output_type": "stream",
          "text": [
            "/usr/local/lib/python3.7/dist-packages/sklearn/utils/validation.py:760: DataConversionWarning: A column-vector y was passed when a 1d array was expected. Please change the shape of y to (n_samples, ), for example using ravel().\n",
            "  y = column_or_1d(y, warn=True)\n"
          ],
          "name": "stderr"
        },
        {
          "output_type": "stream",
          "text": [
            "[CV] ............................... C=0.5, score=0.999, total=   7.8s\n",
            "[CV] C=0.5 ...........................................................\n"
          ],
          "name": "stdout"
        },
        {
          "output_type": "stream",
          "text": [
            "/usr/local/lib/python3.7/dist-packages/sklearn/utils/validation.py:760: DataConversionWarning: A column-vector y was passed when a 1d array was expected. Please change the shape of y to (n_samples, ), for example using ravel().\n",
            "  y = column_or_1d(y, warn=True)\n"
          ],
          "name": "stderr"
        },
        {
          "output_type": "stream",
          "text": [
            "[CV] ............................... C=0.5, score=0.999, total=   7.5s\n",
            "[CV] C=0.5 ...........................................................\n"
          ],
          "name": "stdout"
        },
        {
          "output_type": "stream",
          "text": [
            "/usr/local/lib/python3.7/dist-packages/sklearn/utils/validation.py:760: DataConversionWarning: A column-vector y was passed when a 1d array was expected. Please change the shape of y to (n_samples, ), for example using ravel().\n",
            "  y = column_or_1d(y, warn=True)\n"
          ],
          "name": "stderr"
        },
        {
          "output_type": "stream",
          "text": [
            "[CV] ............................... C=0.5, score=0.999, total=   8.4s\n",
            "[CV] C=0.5 ...........................................................\n"
          ],
          "name": "stdout"
        },
        {
          "output_type": "stream",
          "text": [
            "/usr/local/lib/python3.7/dist-packages/sklearn/utils/validation.py:760: DataConversionWarning: A column-vector y was passed when a 1d array was expected. Please change the shape of y to (n_samples, ), for example using ravel().\n",
            "  y = column_or_1d(y, warn=True)\n"
          ],
          "name": "stderr"
        },
        {
          "output_type": "stream",
          "text": [
            "[CV] ............................... C=0.5, score=0.999, total=  10.9s\n",
            "[CV] C=0.5 ...........................................................\n"
          ],
          "name": "stdout"
        },
        {
          "output_type": "stream",
          "text": [
            "/usr/local/lib/python3.7/dist-packages/sklearn/utils/validation.py:760: DataConversionWarning: A column-vector y was passed when a 1d array was expected. Please change the shape of y to (n_samples, ), for example using ravel().\n",
            "  y = column_or_1d(y, warn=True)\n"
          ],
          "name": "stderr"
        },
        {
          "output_type": "stream",
          "text": [
            "[CV] ............................... C=0.5, score=0.999, total=  14.3s\n",
            "[CV] C=0.5 ...........................................................\n"
          ],
          "name": "stdout"
        },
        {
          "output_type": "stream",
          "text": [
            "/usr/local/lib/python3.7/dist-packages/sklearn/utils/validation.py:760: DataConversionWarning: A column-vector y was passed when a 1d array was expected. Please change the shape of y to (n_samples, ), for example using ravel().\n",
            "  y = column_or_1d(y, warn=True)\n"
          ],
          "name": "stderr"
        },
        {
          "output_type": "stream",
          "text": [
            "[CV] ............................... C=0.5, score=0.999, total=   7.6s\n",
            "[CV] C=0.5 ...........................................................\n"
          ],
          "name": "stdout"
        },
        {
          "output_type": "stream",
          "text": [
            "/usr/local/lib/python3.7/dist-packages/sklearn/utils/validation.py:760: DataConversionWarning: A column-vector y was passed when a 1d array was expected. Please change the shape of y to (n_samples, ), for example using ravel().\n",
            "  y = column_or_1d(y, warn=True)\n"
          ],
          "name": "stderr"
        },
        {
          "output_type": "stream",
          "text": [
            "[CV] ............................... C=0.5, score=0.999, total=  11.0s\n",
            "[CV] C=0.5 ...........................................................\n"
          ],
          "name": "stdout"
        },
        {
          "output_type": "stream",
          "text": [
            "/usr/local/lib/python3.7/dist-packages/sklearn/utils/validation.py:760: DataConversionWarning: A column-vector y was passed when a 1d array was expected. Please change the shape of y to (n_samples, ), for example using ravel().\n",
            "  y = column_or_1d(y, warn=True)\n"
          ],
          "name": "stderr"
        },
        {
          "output_type": "stream",
          "text": [
            "[CV] ............................... C=0.5, score=0.999, total=  14.2s\n",
            "[CV] C=0.5 ...........................................................\n"
          ],
          "name": "stdout"
        },
        {
          "output_type": "stream",
          "text": [
            "/usr/local/lib/python3.7/dist-packages/sklearn/utils/validation.py:760: DataConversionWarning: A column-vector y was passed when a 1d array was expected. Please change the shape of y to (n_samples, ), for example using ravel().\n",
            "  y = column_or_1d(y, warn=True)\n"
          ],
          "name": "stderr"
        },
        {
          "output_type": "stream",
          "text": [
            "[CV] ............................... C=0.5, score=0.999, total=   8.1s\n",
            "[CV] C=0.5 ...........................................................\n"
          ],
          "name": "stdout"
        },
        {
          "output_type": "stream",
          "text": [
            "/usr/local/lib/python3.7/dist-packages/sklearn/utils/validation.py:760: DataConversionWarning: A column-vector y was passed when a 1d array was expected. Please change the shape of y to (n_samples, ), for example using ravel().\n",
            "  y = column_or_1d(y, warn=True)\n"
          ],
          "name": "stderr"
        },
        {
          "output_type": "stream",
          "text": [
            "[CV] ............................... C=0.5, score=0.999, total=  17.6s\n",
            "[CV] C=0.6 ...........................................................\n"
          ],
          "name": "stdout"
        },
        {
          "output_type": "stream",
          "text": [
            "/usr/local/lib/python3.7/dist-packages/sklearn/utils/validation.py:760: DataConversionWarning: A column-vector y was passed when a 1d array was expected. Please change the shape of y to (n_samples, ), for example using ravel().\n",
            "  y = column_or_1d(y, warn=True)\n"
          ],
          "name": "stderr"
        },
        {
          "output_type": "stream",
          "text": [
            "[CV] ............................... C=0.6, score=0.999, total=  12.0s\n",
            "[CV] C=0.6 ...........................................................\n"
          ],
          "name": "stdout"
        },
        {
          "output_type": "stream",
          "text": [
            "/usr/local/lib/python3.7/dist-packages/sklearn/utils/validation.py:760: DataConversionWarning: A column-vector y was passed when a 1d array was expected. Please change the shape of y to (n_samples, ), for example using ravel().\n",
            "  y = column_or_1d(y, warn=True)\n"
          ],
          "name": "stderr"
        },
        {
          "output_type": "stream",
          "text": [
            "[CV] ............................... C=0.6, score=0.999, total=   8.6s\n",
            "[CV] C=0.6 ...........................................................\n"
          ],
          "name": "stdout"
        },
        {
          "output_type": "stream",
          "text": [
            "/usr/local/lib/python3.7/dist-packages/sklearn/utils/validation.py:760: DataConversionWarning: A column-vector y was passed when a 1d array was expected. Please change the shape of y to (n_samples, ), for example using ravel().\n",
            "  y = column_or_1d(y, warn=True)\n"
          ],
          "name": "stderr"
        },
        {
          "output_type": "stream",
          "text": [
            "[CV] ............................... C=0.6, score=0.999, total=   8.1s\n",
            "[CV] C=0.6 ...........................................................\n"
          ],
          "name": "stdout"
        },
        {
          "output_type": "stream",
          "text": [
            "/usr/local/lib/python3.7/dist-packages/sklearn/utils/validation.py:760: DataConversionWarning: A column-vector y was passed when a 1d array was expected. Please change the shape of y to (n_samples, ), for example using ravel().\n",
            "  y = column_or_1d(y, warn=True)\n"
          ],
          "name": "stderr"
        },
        {
          "output_type": "stream",
          "text": [
            "[CV] ............................... C=0.6, score=0.999, total=  14.7s\n",
            "[CV] C=0.6 ...........................................................\n"
          ],
          "name": "stdout"
        },
        {
          "output_type": "stream",
          "text": [
            "/usr/local/lib/python3.7/dist-packages/sklearn/utils/validation.py:760: DataConversionWarning: A column-vector y was passed when a 1d array was expected. Please change the shape of y to (n_samples, ), for example using ravel().\n",
            "  y = column_or_1d(y, warn=True)\n"
          ],
          "name": "stderr"
        },
        {
          "output_type": "stream",
          "text": [
            "[CV] ............................... C=0.6, score=0.998, total=   3.2s\n",
            "[CV] C=0.6 ...........................................................\n"
          ],
          "name": "stdout"
        },
        {
          "output_type": "stream",
          "text": [
            "/usr/local/lib/python3.7/dist-packages/sklearn/utils/validation.py:760: DataConversionWarning: A column-vector y was passed when a 1d array was expected. Please change the shape of y to (n_samples, ), for example using ravel().\n",
            "  y = column_or_1d(y, warn=True)\n"
          ],
          "name": "stderr"
        },
        {
          "output_type": "stream",
          "text": [
            "[CV] ............................... C=0.6, score=0.999, total=   9.0s\n",
            "[CV] C=0.6 ...........................................................\n"
          ],
          "name": "stdout"
        },
        {
          "output_type": "stream",
          "text": [
            "/usr/local/lib/python3.7/dist-packages/sklearn/utils/validation.py:760: DataConversionWarning: A column-vector y was passed when a 1d array was expected. Please change the shape of y to (n_samples, ), for example using ravel().\n",
            "  y = column_or_1d(y, warn=True)\n"
          ],
          "name": "stderr"
        },
        {
          "output_type": "stream",
          "text": [
            "[CV] ............................... C=0.6, score=0.999, total=   7.4s\n",
            "[CV] C=0.6 ...........................................................\n"
          ],
          "name": "stdout"
        },
        {
          "output_type": "stream",
          "text": [
            "/usr/local/lib/python3.7/dist-packages/sklearn/utils/validation.py:760: DataConversionWarning: A column-vector y was passed when a 1d array was expected. Please change the shape of y to (n_samples, ), for example using ravel().\n",
            "  y = column_or_1d(y, warn=True)\n"
          ],
          "name": "stderr"
        },
        {
          "output_type": "stream",
          "text": [
            "[CV] ............................... C=0.6, score=0.999, total=  25.6s\n",
            "[CV] C=0.6 ...........................................................\n"
          ],
          "name": "stdout"
        },
        {
          "output_type": "stream",
          "text": [
            "/usr/local/lib/python3.7/dist-packages/sklearn/utils/validation.py:760: DataConversionWarning: A column-vector y was passed when a 1d array was expected. Please change the shape of y to (n_samples, ), for example using ravel().\n",
            "  y = column_or_1d(y, warn=True)\n"
          ],
          "name": "stderr"
        },
        {
          "output_type": "stream",
          "text": [
            "[CV] ............................... C=0.6, score=0.999, total=   6.1s\n",
            "[CV] C=0.6 ...........................................................\n"
          ],
          "name": "stdout"
        },
        {
          "output_type": "stream",
          "text": [
            "/usr/local/lib/python3.7/dist-packages/sklearn/utils/validation.py:760: DataConversionWarning: A column-vector y was passed when a 1d array was expected. Please change the shape of y to (n_samples, ), for example using ravel().\n",
            "  y = column_or_1d(y, warn=True)\n"
          ],
          "name": "stderr"
        },
        {
          "output_type": "stream",
          "text": [
            "[CV] ............................... C=0.6, score=0.999, total=  18.8s\n",
            "[CV] C=0.7000000000000001 ............................................\n"
          ],
          "name": "stdout"
        },
        {
          "output_type": "stream",
          "text": [
            "/usr/local/lib/python3.7/dist-packages/sklearn/utils/validation.py:760: DataConversionWarning: A column-vector y was passed when a 1d array was expected. Please change the shape of y to (n_samples, ), for example using ravel().\n",
            "  y = column_or_1d(y, warn=True)\n"
          ],
          "name": "stderr"
        },
        {
          "output_type": "stream",
          "text": [
            "[CV] ................ C=0.7000000000000001, score=0.999, total=   9.2s\n",
            "[CV] C=0.7000000000000001 ............................................\n"
          ],
          "name": "stdout"
        },
        {
          "output_type": "stream",
          "text": [
            "/usr/local/lib/python3.7/dist-packages/sklearn/utils/validation.py:760: DataConversionWarning: A column-vector y was passed when a 1d array was expected. Please change the shape of y to (n_samples, ), for example using ravel().\n",
            "  y = column_or_1d(y, warn=True)\n"
          ],
          "name": "stderr"
        },
        {
          "output_type": "stream",
          "text": [
            "[CV] ................ C=0.7000000000000001, score=0.999, total=   7.3s\n",
            "[CV] C=0.7000000000000001 ............................................\n"
          ],
          "name": "stdout"
        },
        {
          "output_type": "stream",
          "text": [
            "/usr/local/lib/python3.7/dist-packages/sklearn/utils/validation.py:760: DataConversionWarning: A column-vector y was passed when a 1d array was expected. Please change the shape of y to (n_samples, ), for example using ravel().\n",
            "  y = column_or_1d(y, warn=True)\n"
          ],
          "name": "stderr"
        },
        {
          "output_type": "stream",
          "text": [
            "[CV] ................ C=0.7000000000000001, score=0.999, total=  10.9s\n",
            "[CV] C=0.7000000000000001 ............................................\n"
          ],
          "name": "stdout"
        },
        {
          "output_type": "stream",
          "text": [
            "/usr/local/lib/python3.7/dist-packages/sklearn/utils/validation.py:760: DataConversionWarning: A column-vector y was passed when a 1d array was expected. Please change the shape of y to (n_samples, ), for example using ravel().\n",
            "  y = column_or_1d(y, warn=True)\n"
          ],
          "name": "stderr"
        },
        {
          "output_type": "stream",
          "text": [
            "[CV] ................ C=0.7000000000000001, score=0.999, total=   8.9s\n",
            "[CV] C=0.7000000000000001 ............................................\n"
          ],
          "name": "stdout"
        },
        {
          "output_type": "stream",
          "text": [
            "/usr/local/lib/python3.7/dist-packages/sklearn/utils/validation.py:760: DataConversionWarning: A column-vector y was passed when a 1d array was expected. Please change the shape of y to (n_samples, ), for example using ravel().\n",
            "  y = column_or_1d(y, warn=True)\n"
          ],
          "name": "stderr"
        },
        {
          "output_type": "stream",
          "text": [
            "[CV] ................ C=0.7000000000000001, score=0.999, total=   7.3s\n",
            "[CV] C=0.7000000000000001 ............................................\n"
          ],
          "name": "stdout"
        },
        {
          "output_type": "stream",
          "text": [
            "/usr/local/lib/python3.7/dist-packages/sklearn/utils/validation.py:760: DataConversionWarning: A column-vector y was passed when a 1d array was expected. Please change the shape of y to (n_samples, ), for example using ravel().\n",
            "  y = column_or_1d(y, warn=True)\n"
          ],
          "name": "stderr"
        },
        {
          "output_type": "stream",
          "text": [
            "[CV] ................ C=0.7000000000000001, score=0.999, total=  15.4s\n",
            "[CV] C=0.7000000000000001 ............................................\n"
          ],
          "name": "stdout"
        },
        {
          "output_type": "stream",
          "text": [
            "/usr/local/lib/python3.7/dist-packages/sklearn/utils/validation.py:760: DataConversionWarning: A column-vector y was passed when a 1d array was expected. Please change the shape of y to (n_samples, ), for example using ravel().\n",
            "  y = column_or_1d(y, warn=True)\n"
          ],
          "name": "stderr"
        },
        {
          "output_type": "stream",
          "text": [
            "[CV] ................ C=0.7000000000000001, score=0.999, total=  11.1s\n",
            "[CV] C=0.7000000000000001 ............................................\n"
          ],
          "name": "stdout"
        },
        {
          "output_type": "stream",
          "text": [
            "/usr/local/lib/python3.7/dist-packages/sklearn/utils/validation.py:760: DataConversionWarning: A column-vector y was passed when a 1d array was expected. Please change the shape of y to (n_samples, ), for example using ravel().\n",
            "  y = column_or_1d(y, warn=True)\n"
          ],
          "name": "stderr"
        },
        {
          "output_type": "stream",
          "text": [
            "[CV] ................ C=0.7000000000000001, score=0.999, total=   9.0s\n",
            "[CV] C=0.7000000000000001 ............................................\n"
          ],
          "name": "stdout"
        },
        {
          "output_type": "stream",
          "text": [
            "/usr/local/lib/python3.7/dist-packages/sklearn/utils/validation.py:760: DataConversionWarning: A column-vector y was passed when a 1d array was expected. Please change the shape of y to (n_samples, ), for example using ravel().\n",
            "  y = column_or_1d(y, warn=True)\n"
          ],
          "name": "stderr"
        },
        {
          "output_type": "stream",
          "text": [
            "[CV] ................ C=0.7000000000000001, score=0.999, total=   8.3s\n",
            "[CV] C=0.7000000000000001 ............................................\n"
          ],
          "name": "stdout"
        },
        {
          "output_type": "stream",
          "text": [
            "/usr/local/lib/python3.7/dist-packages/sklearn/utils/validation.py:760: DataConversionWarning: A column-vector y was passed when a 1d array was expected. Please change the shape of y to (n_samples, ), for example using ravel().\n",
            "  y = column_or_1d(y, warn=True)\n"
          ],
          "name": "stderr"
        },
        {
          "output_type": "stream",
          "text": [
            "[CV] ................ C=0.7000000000000001, score=0.999, total=   7.9s\n",
            "[CV] C=0.8 ...........................................................\n"
          ],
          "name": "stdout"
        },
        {
          "output_type": "stream",
          "text": [
            "/usr/local/lib/python3.7/dist-packages/sklearn/utils/validation.py:760: DataConversionWarning: A column-vector y was passed when a 1d array was expected. Please change the shape of y to (n_samples, ), for example using ravel().\n",
            "  y = column_or_1d(y, warn=True)\n"
          ],
          "name": "stderr"
        },
        {
          "output_type": "stream",
          "text": [
            "[CV] ............................... C=0.8, score=0.999, total=  10.9s\n",
            "[CV] C=0.8 ...........................................................\n"
          ],
          "name": "stdout"
        },
        {
          "output_type": "stream",
          "text": [
            "/usr/local/lib/python3.7/dist-packages/sklearn/utils/validation.py:760: DataConversionWarning: A column-vector y was passed when a 1d array was expected. Please change the shape of y to (n_samples, ), for example using ravel().\n",
            "  y = column_or_1d(y, warn=True)\n"
          ],
          "name": "stderr"
        },
        {
          "output_type": "stream",
          "text": [
            "[CV] ............................... C=0.8, score=0.999, total=  12.7s\n",
            "[CV] C=0.8 ...........................................................\n"
          ],
          "name": "stdout"
        },
        {
          "output_type": "stream",
          "text": [
            "/usr/local/lib/python3.7/dist-packages/sklearn/utils/validation.py:760: DataConversionWarning: A column-vector y was passed when a 1d array was expected. Please change the shape of y to (n_samples, ), for example using ravel().\n",
            "  y = column_or_1d(y, warn=True)\n"
          ],
          "name": "stderr"
        },
        {
          "output_type": "stream",
          "text": [
            "[CV] ............................... C=0.8, score=0.999, total=   8.1s\n",
            "[CV] C=0.8 ...........................................................\n"
          ],
          "name": "stdout"
        },
        {
          "output_type": "stream",
          "text": [
            "/usr/local/lib/python3.7/dist-packages/sklearn/utils/validation.py:760: DataConversionWarning: A column-vector y was passed when a 1d array was expected. Please change the shape of y to (n_samples, ), for example using ravel().\n",
            "  y = column_or_1d(y, warn=True)\n"
          ],
          "name": "stderr"
        },
        {
          "output_type": "stream",
          "text": [
            "[CV] ............................... C=0.8, score=0.999, total=   8.2s\n",
            "[CV] C=0.8 ...........................................................\n"
          ],
          "name": "stdout"
        },
        {
          "output_type": "stream",
          "text": [
            "/usr/local/lib/python3.7/dist-packages/sklearn/utils/validation.py:760: DataConversionWarning: A column-vector y was passed when a 1d array was expected. Please change the shape of y to (n_samples, ), for example using ravel().\n",
            "  y = column_or_1d(y, warn=True)\n"
          ],
          "name": "stderr"
        },
        {
          "output_type": "stream",
          "text": [
            "[CV] ............................... C=0.8, score=0.999, total=  16.4s\n",
            "[CV] C=0.8 ...........................................................\n"
          ],
          "name": "stdout"
        },
        {
          "output_type": "stream",
          "text": [
            "/usr/local/lib/python3.7/dist-packages/sklearn/utils/validation.py:760: DataConversionWarning: A column-vector y was passed when a 1d array was expected. Please change the shape of y to (n_samples, ), for example using ravel().\n",
            "  y = column_or_1d(y, warn=True)\n"
          ],
          "name": "stderr"
        },
        {
          "output_type": "stream",
          "text": [
            "[CV] ............................... C=0.8, score=0.999, total=   8.3s\n",
            "[CV] C=0.8 ...........................................................\n"
          ],
          "name": "stdout"
        },
        {
          "output_type": "stream",
          "text": [
            "/usr/local/lib/python3.7/dist-packages/sklearn/utils/validation.py:760: DataConversionWarning: A column-vector y was passed when a 1d array was expected. Please change the shape of y to (n_samples, ), for example using ravel().\n",
            "  y = column_or_1d(y, warn=True)\n"
          ],
          "name": "stderr"
        },
        {
          "output_type": "stream",
          "text": [
            "[CV] ............................... C=0.8, score=0.999, total=  10.5s\n",
            "[CV] C=0.8 ...........................................................\n"
          ],
          "name": "stdout"
        },
        {
          "output_type": "stream",
          "text": [
            "/usr/local/lib/python3.7/dist-packages/sklearn/utils/validation.py:760: DataConversionWarning: A column-vector y was passed when a 1d array was expected. Please change the shape of y to (n_samples, ), for example using ravel().\n",
            "  y = column_or_1d(y, warn=True)\n"
          ],
          "name": "stderr"
        },
        {
          "output_type": "stream",
          "text": [
            "[CV] ............................... C=0.8, score=0.999, total=   7.9s\n",
            "[CV] C=0.8 ...........................................................\n"
          ],
          "name": "stdout"
        },
        {
          "output_type": "stream",
          "text": [
            "/usr/local/lib/python3.7/dist-packages/sklearn/utils/validation.py:760: DataConversionWarning: A column-vector y was passed when a 1d array was expected. Please change the shape of y to (n_samples, ), for example using ravel().\n",
            "  y = column_or_1d(y, warn=True)\n"
          ],
          "name": "stderr"
        },
        {
          "output_type": "stream",
          "text": [
            "[CV] ............................... C=0.8, score=0.999, total=   6.3s\n",
            "[CV] C=0.8 ...........................................................\n"
          ],
          "name": "stdout"
        },
        {
          "output_type": "stream",
          "text": [
            "/usr/local/lib/python3.7/dist-packages/sklearn/utils/validation.py:760: DataConversionWarning: A column-vector y was passed when a 1d array was expected. Please change the shape of y to (n_samples, ), for example using ravel().\n",
            "  y = column_or_1d(y, warn=True)\n"
          ],
          "name": "stderr"
        },
        {
          "output_type": "stream",
          "text": [
            "[CV] ............................... C=0.8, score=0.999, total=  15.8s\n",
            "[CV] C=0.9 ...........................................................\n"
          ],
          "name": "stdout"
        },
        {
          "output_type": "stream",
          "text": [
            "/usr/local/lib/python3.7/dist-packages/sklearn/utils/validation.py:760: DataConversionWarning: A column-vector y was passed when a 1d array was expected. Please change the shape of y to (n_samples, ), for example using ravel().\n",
            "  y = column_or_1d(y, warn=True)\n"
          ],
          "name": "stderr"
        },
        {
          "output_type": "stream",
          "text": [
            "[CV] ............................... C=0.9, score=0.999, total=   8.3s\n",
            "[CV] C=0.9 ...........................................................\n"
          ],
          "name": "stdout"
        },
        {
          "output_type": "stream",
          "text": [
            "/usr/local/lib/python3.7/dist-packages/sklearn/utils/validation.py:760: DataConversionWarning: A column-vector y was passed when a 1d array was expected. Please change the shape of y to (n_samples, ), for example using ravel().\n",
            "  y = column_or_1d(y, warn=True)\n"
          ],
          "name": "stderr"
        },
        {
          "output_type": "stream",
          "text": [
            "[CV] ............................... C=0.9, score=0.999, total=   7.3s\n",
            "[CV] C=0.9 ...........................................................\n"
          ],
          "name": "stdout"
        },
        {
          "output_type": "stream",
          "text": [
            "/usr/local/lib/python3.7/dist-packages/sklearn/utils/validation.py:760: DataConversionWarning: A column-vector y was passed when a 1d array was expected. Please change the shape of y to (n_samples, ), for example using ravel().\n",
            "  y = column_or_1d(y, warn=True)\n"
          ],
          "name": "stderr"
        },
        {
          "output_type": "stream",
          "text": [
            "[CV] ............................... C=0.9, score=0.999, total=  11.0s\n",
            "[CV] C=0.9 ...........................................................\n"
          ],
          "name": "stdout"
        },
        {
          "output_type": "stream",
          "text": [
            "/usr/local/lib/python3.7/dist-packages/sklearn/utils/validation.py:760: DataConversionWarning: A column-vector y was passed when a 1d array was expected. Please change the shape of y to (n_samples, ), for example using ravel().\n",
            "  y = column_or_1d(y, warn=True)\n"
          ],
          "name": "stderr"
        },
        {
          "output_type": "stream",
          "text": [
            "[CV] ............................... C=0.9, score=0.999, total=   8.2s\n",
            "[CV] C=0.9 ...........................................................\n"
          ],
          "name": "stdout"
        },
        {
          "output_type": "stream",
          "text": [
            "/usr/local/lib/python3.7/dist-packages/sklearn/utils/validation.py:760: DataConversionWarning: A column-vector y was passed when a 1d array was expected. Please change the shape of y to (n_samples, ), for example using ravel().\n",
            "  y = column_or_1d(y, warn=True)\n"
          ],
          "name": "stderr"
        },
        {
          "output_type": "stream",
          "text": [
            "[CV] ............................... C=0.9, score=0.998, total=   3.2s\n",
            "[CV] C=0.9 ...........................................................\n"
          ],
          "name": "stdout"
        },
        {
          "output_type": "stream",
          "text": [
            "/usr/local/lib/python3.7/dist-packages/sklearn/utils/validation.py:760: DataConversionWarning: A column-vector y was passed when a 1d array was expected. Please change the shape of y to (n_samples, ), for example using ravel().\n",
            "  y = column_or_1d(y, warn=True)\n"
          ],
          "name": "stderr"
        },
        {
          "output_type": "stream",
          "text": [
            "[CV] ............................... C=0.9, score=0.999, total=  17.1s\n",
            "[CV] C=0.9 ...........................................................\n"
          ],
          "name": "stdout"
        },
        {
          "output_type": "stream",
          "text": [
            "/usr/local/lib/python3.7/dist-packages/sklearn/utils/validation.py:760: DataConversionWarning: A column-vector y was passed when a 1d array was expected. Please change the shape of y to (n_samples, ), for example using ravel().\n",
            "  y = column_or_1d(y, warn=True)\n"
          ],
          "name": "stderr"
        },
        {
          "output_type": "stream",
          "text": [
            "[CV] ............................... C=0.9, score=0.999, total=  14.1s\n",
            "[CV] C=0.9 ...........................................................\n"
          ],
          "name": "stdout"
        },
        {
          "output_type": "stream",
          "text": [
            "/usr/local/lib/python3.7/dist-packages/sklearn/utils/validation.py:760: DataConversionWarning: A column-vector y was passed when a 1d array was expected. Please change the shape of y to (n_samples, ), for example using ravel().\n",
            "  y = column_or_1d(y, warn=True)\n"
          ],
          "name": "stderr"
        },
        {
          "output_type": "stream",
          "text": [
            "[CV] ............................... C=0.9, score=0.999, total=   9.1s\n",
            "[CV] C=0.9 ...........................................................\n"
          ],
          "name": "stdout"
        },
        {
          "output_type": "stream",
          "text": [
            "/usr/local/lib/python3.7/dist-packages/sklearn/utils/validation.py:760: DataConversionWarning: A column-vector y was passed when a 1d array was expected. Please change the shape of y to (n_samples, ), for example using ravel().\n",
            "  y = column_or_1d(y, warn=True)\n"
          ],
          "name": "stderr"
        },
        {
          "output_type": "stream",
          "text": [
            "[CV] ............................... C=0.9, score=0.999, total=   9.0s\n",
            "[CV] C=0.9 ...........................................................\n"
          ],
          "name": "stdout"
        },
        {
          "output_type": "stream",
          "text": [
            "/usr/local/lib/python3.7/dist-packages/sklearn/utils/validation.py:760: DataConversionWarning: A column-vector y was passed when a 1d array was expected. Please change the shape of y to (n_samples, ), for example using ravel().\n",
            "  y = column_or_1d(y, warn=True)\n"
          ],
          "name": "stderr"
        },
        {
          "output_type": "stream",
          "text": [
            "[CV] ............................... C=0.9, score=0.999, total=  14.9s\n",
            "[CV] C=1.0 ...........................................................\n"
          ],
          "name": "stdout"
        },
        {
          "output_type": "stream",
          "text": [
            "/usr/local/lib/python3.7/dist-packages/sklearn/utils/validation.py:760: DataConversionWarning: A column-vector y was passed when a 1d array was expected. Please change the shape of y to (n_samples, ), for example using ravel().\n",
            "  y = column_or_1d(y, warn=True)\n"
          ],
          "name": "stderr"
        },
        {
          "output_type": "stream",
          "text": [
            "[CV] ............................... C=1.0, score=0.999, total=   9.6s\n",
            "[CV] C=1.0 ...........................................................\n"
          ],
          "name": "stdout"
        },
        {
          "output_type": "stream",
          "text": [
            "/usr/local/lib/python3.7/dist-packages/sklearn/utils/validation.py:760: DataConversionWarning: A column-vector y was passed when a 1d array was expected. Please change the shape of y to (n_samples, ), for example using ravel().\n",
            "  y = column_or_1d(y, warn=True)\n"
          ],
          "name": "stderr"
        },
        {
          "output_type": "stream",
          "text": [
            "[CV] ............................... C=1.0, score=0.999, total=  13.6s\n",
            "[CV] C=1.0 ...........................................................\n"
          ],
          "name": "stdout"
        },
        {
          "output_type": "stream",
          "text": [
            "/usr/local/lib/python3.7/dist-packages/sklearn/utils/validation.py:760: DataConversionWarning: A column-vector y was passed when a 1d array was expected. Please change the shape of y to (n_samples, ), for example using ravel().\n",
            "  y = column_or_1d(y, warn=True)\n"
          ],
          "name": "stderr"
        },
        {
          "output_type": "stream",
          "text": [
            "[CV] ............................... C=1.0, score=0.999, total=  13.9s\n",
            "[CV] C=1.0 ...........................................................\n"
          ],
          "name": "stdout"
        },
        {
          "output_type": "stream",
          "text": [
            "/usr/local/lib/python3.7/dist-packages/sklearn/utils/validation.py:760: DataConversionWarning: A column-vector y was passed when a 1d array was expected. Please change the shape of y to (n_samples, ), for example using ravel().\n",
            "  y = column_or_1d(y, warn=True)\n"
          ],
          "name": "stderr"
        },
        {
          "output_type": "stream",
          "text": [
            "[CV] ............................... C=1.0, score=0.999, total=   9.0s\n",
            "[CV] C=1.0 ...........................................................\n"
          ],
          "name": "stdout"
        },
        {
          "output_type": "stream",
          "text": [
            "/usr/local/lib/python3.7/dist-packages/sklearn/utils/validation.py:760: DataConversionWarning: A column-vector y was passed when a 1d array was expected. Please change the shape of y to (n_samples, ), for example using ravel().\n",
            "  y = column_or_1d(y, warn=True)\n"
          ],
          "name": "stderr"
        },
        {
          "output_type": "stream",
          "text": [
            "[CV] ............................... C=1.0, score=0.998, total=   3.3s\n",
            "[CV] C=1.0 ...........................................................\n"
          ],
          "name": "stdout"
        },
        {
          "output_type": "stream",
          "text": [
            "/usr/local/lib/python3.7/dist-packages/sklearn/utils/validation.py:760: DataConversionWarning: A column-vector y was passed when a 1d array was expected. Please change the shape of y to (n_samples, ), for example using ravel().\n",
            "  y = column_or_1d(y, warn=True)\n"
          ],
          "name": "stderr"
        },
        {
          "output_type": "stream",
          "text": [
            "[CV] ............................... C=1.0, score=0.999, total=  14.0s\n",
            "[CV] C=1.0 ...........................................................\n"
          ],
          "name": "stdout"
        },
        {
          "output_type": "stream",
          "text": [
            "/usr/local/lib/python3.7/dist-packages/sklearn/utils/validation.py:760: DataConversionWarning: A column-vector y was passed when a 1d array was expected. Please change the shape of y to (n_samples, ), for example using ravel().\n",
            "  y = column_or_1d(y, warn=True)\n"
          ],
          "name": "stderr"
        },
        {
          "output_type": "stream",
          "text": [
            "[CV] ............................... C=1.0, score=0.999, total=   7.6s\n",
            "[CV] C=1.0 ...........................................................\n"
          ],
          "name": "stdout"
        },
        {
          "output_type": "stream",
          "text": [
            "/usr/local/lib/python3.7/dist-packages/sklearn/utils/validation.py:760: DataConversionWarning: A column-vector y was passed when a 1d array was expected. Please change the shape of y to (n_samples, ), for example using ravel().\n",
            "  y = column_or_1d(y, warn=True)\n"
          ],
          "name": "stderr"
        },
        {
          "output_type": "stream",
          "text": [
            "[CV] ............................... C=1.0, score=0.999, total=  12.1s\n",
            "[CV] C=1.0 ...........................................................\n"
          ],
          "name": "stdout"
        },
        {
          "output_type": "stream",
          "text": [
            "/usr/local/lib/python3.7/dist-packages/sklearn/utils/validation.py:760: DataConversionWarning: A column-vector y was passed when a 1d array was expected. Please change the shape of y to (n_samples, ), for example using ravel().\n",
            "  y = column_or_1d(y, warn=True)\n"
          ],
          "name": "stderr"
        },
        {
          "output_type": "stream",
          "text": [
            "[CV] ............................... C=1.0, score=0.999, total=  18.0s\n",
            "[CV] C=1.0 ...........................................................\n"
          ],
          "name": "stdout"
        },
        {
          "output_type": "stream",
          "text": [
            "/usr/local/lib/python3.7/dist-packages/sklearn/utils/validation.py:760: DataConversionWarning: A column-vector y was passed when a 1d array was expected. Please change the shape of y to (n_samples, ), for example using ravel().\n",
            "  y = column_or_1d(y, warn=True)\n"
          ],
          "name": "stderr"
        },
        {
          "output_type": "stream",
          "text": [
            "[CV] ............................... C=1.0, score=0.999, total=  13.2s\n"
          ],
          "name": "stdout"
        },
        {
          "output_type": "stream",
          "text": [
            "[Parallel(n_jobs=1)]: Done 100 out of 100 | elapsed: 18.0min finished\n",
            "/usr/local/lib/python3.7/dist-packages/sklearn/utils/validation.py:760: DataConversionWarning: A column-vector y was passed when a 1d array was expected. Please change the shape of y to (n_samples, ), for example using ravel().\n",
            "  y = column_or_1d(y, warn=True)\n"
          ],
          "name": "stderr"
        },
        {
          "output_type": "execute_result",
          "data": {
            "text/plain": [
              "GridSearchCV(cv=10, error_score=nan,\n",
              "             estimator=LogisticRegression(C=1.0, class_weight=None, dual=False,\n",
              "                                          fit_intercept=True,\n",
              "                                          intercept_scaling=1, l1_ratio=None,\n",
              "                                          max_iter=1000, multi_class='auto',\n",
              "                                          n_jobs=None, penalty='l2',\n",
              "                                          random_state=None, solver='lbfgs',\n",
              "                                          tol=0.0001, verbose=0,\n",
              "                                          warm_start=False),\n",
              "             iid='deprecated', n_jobs=None,\n",
              "             param_grid={'C': array([0.1, 0.2, 0.3, 0.4, 0.5, 0.6, 0.7, 0.8, 0.9, 1. ])},\n",
              "             pre_dispatch='2*n_jobs', refit=True, return_train_score=False,\n",
              "             scoring=None, verbose=3)"
            ]
          },
          "metadata": {
            "tags": []
          },
          "execution_count": 87
        }
      ]
    },
    {
      "cell_type": "code",
      "metadata": {
        "colab": {
          "base_uri": "https://localhost:8080/"
        },
        "id": "W8Gx7-XPSvnG",
        "outputId": "01fb02eb-32f1-474c-8a9b-7f9a6b99f7ed"
      },
      "source": [
        "# %%pycodestyle\n",
        "best_C = search.best_params_['C']\n",
        "print(best_C)\n",
        "LR = LogisticRegression(C=best_C, max_iter= 1000)\n",
        "LR.fit(X_train, y_train)\n",
        "y_pred = LR.predict(X_test)"
      ],
      "execution_count": null,
      "outputs": [
        {
          "output_type": "stream",
          "text": [
            "0.1\n"
          ],
          "name": "stdout"
        },
        {
          "output_type": "stream",
          "text": [
            "/usr/local/lib/python3.7/dist-packages/sklearn/utils/validation.py:760: DataConversionWarning: A column-vector y was passed when a 1d array was expected. Please change the shape of y to (n_samples, ), for example using ravel().\n",
            "  y = column_or_1d(y, warn=True)\n"
          ],
          "name": "stderr"
        }
      ]
    },
    {
      "cell_type": "markdown",
      "metadata": {
        "id": "frj-DhOKUiXP"
      },
      "source": [
        "## Confustion matrix for LR not Resampling"
      ]
    },
    {
      "cell_type": "code",
      "metadata": {
        "colab": {
          "base_uri": "https://localhost:8080/",
          "height": 591
        },
        "id": "OnxbyZ32O_dV",
        "outputId": "240a5b5f-3211-435a-ccd9-cc2d699ec41a"
      },
      "source": [
        "# %%pycodestyle\n",
        "fig, ax = plt.subplots(figsize=(10, 10))\n",
        "ax.set_title('Confusion Matrix for LR without resampling')\n",
        "plot_confusion_matrix(LR, X_test, y_test, cmap='Blues', ax=ax, values_format='d')"
      ],
      "execution_count": null,
      "outputs": [
        {
          "output_type": "execute_result",
          "data": {
            "text/plain": [
              "<sklearn.metrics._plot.confusion_matrix.ConfusionMatrixDisplay at 0x7fde25322dd0>"
            ]
          },
          "metadata": {
            "tags": []
          },
          "execution_count": 89
        },
        {
          "output_type": "display_data",
          "data": {
            "image/png": "[encoded data removed]",
            "text/plain": [
              "<Figure size 720x720 with 2 Axes>"
            ]
          },
          "metadata": {
            "tags": [],
            "needs_background": "light"
          }
        }
      ]
    },
    {
      "cell_type": "markdown",
      "metadata": {
        "id": "N62GAf69U0Uv"
      },
      "source": [
        "## Precision, Recall, F1 score for LR not Resampling"
      ]
    },
    {
      "cell_type": "markdown",
      "metadata": {
        "id": "v-9jNejzGdBR"
      },
      "source": [
        "### Precision"
      ]
    },
    {
      "cell_type": "code",
      "metadata": {
        "colab": {
          "base_uri": "https://localhost:8080/"
        },
        "id": "JJa8eFt1Qk3K",
        "outputId": "0281086e-837e-41f7-95ad-1089c3ff13d1"
      },
      "source": [
        "precision_LR_no_resampling_1 = round(precision_score(y_test, y_pred),5)\n",
        "print(precision_LR_no_resampling_1)\n",
        "precision_LR_no_resampling_0 = round(precision_score(y_test, y_pred, pos_label=0),5)\n",
        "print(precision_LR_no_resampling_0)\n",
        "precision_LR_no_resampling_avg = round(precision_score(y_test, y_pred, average='micro'),5)\n",
        "print(precision_LR_no_resampling_avg)"
      ],
      "execution_count": null,
      "outputs": [
        {
          "output_type": "stream",
          "text": [
            "0.71329\n",
            "0.99954\n",
            "0.99906\n"
          ],
          "name": "stdout"
        }
      ]
    },
    {
      "cell_type": "markdown",
      "metadata": {
        "id": "7-w9Gs8FGfP_"
      },
      "source": [
        "### Recall"
      ]
    },
    {
      "cell_type": "code",
      "metadata": {
        "colab": {
          "base_uri": "https://localhost:8080/"
        },
        "id": "NidM2AkVYAJo",
        "outputId": "9c7328eb-31b8-45af-b0ea-fd2209dc32ff"
      },
      "source": [
        "recall_LR_no_resampling_1 = round(recall_score(y_test, y_pred),5)\n",
        "print(recall_LR_no_resampling_1)\n",
        "recall_LR_no_resampling_0 = round(recall_score(y_test, y_pred, pos_label=0),5)\n",
        "print(recall_LR_no_resampling_0)\n",
        "recall_LR_no_resampling_avg = round(recall_score(y_test, y_pred, average='micro'),5)\n",
        "print(recall_LR_no_resampling_avg)"
      ],
      "execution_count": null,
      "outputs": [
        {
          "output_type": "stream",
          "text": [
            "0.7234\n",
            "0.99952\n",
            "0.99906\n"
          ],
          "name": "stdout"
        }
      ]
    },
    {
      "cell_type": "markdown",
      "metadata": {
        "id": "dq6aMLCgGjY4"
      },
      "source": [
        "### F1 Score"
      ]
    },
    {
      "cell_type": "code",
      "metadata": {
        "colab": {
          "base_uri": "https://localhost:8080/"
        },
        "id": "grt1D-guYN3l",
        "outputId": "07261775-3c11-4545-9e27-ce2dcf8affbf"
      },
      "source": [
        "f1_LR_no_resampling_1 = round(f1_score(y_test, y_pred),5)\n",
        "print(f1_LR_no_resampling_1)\n",
        "f1_LR_no_resampling_0 = round(f1_score(y_test, y_pred, pos_label=0),5)\n",
        "print(f1_LR_no_resampling_0)\n",
        "f1_LR_no_resampling_avg = round(f1_score(y_test, y_pred, average='micro'),5)\n",
        "print(f1_LR_no_resampling_avg)"
      ],
      "execution_count": null,
      "outputs": [
        {
          "output_type": "stream",
          "text": [
            "0.71831\n",
            "0.99953\n",
            "0.99906\n"
          ],
          "name": "stdout"
        }
      ]
    },
    {
      "cell_type": "markdown",
      "metadata": {
        "id": "FQeo2ZPQGlhQ"
      },
      "source": [
        "### Classification report"
      ]
    },
    {
      "cell_type": "code",
      "metadata": {
        "colab": {
          "base_uri": "https://localhost:8080/"
        },
        "id": "YxeL3B2aYZZF",
        "outputId": "ec189db6-fffb-4b54-9a1a-4d9ff0130f97"
      },
      "source": [
        "target_names = ['Class 0', 'Class 1']\n",
        "print(classification_report(y_test, y_pred, target_names=target_names, digits=5))"
      ],
      "execution_count": null,
      "outputs": [
        {
          "output_type": "stream",
          "text": [
            "              precision    recall  f1-score   support\n",
            "\n",
            "     Class 0    0.99954   0.99952   0.99953     85302\n",
            "     Class 1    0.71329   0.72340   0.71831       141\n",
            "\n",
            "    accuracy                        0.99906     85443\n",
            "   macro avg    0.85641   0.86146   0.85892     85443\n",
            "weighted avg    0.99907   0.99906   0.99907     85443\n",
            "\n"
          ],
          "name": "stdout"
        }
      ]
    },
    {
      "cell_type": "markdown",
      "metadata": {
        "id": "aOEQFXDMGpos"
      },
      "source": [
        "## PR Curve"
      ]
    },
    {
      "cell_type": "code",
      "metadata": {
        "colab": {
          "base_uri": "https://localhost:8080/",
          "height": 651
        },
        "id": "NqIOjOKyfsvT",
        "outputId": "f164b86e-687a-4788-ebdf-ff3c87967d63"
      },
      "source": [
        "fig, ax = plt.subplots(figsize=(10, 10))\n",
        "ax.set_title('Precision-Recall Curve for LR without resampling')\n",
        "plot_precision_recall_curve(LR, X_test, y_test, ax=ax)"
      ],
      "execution_count": null,
      "outputs": [
        {
          "output_type": "execute_result",
          "data": {
            "text/plain": [
              "<sklearn.metrics._plot.precision_recall_curve.PrecisionRecallDisplay at 0x7fde2527b810>"
            ]
          },
          "metadata": {
            "tags": []
          },
          "execution_count": 94
        },
        {
          "output_type": "display_data",
          "data": {
            "image/png": "[encoded data removed]",
            "text/plain": [
              "<Figure size 720x720 with 1 Axes>"
            ]
          },
          "metadata": {
            "tags": [],
            "needs_background": "light"
          }
        }
      ]
    },
    {
      "cell_type": "markdown",
      "metadata": {
        "id": "B8z3uJMdGslx"
      },
      "source": [
        "## ROC Curve"
      ]
    },
    {
      "cell_type": "code",
      "metadata": {
        "colab": {
          "base_uri": "https://localhost:8080/",
          "height": 651
        },
        "id": "7YlcLngSA0v3",
        "outputId": "41c8e07d-bd98-4f55-f4cb-81f97ab3ea7c"
      },
      "source": [
        "fig, ax = plt.subplots(figsize=(10, 10))\n",
        "ax.set_title('ROC Curve for LR without resampling')\n",
        "plot_roc_curve(LR, X_test, y_test, ax=ax)"
      ],
      "execution_count": null,
      "outputs": [
        {
          "output_type": "execute_result",
          "data": {
            "text/plain": [
              "<sklearn.metrics._plot.roc_curve.RocCurveDisplay at 0x7fde25184fd0>"
            ]
          },
          "metadata": {
            "tags": []
          },
          "execution_count": 95
        },
        {
          "output_type": "display_data",
          "data": {
            "image/png": "[encoded data removed]",
            "text/plain": [
              "<Figure size 720x720 with 1 Axes>"
            ]
          },
          "metadata": {
            "tags": [],
            "needs_background": "light"
          }
        }
      ]
    },
    {
      "cell_type": "markdown",
      "metadata": {
        "id": "J8hWMt2gJZS5"
      },
      "source": [
        "# Logistic Regression with Random Oversampling"
      ]
    },
    {
      "cell_type": "markdown",
      "metadata": {
        "id": "jw7oyX1I84qu"
      },
      "source": [
        "## Parameter Tuning using Cross-Validation"
      ]
    },
    {
      "cell_type": "code",
      "metadata": {
        "id": "CXaLihfF8qsV"
      },
      "source": [
        "clf = LogisticRegression(max_iter=1000)\n",
        "search_over = GridSearchCV(clf,PARAM, cv=10, verbose=3)"
      ],
      "execution_count": null,
      "outputs": []
    },
    {
      "cell_type": "code",
      "metadata": {
        "colab": {
          "base_uri": "https://localhost:8080/"
        },
        "id": "CobvTaCCA4Wn",
        "outputId": "126af33e-b92c-4a82-82ba-37866ba606fc"
      },
      "source": [
        "search_over.fit(X_over, y_over)"
      ],
      "execution_count": null,
      "outputs": [
        {
          "output_type": "stream",
          "text": [
            "Fitting 10 folds for each of 10 candidates, totalling 100 fits\n",
            "[CV] C=0.1 ...........................................................\n"
          ],
          "name": "stdout"
        },
        {
          "output_type": "stream",
          "text": [
            "[Parallel(n_jobs=1)]: Using backend SequentialBackend with 1 concurrent workers.\n"
          ],
          "name": "stderr"
        },
        {
          "output_type": "stream",
          "text": [
            "[CV] ............................... C=0.1, score=0.919, total=   3.0s\n",
            "[CV] C=0.1 ...........................................................\n"
          ],
          "name": "stdout"
        },
        {
          "output_type": "stream",
          "text": [
            "[Parallel(n_jobs=1)]: Done   1 out of   1 | elapsed:    3.0s remaining:    0.0s\n"
          ],
          "name": "stderr"
        },
        {
          "output_type": "stream",
          "text": [
            "[CV] ............................... C=0.1, score=0.941, total=   4.7s\n",
            "[CV] C=0.1 ...........................................................\n"
          ],
          "name": "stdout"
        },
        {
          "output_type": "stream",
          "text": [
            "[Parallel(n_jobs=1)]: Done   2 out of   2 | elapsed:    7.7s remaining:    0.0s\n"
          ],
          "name": "stderr"
        },
        {
          "output_type": "stream",
          "text": [
            "[CV] ............................... C=0.1, score=0.937, total=   4.8s\n",
            "[CV] C=0.1 ...........................................................\n",
            "[CV] ............................... C=0.1, score=0.944, total=   8.2s\n",
            "[CV] C=0.1 ...........................................................\n",
            "[CV] ............................... C=0.1, score=0.920, total=   3.0s\n",
            "[CV] C=0.1 ...........................................................\n",
            "[CV] ............................... C=0.1, score=0.944, total=  13.9s\n",
            "[CV] C=0.1 ...........................................................\n",
            "[CV] ............................... C=0.1, score=0.939, total=   4.7s\n",
            "[CV] C=0.1 ...........................................................\n",
            "[CV] ............................... C=0.1, score=0.946, total=   7.4s\n",
            "[CV] C=0.1 ...........................................................\n",
            "[CV] ............................... C=0.1, score=0.946, total=   8.5s\n",
            "[CV] C=0.1 ...........................................................\n",
            "[CV] ............................... C=0.1, score=0.937, total=   4.6s\n",
            "[CV] C=0.2 ...........................................................\n",
            "[CV] ............................... C=0.2, score=0.919, total=   3.0s\n",
            "[CV] C=0.2 ...........................................................\n",
            "[CV] ............................... C=0.2, score=0.945, total=   7.5s\n",
            "[CV] C=0.2 ...........................................................\n",
            "[CV] ............................... C=0.2, score=0.937, total=   4.8s\n",
            "[CV] C=0.2 ...........................................................\n",
            "[CV] ............................... C=0.2, score=0.938, total=   4.9s\n",
            "[CV] C=0.2 ...........................................................\n",
            "[CV] ............................... C=0.2, score=0.920, total=   3.0s\n",
            "[CV] C=0.2 ...........................................................\n",
            "[CV] ............................... C=0.2, score=0.944, total=   7.4s\n",
            "[CV] C=0.2 ...........................................................\n",
            "[CV] ............................... C=0.2, score=0.939, total=   4.8s\n",
            "[CV] C=0.2 ...........................................................\n",
            "[CV] ............................... C=0.2, score=0.940, total=   4.6s\n",
            "[CV] C=0.2 ...........................................................\n",
            "[CV] ............................... C=0.2, score=0.939, total=   4.8s\n",
            "[CV] C=0.2 ...........................................................\n",
            "[CV] ............................... C=0.2, score=0.944, total=   7.2s\n",
            "[CV] C=0.30000000000000004 ...........................................\n",
            "[CV] ............... C=0.30000000000000004, score=0.919, total=   3.0s\n",
            "[CV] C=0.30000000000000004 ...........................................\n",
            "[CV] ............... C=0.30000000000000004, score=0.945, total=   8.1s\n",
            "[CV] C=0.30000000000000004 ...........................................\n",
            "[CV] ............... C=0.30000000000000004, score=0.944, total=   7.1s\n",
            "[CV] C=0.30000000000000004 ...........................................\n",
            "[CV] ............... C=0.30000000000000004, score=0.938, total=   4.8s\n",
            "[CV] C=0.30000000000000004 ...........................................\n",
            "[CV] ............... C=0.30000000000000004, score=0.920, total=   3.1s\n",
            "[CV] C=0.30000000000000004 ...........................................\n",
            "[CV] ............... C=0.30000000000000004, score=0.944, total=   7.3s\n",
            "[CV] C=0.30000000000000004 ...........................................\n",
            "[CV] ............... C=0.30000000000000004, score=0.946, total=   7.1s\n",
            "[CV] C=0.30000000000000004 ...........................................\n",
            "[CV] ............... C=0.30000000000000004, score=0.940, total=   4.7s\n",
            "[CV] C=0.30000000000000004 ...........................................\n",
            "[CV] ............... C=0.30000000000000004, score=0.939, total=   4.8s\n",
            "[CV] C=0.30000000000000004 ...........................................\n",
            "[CV] ............... C=0.30000000000000004, score=0.937, total=   4.4s\n",
            "[CV] C=0.4 ...........................................................\n",
            "[CV] ............................... C=0.4, score=0.919, total=   3.0s\n",
            "[CV] C=0.4 ...........................................................\n",
            "[CV] ............................... C=0.4, score=0.941, total=   4.7s\n",
            "[CV] C=0.4 ...........................................................\n",
            "[CV] ............................... C=0.4, score=0.937, total=   4.9s\n",
            "[CV] C=0.4 ...........................................................\n",
            "[CV] ............................... C=0.4, score=0.938, total=   4.8s\n",
            "[CV] C=0.4 ...........................................................\n",
            "[CV] ............................... C=0.4, score=0.920, total=   3.0s\n",
            "[CV] C=0.4 ...........................................................\n",
            "[CV] ............................... C=0.4, score=0.944, total=   7.3s\n",
            "[CV] C=0.4 ...........................................................\n",
            "[CV] ............................... C=0.4, score=0.946, total=   7.9s\n",
            "[CV] C=0.4 ...........................................................\n",
            "[CV] ............................... C=0.4, score=0.940, total=   4.6s\n",
            "[CV] C=0.4 ...........................................................\n",
            "[CV] ............................... C=0.4, score=0.939, total=   4.9s\n",
            "[CV] C=0.4 ...........................................................\n",
            "[CV] ............................... C=0.4, score=0.937, total=   4.0s\n",
            "[CV] C=0.5 ...........................................................\n",
            "[CV] ............................... C=0.5, score=0.919, total=   3.0s\n",
            "[CV] C=0.5 ...........................................................\n",
            "[CV] ............................... C=0.5, score=0.941, total=   4.7s\n",
            "[CV] C=0.5 ...........................................................\n",
            "[CV] ............................... C=0.5, score=0.937, total=   4.8s\n",
            "[CV] C=0.5 ...........................................................\n",
            "[CV] ............................... C=0.5, score=0.938, total=   4.8s\n",
            "[CV] C=0.5 ...........................................................\n",
            "[CV] ............................... C=0.5, score=0.920, total=   3.0s\n",
            "[CV] C=0.5 ...........................................................\n",
            "[CV] ............................... C=0.5, score=0.944, total=   9.8s\n",
            "[CV] C=0.5 ...........................................................\n",
            "[CV] ............................... C=0.5, score=0.939, total=   4.8s\n",
            "[CV] C=0.5 ...........................................................\n",
            "[CV] ............................... C=0.5, score=0.940, total=   4.6s\n",
            "[CV] C=0.5 ...........................................................\n",
            "[CV] ............................... C=0.5, score=0.939, total=   5.0s\n",
            "[CV] C=0.5 ...........................................................\n",
            "[CV] ............................... C=0.5, score=0.937, total=   4.0s\n",
            "[CV] C=0.6 ...........................................................\n",
            "[CV] ............................... C=0.6, score=0.919, total=   3.0s\n",
            "[CV] C=0.6 ...........................................................\n",
            "[CV] ............................... C=0.6, score=0.941, total=   4.7s\n",
            "[CV] C=0.6 ...........................................................\n",
            "[CV] ............................... C=0.6, score=0.937, total=   4.8s\n",
            "[CV] C=0.6 ...........................................................\n",
            "[CV] ............................... C=0.6, score=0.938, total=   4.8s\n",
            "[CV] C=0.6 ...........................................................\n",
            "[CV] ............................... C=0.6, score=0.920, total=   3.0s\n",
            "[CV] C=0.6 ...........................................................\n",
            "[CV] ............................... C=0.6, score=0.944, total=   6.5s\n",
            "[CV] C=0.6 ...........................................................\n",
            "[CV] ............................... C=0.6, score=0.939, total=   4.8s\n",
            "[CV] C=0.6 ...........................................................\n",
            "[CV] ............................... C=0.6, score=0.940, total=   4.6s\n",
            "[CV] C=0.6 ...........................................................\n",
            "[CV] ............................... C=0.6, score=0.939, total=   4.9s\n",
            "[CV] C=0.6 ...........................................................\n",
            "[CV] ............................... C=0.6, score=0.937, total=   3.9s\n",
            "[CV] C=0.7000000000000001 ............................................\n",
            "[CV] ................ C=0.7000000000000001, score=0.919, total=   3.0s\n",
            "[CV] C=0.7000000000000001 ............................................\n",
            "[CV] ................ C=0.7000000000000001, score=0.941, total=   4.8s\n",
            "[CV] C=0.7000000000000001 ............................................\n",
            "[CV] ................ C=0.7000000000000001, score=0.947, total=  15.2s\n",
            "[CV] C=0.7000000000000001 ............................................\n",
            "[CV] ................ C=0.7000000000000001, score=0.938, total=   4.8s\n",
            "[CV] C=0.7000000000000001 ............................................\n",
            "[CV] ................ C=0.7000000000000001, score=0.920, total=   3.0s\n",
            "[CV] C=0.7000000000000001 ............................................\n",
            "[CV] ................ C=0.7000000000000001, score=0.944, total=   6.7s\n",
            "[CV] C=0.7000000000000001 ............................................\n",
            "[CV] ................ C=0.7000000000000001, score=0.939, total=   4.8s\n",
            "[CV] C=0.7000000000000001 ............................................\n",
            "[CV] ................ C=0.7000000000000001, score=0.940, total=   4.7s\n",
            "[CV] C=0.7000000000000001 ............................................\n",
            "[CV] ................ C=0.7000000000000001, score=0.939, total=   4.9s\n",
            "[CV] C=0.7000000000000001 ............................................\n",
            "[CV] ................ C=0.7000000000000001, score=0.944, total=   7.0s\n",
            "[CV] C=0.8 ...........................................................\n",
            "[CV] ............................... C=0.8, score=0.919, total=   3.0s\n",
            "[CV] C=0.8 ...........................................................\n",
            "[CV] ............................... C=0.8, score=0.945, total=   6.7s\n",
            "[CV] C=0.8 ...........................................................\n",
            "[CV] ............................... C=0.8, score=0.937, total=   4.9s\n",
            "[CV] C=0.8 ...........................................................\n",
            "[CV] ............................... C=0.8, score=0.938, total=   4.8s\n",
            "[CV] C=0.8 ...........................................................\n",
            "[CV] ............................... C=0.8, score=0.920, total=   3.0s\n",
            "[CV] C=0.8 ...........................................................\n",
            "[CV] ............................... C=0.8, score=0.944, total=   6.5s\n",
            "[CV] C=0.8 ...........................................................\n",
            "[CV] ............................... C=0.8, score=0.939, total=   4.8s\n",
            "[CV] C=0.8 ...........................................................\n",
            "[CV] ............................... C=0.8, score=0.940, total=   4.6s\n",
            "[CV] C=0.8 ...........................................................\n",
            "[CV] ............................... C=0.8, score=0.939, total=   4.8s\n",
            "[CV] C=0.8 ...........................................................\n",
            "[CV] ............................... C=0.8, score=0.945, total=   7.7s\n",
            "[CV] C=0.9 ...........................................................\n",
            "[CV] ............................... C=0.9, score=0.919, total=   3.0s\n",
            "[CV] C=0.9 ...........................................................\n",
            "[CV] ............................... C=0.9, score=0.946, total=  10.0s\n",
            "[CV] C=0.9 ...........................................................\n",
            "[CV] ............................... C=0.9, score=0.937, total=   4.8s\n",
            "[CV] C=0.9 ...........................................................\n",
            "[CV] ............................... C=0.9, score=0.938, total=   4.8s\n",
            "[CV] C=0.9 ...........................................................\n",
            "[CV] ............................... C=0.9, score=0.920, total=   3.0s\n",
            "[CV] C=0.9 ...........................................................\n",
            "[CV] ............................... C=0.9, score=0.944, total=   8.2s\n",
            "[CV] C=0.9 ...........................................................\n",
            "[CV] ............................... C=0.9, score=0.939, total=   4.7s\n",
            "[CV] C=0.9 ...........................................................\n",
            "[CV] ............................... C=0.9, score=0.940, total=   4.7s\n",
            "[CV] C=0.9 ...........................................................\n",
            "[CV] ............................... C=0.9, score=0.939, total=   4.8s\n",
            "[CV] C=0.9 ...........................................................\n",
            "[CV] ............................... C=0.9, score=0.944, total=   6.0s\n",
            "[CV] C=1.0 ...........................................................\n",
            "[CV] ............................... C=1.0, score=0.919, total=   3.0s\n",
            "[CV] C=1.0 ...........................................................\n",
            "[CV] ............................... C=1.0, score=0.941, total=   4.6s\n",
            "[CV] C=1.0 ...........................................................\n",
            "[CV] ............................... C=1.0, score=0.937, total=   4.8s\n",
            "[CV] C=1.0 ...........................................................\n",
            "[CV] ............................... C=1.0, score=0.938, total=   4.8s\n",
            "[CV] C=1.0 ...........................................................\n",
            "[CV] ............................... C=1.0, score=0.920, total=   2.9s\n",
            "[CV] C=1.0 ...........................................................\n",
            "[CV] ............................... C=1.0, score=0.944, total=   6.4s\n",
            "[CV] C=1.0 ...........................................................\n",
            "[CV] ............................... C=1.0, score=0.939, total=   4.7s\n",
            "[CV] C=1.0 ...........................................................\n",
            "[CV] ............................... C=1.0, score=0.940, total=   4.7s\n",
            "[CV] C=1.0 ...........................................................\n",
            "[CV] ............................... C=1.0, score=0.939, total=   4.8s\n",
            "[CV] C=1.0 ...........................................................\n",
            "[CV] ............................... C=1.0, score=0.944, total=   6.6s\n"
          ],
          "name": "stdout"
        },
        {
          "output_type": "stream",
          "text": [
            "[Parallel(n_jobs=1)]: Done 100 out of 100 | elapsed:  8.7min finished\n"
          ],
          "name": "stderr"
        },
        {
          "output_type": "execute_result",
          "data": {
            "text/plain": [
              "GridSearchCV(cv=10, error_score=nan,\n",
              "             estimator=LogisticRegression(C=1.0, class_weight=None, dual=False,\n",
              "                                          fit_intercept=True,\n",
              "                                          intercept_scaling=1, l1_ratio=None,\n",
              "                                          max_iter=1000, multi_class='auto',\n",
              "                                          n_jobs=None, penalty='l2',\n",
              "                                          random_state=None, solver='lbfgs',\n",
              "                                          tol=0.0001, verbose=0,\n",
              "                                          warm_start=False),\n",
              "             iid='deprecated', n_jobs=None,\n",
              "             param_grid={'C': array([0.1, 0.2, 0.3, 0.4, 0.5, 0.6, 0.7, 0.8, 0.9, 1. ])},\n",
              "             pre_dispatch='2*n_jobs', refit=True, return_train_score=False,\n",
              "             scoring=None, verbose=3)"
            ]
          },
          "metadata": {
            "tags": []
          },
          "execution_count": 97
        }
      ]
    },
    {
      "cell_type": "code",
      "metadata": {
        "colab": {
          "base_uri": "https://localhost:8080/"
        },
        "id": "25uwG2EvHbet",
        "outputId": "2f1318e0-066c-4fd5-9acb-07c57f320000"
      },
      "source": [
        "best_C = search_over.best_params_['C']\n",
        "print(best_C)\n",
        "LR_over = LogisticRegression(C=best_C, max_iter= 1000)\n",
        "LR_over.fit(X_over, y_over)\n",
        "y_over_pred = LR_over.predict(X_test)"
      ],
      "execution_count": null,
      "outputs": [
        {
          "output_type": "stream",
          "text": [
            "0.1\n"
          ],
          "name": "stdout"
        }
      ]
    },
    {
      "cell_type": "markdown",
      "metadata": {
        "id": "GFwP5tdUOVNb"
      },
      "source": [
        "## Confusion matrix for LR with Random Oversampling"
      ]
    },
    {
      "cell_type": "code",
      "metadata": {
        "colab": {
          "base_uri": "https://localhost:8080/",
          "height": 591
        },
        "id": "rw0zlxAZHnVB",
        "outputId": "47fe327a-8e53-41fd-e0ca-00de33781a14"
      },
      "source": [
        "fig, ax = plt.subplots(figsize=(10, 10))\n",
        "ax.set_title('Confusion Matrix for LR with Random Oversampling')\n",
        "plot_confusion_matrix(LR_over, X_test, y_test, cmap='Blues', ax=ax, values_format='d')"
      ],
      "execution_count": null,
      "outputs": [
        {
          "output_type": "execute_result",
          "data": {
            "text/plain": [
              "<sklearn.metrics._plot.confusion_matrix.ConfusionMatrixDisplay at 0x7fde2515cbd0>"
            ]
          },
          "metadata": {
            "tags": []
          },
          "execution_count": 99
        },
        {
          "output_type": "display_data",
          "data": {
            "image/png": "[encoded data removed]",
            "text/plain": [
              "<Figure size 720x720 with 2 Axes>"
            ]
          },
          "metadata": {
            "tags": [],
            "needs_background": "light"
          }
        }
      ]
    },
    {
      "cell_type": "markdown",
      "metadata": {
        "id": "4hVzCCnvOUTL"
      },
      "source": [
        "## Precision, Recall, F1 score for LR with Random Oversampling"
      ]
    },
    {
      "cell_type": "markdown",
      "metadata": {
        "id": "uN-_4S3q_g3c"
      },
      "source": [
        "### Precision"
      ]
    },
    {
      "cell_type": "code",
      "metadata": {
        "colab": {
          "base_uri": "https://localhost:8080/"
        },
        "id": "o3-_QoX6NoZr",
        "outputId": "43713b56-8c0f-49a1-ddf8-61c4e6d4adb4"
      },
      "source": [
        "precision_LR_random_over_1 = round(precision_score(y_test, y_over_pred, pos_label=1),5)\n",
        "print(precision_LR_random_over_1)\n",
        "precision_LR_random_over_0 = round(precision_score(y_test, y_over_pred, pos_label=0),5)\n",
        "print(precision_LR_random_over_0)\n",
        "precision_LR_random_over_avg = round(precision_score(y_test, y_over_pred, average='weighted'),5)\n",
        "print(precision_LR_random_over_avg)"
      ],
      "execution_count": null,
      "outputs": [
        {
          "output_type": "stream",
          "text": [
            "0.038\n",
            "0.99985\n",
            "0.99827\n"
          ],
          "name": "stdout"
        }
      ]
    },
    {
      "cell_type": "markdown",
      "metadata": {
        "id": "y5d2MGFs_i5E"
      },
      "source": [
        "### Recall"
      ]
    },
    {
      "cell_type": "code",
      "metadata": {
        "colab": {
          "base_uri": "https://localhost:8080/"
        },
        "id": "Em-qveSXO729",
        "outputId": "337dcbe1-41ab-44c7-f201-82be70473885"
      },
      "source": [
        "recall_LR_random_over_1 = round(recall_score(y_test, y_over_pred, pos_label=1),5)\n",
        "print(recall_LR_random_over_1)\n",
        "recall_LR_random_over_0 = round(recall_score(y_test, y_over_pred, pos_label=0),5)\n",
        "print(recall_LR_random_over_0)\n",
        "recall_LR_random_over_avg = round(recall_score(y_test, y_over_pred, average='weighted'),5)\n",
        "print(recall_LR_random_over_avg)"
      ],
      "execution_count": null,
      "outputs": [
        {
          "output_type": "stream",
          "text": [
            "0.91489\n",
            "0.96171\n",
            "0.96164\n"
          ],
          "name": "stdout"
        }
      ]
    },
    {
      "cell_type": "markdown",
      "metadata": {
        "id": "rESbGHRJ_kIp"
      },
      "source": [
        "### F1 Score"
      ]
    },
    {
      "cell_type": "code",
      "metadata": {
        "colab": {
          "base_uri": "https://localhost:8080/"
        },
        "id": "mx3gnSGwPPPi",
        "outputId": "720b84e6-8fc7-414d-ba69-97d2c3c1a998"
      },
      "source": [
        "f1_LR_random_over_1 = round(f1_score(y_test, y_over_pred),5)\n",
        "print(f1_LR_random_over_1)\n",
        "f1_LR_random_over_0 = round(f1_score(y_test, y_over_pred, pos_label=0),5)\n",
        "print(f1_LR_random_over_0)\n",
        "f1_LR_random_over_avg = round(f1_score(y_test, y_over_pred, average='weighted'),5)\n",
        "print(f1_LR_random_over_avg)"
      ],
      "execution_count": null,
      "outputs": [
        {
          "output_type": "stream",
          "text": [
            "0.07296\n",
            "0.98041\n",
            "0.97891\n"
          ],
          "name": "stdout"
        }
      ]
    },
    {
      "cell_type": "markdown",
      "metadata": {
        "id": "eHgYWEgi_nir"
      },
      "source": [
        "### Classification Report"
      ]
    },
    {
      "cell_type": "code",
      "metadata": {
        "colab": {
          "base_uri": "https://localhost:8080/"
        },
        "id": "NJsiz8plPjOg",
        "outputId": "aed883fa-7ea0-475c-dbd2-162d7b065804"
      },
      "source": [
        "target_names = ['Class 0', 'Class 1']\n",
        "print(classification_report(y_test, y_over_pred, target_names=target_names, digits=5))"
      ],
      "execution_count": null,
      "outputs": [
        {
          "output_type": "stream",
          "text": [
            "              precision    recall  f1-score   support\n",
            "\n",
            "     Class 0    0.99985   0.96171   0.98041     85302\n",
            "     Class 1    0.03800   0.91489   0.07296       141\n",
            "\n",
            "    accuracy                        0.96164     85443\n",
            "   macro avg    0.51893   0.93830   0.52669     85443\n",
            "weighted avg    0.99827   0.96164   0.97891     85443\n",
            "\n"
          ],
          "name": "stdout"
        }
      ]
    },
    {
      "cell_type": "markdown",
      "metadata": {
        "id": "Ck8X9WRI_q3A"
      },
      "source": [
        "## PR Curve"
      ]
    },
    {
      "cell_type": "code",
      "metadata": {
        "colab": {
          "base_uri": "https://localhost:8080/",
          "height": 651
        },
        "id": "B9B4ri6pPrC0",
        "outputId": "a085c4de-fdf5-4d13-b5d1-530e37c563f4"
      },
      "source": [
        "fig, ax = plt.subplots(figsize=(10, 10))\n",
        "ax.set_title('Precision-Recall Curve for LR with Random Oversampling')\n",
        "plot_precision_recall_curve(LR_over, X_test, y_test, ax=ax)"
      ],
      "execution_count": null,
      "outputs": [
        {
          "output_type": "execute_result",
          "data": {
            "text/plain": [
              "<sklearn.metrics._plot.precision_recall_curve.PrecisionRecallDisplay at 0x7fde250a9d90>"
            ]
          },
          "metadata": {
            "tags": []
          },
          "execution_count": 104
        },
        {
          "output_type": "display_data",
          "data": {
            "image/png": "[encoded data removed]",
            "text/plain": [
              "<Figure size 720x720 with 1 Axes>"
            ]
          },
          "metadata": {
            "tags": [],
            "needs_background": "light"
          }
        }
      ]
    },
    {
      "cell_type": "markdown",
      "metadata": {
        "id": "CSy76Sdj_slS"
      },
      "source": [
        "## ROC Curve"
      ]
    },
    {
      "cell_type": "code",
      "metadata": {
        "colab": {
          "base_uri": "https://localhost:8080/",
          "height": 651
        },
        "id": "4bYvciAJQQIQ",
        "outputId": "a2213e88-4d14-4444-8645-f671864839cc"
      },
      "source": [
        "fig, ax = plt.subplots(figsize=(10, 10))\n",
        "ax.set_title('ROC Curve for LR with Random Oversampling')\n",
        "plot_roc_curve(LR_over, X_test, y_test, ax=ax)"
      ],
      "execution_count": null,
      "outputs": [
        {
          "output_type": "execute_result",
          "data": {
            "text/plain": [
              "<sklearn.metrics._plot.roc_curve.RocCurveDisplay at 0x7fde25022950>"
            ]
          },
          "metadata": {
            "tags": []
          },
          "execution_count": 105
        },
        {
          "output_type": "display_data",
          "data": {
            "image/png": "[encoded data removed]",
            "text/plain": [
              "<Figure size 720x720 with 1 Axes>"
            ]
          },
          "metadata": {
            "tags": [],
            "needs_background": "light"
          }
        }
      ]
    },
    {
      "cell_type": "markdown",
      "metadata": {
        "id": "5UnWEolzAAWD"
      },
      "source": [
        "# Logistic Regression with Random Undersampling"
      ]
    },
    {
      "cell_type": "markdown",
      "metadata": {
        "id": "7v3vFGf1AGZy"
      },
      "source": [
        "## Parameter Tuning using Cross-Validation"
      ]
    },
    {
      "cell_type": "code",
      "metadata": {
        "colab": {
          "base_uri": "https://localhost:8080/"
        },
        "id": "R4B0IkGzQU_N",
        "outputId": "0b12b878-5315-4ebe-e543-9c8a29a0e84c"
      },
      "source": [
        "clf = LogisticRegression(max_iter=10000)\n",
        "search_under = GridSearchCV(clf, PARAM, cv=10, verbose=3)\n",
        "search_under.fit(X_under,y_under)"
      ],
      "execution_count": null,
      "outputs": [
        {
          "output_type": "stream",
          "text": [
            "Fitting 10 folds for each of 10 candidates, totalling 100 fits\n",
            "[CV] C=0.1 ...........................................................\n",
            "[CV] ............................... C=0.1, score=0.958, total=   0.0s\n",
            "[CV] C=0.1 ...........................................................\n",
            "[CV] ............................... C=0.1, score=0.930, total=   0.0s\n",
            "[CV] C=0.1 ...........................................................\n",
            "[CV] ............................... C=0.1, score=0.900, total=   0.0s\n",
            "[CV] C=0.1 ...........................................................\n",
            "[CV] ............................... C=0.1, score=0.929, total=   0.0s\n",
            "[CV] C=0.1 ...........................................................\n",
            "[CV] ............................... C=0.1, score=0.871, total=   0.0s\n",
            "[CV] C=0.1 ...........................................................\n",
            "[CV] ............................... C=0.1, score=0.900, total=   0.0s\n",
            "[CV] C=0.1 ...........................................................\n",
            "[CV] ............................... C=0.1, score=0.914, total=   0.0s\n",
            "[CV] C=0.1 ...........................................................\n",
            "[CV] ............................... C=0.1, score=0.943, total=   0.0s\n",
            "[CV] C=0.1 ...........................................................\n"
          ],
          "name": "stdout"
        },
        {
          "output_type": "stream",
          "text": [
            "[Parallel(n_jobs=1)]: Using backend SequentialBackend with 1 concurrent workers.\n",
            "[Parallel(n_jobs=1)]: Done   1 out of   1 | elapsed:    0.0s remaining:    0.0s\n",
            "[Parallel(n_jobs=1)]: Done   2 out of   2 | elapsed:    0.0s remaining:    0.0s\n"
          ],
          "name": "stderr"
        },
        {
          "output_type": "stream",
          "text": [
            "[CV] ............................... C=0.1, score=0.929, total=   0.1s\n",
            "[CV] C=0.1 ...........................................................\n",
            "[CV] ............................... C=0.1, score=0.957, total=   0.0s\n",
            "[CV] C=0.2 ...........................................................\n",
            "[CV] ............................... C=0.2, score=0.930, total=   0.0s\n",
            "[CV] C=0.2 ...........................................................\n",
            "[CV] ............................... C=0.2, score=0.915, total=   0.0s\n",
            "[CV] C=0.2 ...........................................................\n",
            "[CV] ............................... C=0.2, score=0.914, total=   0.0s\n",
            "[CV] C=0.2 ...........................................................\n",
            "[CV] ............................... C=0.2, score=0.929, total=   0.0s\n",
            "[CV] C=0.2 ...........................................................\n",
            "[CV] ............................... C=0.2, score=0.914, total=   0.0s\n",
            "[CV] C=0.2 ...........................................................\n",
            "[CV] ............................... C=0.2, score=0.900, total=   0.0s\n",
            "[CV] C=0.2 ...........................................................\n",
            "[CV] ............................... C=0.2, score=0.929, total=   0.0s\n",
            "[CV] C=0.2 ...........................................................\n",
            "[CV] ............................... C=0.2, score=0.943, total=   0.0s\n",
            "[CV] C=0.2 ...........................................................\n",
            "[CV] ............................... C=0.2, score=0.957, total=   0.0s\n",
            "[CV] C=0.2 ...........................................................\n",
            "[CV] ............................... C=0.2, score=0.943, total=   0.0s\n",
            "[CV] C=0.30000000000000004 ...........................................\n",
            "[CV] ............... C=0.30000000000000004, score=0.930, total=   0.0s\n",
            "[CV] C=0.30000000000000004 ...........................................\n",
            "[CV] ............... C=0.30000000000000004, score=0.915, total=   0.0s\n",
            "[CV] C=0.30000000000000004 ...........................................\n",
            "[CV] ............... C=0.30000000000000004, score=0.914, total=   0.0s\n",
            "[CV] C=0.30000000000000004 ...........................................\n",
            "[CV] ............... C=0.30000000000000004, score=0.929, total=   0.0s\n",
            "[CV] C=0.30000000000000004 ...........................................\n",
            "[CV] ............... C=0.30000000000000004, score=0.914, total=   0.0s\n",
            "[CV] C=0.30000000000000004 ...........................................\n",
            "[CV] ............... C=0.30000000000000004, score=0.914, total=   0.1s\n",
            "[CV] C=0.30000000000000004 ...........................................\n",
            "[CV] ............... C=0.30000000000000004, score=0.929, total=   0.0s\n",
            "[CV] C=0.30000000000000004 ...........................................\n",
            "[CV] ............... C=0.30000000000000004, score=0.929, total=   0.0s\n",
            "[CV] C=0.30000000000000004 ...........................................\n",
            "[CV] ............... C=0.30000000000000004, score=0.957, total=   0.0s\n",
            "[CV] C=0.30000000000000004 ...........................................\n",
            "[CV] ............... C=0.30000000000000004, score=0.957, total=   0.0s\n",
            "[CV] C=0.4 ...........................................................\n",
            "[CV] ............................... C=0.4, score=0.958, total=   0.0s\n",
            "[CV] C=0.4 ...........................................................\n",
            "[CV] ............................... C=0.4, score=0.930, total=   0.0s\n",
            "[CV] C=0.4 ...........................................................\n",
            "[CV] ............................... C=0.4, score=0.914, total=   0.0s\n",
            "[CV] C=0.4 ...........................................................\n",
            "[CV] ............................... C=0.4, score=0.929, total=   0.0s\n",
            "[CV] C=0.4 ...........................................................\n",
            "[CV] ............................... C=0.4, score=0.914, total=   0.0s\n",
            "[CV] C=0.4 ...........................................................\n",
            "[CV] ............................... C=0.4, score=0.914, total=   0.1s\n",
            "[CV] C=0.4 ...........................................................\n",
            "[CV] ............................... C=0.4, score=0.943, total=   0.0s\n",
            "[CV] C=0.4 ...........................................................\n",
            "[CV] ............................... C=0.4, score=0.929, total=   0.0s\n",
            "[CV] C=0.4 ...........................................................\n",
            "[CV] ............................... C=0.4, score=0.957, total=   0.0s\n",
            "[CV] C=0.4 ...........................................................\n",
            "[CV] ............................... C=0.4, score=0.957, total=   0.0s\n",
            "[CV] C=0.5 ...........................................................\n",
            "[CV] ............................... C=0.5, score=0.930, total=   0.1s\n",
            "[CV] C=0.5 ...........................................................\n",
            "[CV] ............................... C=0.5, score=0.930, total=   0.0s\n",
            "[CV] C=0.5 ...........................................................\n",
            "[CV] ............................... C=0.5, score=0.929, total=   0.0s\n",
            "[CV] C=0.5 ...........................................................\n",
            "[CV] ............................... C=0.5, score=0.929, total=   0.0s\n",
            "[CV] C=0.5 ...........................................................\n",
            "[CV] ............................... C=0.5, score=0.900, total=   0.0s\n",
            "[CV] C=0.5 ...........................................................\n",
            "[CV] ............................... C=0.5, score=0.857, total=   0.0s\n",
            "[CV] C=0.5 ...........................................................\n",
            "[CV] ............................... C=0.5, score=0.929, total=   0.0s\n",
            "[CV] C=0.5 ...........................................................\n",
            "[CV] ............................... C=0.5, score=0.929, total=   0.0s\n",
            "[CV] C=0.5 ...........................................................\n",
            "[CV] ............................... C=0.5, score=0.957, total=   0.0s\n",
            "[CV] C=0.5 ...........................................................\n",
            "[CV] ............................... C=0.5, score=0.957, total=   0.0s\n",
            "[CV] C=0.6 ...........................................................\n",
            "[CV] ............................... C=0.6, score=0.930, total=   0.0s\n",
            "[CV] C=0.6 ...........................................................\n",
            "[CV] ............................... C=0.6, score=0.930, total=   0.0s\n",
            "[CV] C=0.6 ...........................................................\n",
            "[CV] ............................... C=0.6, score=0.929, total=   0.0s\n",
            "[CV] C=0.6 ...........................................................\n",
            "[CV] ............................... C=0.6, score=0.943, total=   0.0s\n",
            "[CV] C=0.6 ...........................................................\n",
            "[CV] ............................... C=0.6, score=0.914, total=   0.0s\n",
            "[CV] C=0.6 ...........................................................\n",
            "[CV] ............................... C=0.6, score=0.914, total=   0.0s\n",
            "[CV] C=0.6 ...........................................................\n",
            "[CV] ............................... C=0.6, score=0.929, total=   0.0s\n",
            "[CV] C=0.6 ...........................................................\n",
            "[CV] ............................... C=0.6, score=0.929, total=   0.0s\n",
            "[CV] C=0.6 ...........................................................\n",
            "[CV] ............................... C=0.6, score=0.957, total=   0.0s\n",
            "[CV] C=0.6 ...........................................................\n",
            "[CV] ............................... C=0.6, score=0.957, total=   0.0s\n",
            "[CV] C=0.7000000000000001 ............................................\n",
            "[CV] ................ C=0.7000000000000001, score=0.930, total=   0.0s\n",
            "[CV] C=0.7000000000000001 ............................................\n",
            "[CV] ................ C=0.7000000000000001, score=0.930, total=   0.0s\n",
            "[CV] C=0.7000000000000001 ............................................\n",
            "[CV] ................ C=0.7000000000000001, score=0.929, total=   0.0s\n",
            "[CV] C=0.7000000000000001 ............................................\n",
            "[CV] ................ C=0.7000000000000001, score=0.943, total=   0.0s\n",
            "[CV] C=0.7000000000000001 ............................................\n",
            "[CV] ................ C=0.7000000000000001, score=0.914, total=   0.0s\n",
            "[CV] C=0.7000000000000001 ............................................\n",
            "[CV] ................ C=0.7000000000000001, score=0.914, total=   0.0s\n",
            "[CV] C=0.7000000000000001 ............................................\n",
            "[CV] ................ C=0.7000000000000001, score=0.929, total=   0.0s\n",
            "[CV] C=0.7000000000000001 ............................................\n",
            "[CV] ................ C=0.7000000000000001, score=0.943, total=   0.0s\n",
            "[CV] C=0.7000000000000001 ............................................\n",
            "[CV] ................ C=0.7000000000000001, score=0.929, total=   0.0s\n",
            "[CV] C=0.7000000000000001 ............................................\n",
            "[CV] ................ C=0.7000000000000001, score=0.957, total=   0.0s\n",
            "[CV] C=0.8 ...........................................................\n",
            "[CV] ............................... C=0.8, score=0.930, total=   0.0s\n",
            "[CV] C=0.8 ...........................................................\n",
            "[CV] ............................... C=0.8, score=0.972, total=   0.0s\n",
            "[CV] C=0.8 ...........................................................\n",
            "[CV] ............................... C=0.8, score=0.929, total=   0.0s\n",
            "[CV] C=0.8 ...........................................................\n",
            "[CV] ............................... C=0.8, score=0.943, total=   0.0s\n",
            "[CV] C=0.8 ...........................................................\n",
            "[CV] ............................... C=0.8, score=0.914, total=   0.1s\n",
            "[CV] C=0.8 ...........................................................\n",
            "[CV] ............................... C=0.8, score=0.871, total=   0.0s\n",
            "[CV] C=0.8 ...........................................................\n",
            "[CV] ............................... C=0.8, score=0.943, total=   0.0s\n",
            "[CV] C=0.8 ...........................................................\n",
            "[CV] ............................... C=0.8, score=0.943, total=   0.0s\n",
            "[CV] C=0.8 ...........................................................\n",
            "[CV] ............................... C=0.8, score=0.929, total=   0.0s\n",
            "[CV] C=0.8 ...........................................................\n",
            "[CV] ............................... C=0.8, score=0.957, total=   0.0s\n",
            "[CV] C=0.9 ...........................................................\n",
            "[CV] ............................... C=0.9, score=0.958, total=   0.0s\n",
            "[CV] C=0.9 ...........................................................\n",
            "[CV] ............................... C=0.9, score=0.972, total=   0.0s\n",
            "[CV] C=0.9 ...........................................................\n",
            "[CV] ............................... C=0.9, score=0.943, total=   0.1s\n",
            "[CV] C=0.9 ...........................................................\n",
            "[CV] ............................... C=0.9, score=0.943, total=   0.0s\n",
            "[CV] C=0.9 ...........................................................\n",
            "[CV] ............................... C=0.9, score=0.914, total=   0.0s\n",
            "[CV] C=0.9 ...........................................................\n",
            "[CV] ............................... C=0.9, score=0.871, total=   0.0s\n",
            "[CV] C=0.9 ...........................................................\n",
            "[CV] ............................... C=0.9, score=0.943, total=   0.0s\n",
            "[CV] C=0.9 ...........................................................\n",
            "[CV] ............................... C=0.9, score=0.957, total=   0.0s\n",
            "[CV] C=0.9 ...........................................................\n",
            "[CV] ............................... C=0.9, score=0.929, total=   0.0s\n",
            "[CV] C=0.9 ...........................................................\n",
            "[CV] ............................... C=0.9, score=0.957, total=   0.0s\n",
            "[CV] C=1.0 ...........................................................\n",
            "[CV] ............................... C=1.0, score=0.958, total=   0.0s\n",
            "[CV] C=1.0 ...........................................................\n",
            "[CV] ............................... C=1.0, score=0.930, total=   0.0s\n",
            "[CV] C=1.0 ...........................................................\n",
            "[CV] ............................... C=1.0, score=0.929, total=   0.0s\n",
            "[CV] C=1.0 ...........................................................\n",
            "[CV] ............................... C=1.0, score=0.929, total=   0.0s\n",
            "[CV] C=1.0 ...........................................................\n",
            "[CV] ............................... C=1.0, score=0.914, total=   0.0s\n",
            "[CV] C=1.0 ...........................................................\n",
            "[CV] ............................... C=1.0, score=0.914, total=   0.0s\n",
            "[CV] C=1.0 ...........................................................\n",
            "[CV] ............................... C=1.0, score=0.943, total=   0.0s\n",
            "[CV] C=1.0 ...........................................................\n",
            "[CV] ............................... C=1.0, score=0.971, total=   0.0s\n",
            "[CV] C=1.0 ...........................................................\n",
            "[CV] ............................... C=1.0, score=0.929, total=   0.0s\n",
            "[CV] C=1.0 ...........................................................\n",
            "[CV] ............................... C=1.0, score=0.957, total=   0.0s\n"
          ],
          "name": "stdout"
        },
        {
          "output_type": "stream",
          "text": [
            "[Parallel(n_jobs=1)]: Done 100 out of 100 | elapsed:    2.7s finished\n"
          ],
          "name": "stderr"
        },
        {
          "output_type": "execute_result",
          "data": {
            "text/plain": [
              "GridSearchCV(cv=10, error_score=nan,\n",
              "             estimator=LogisticRegression(C=1.0, class_weight=None, dual=False,\n",
              "                                          fit_intercept=True,\n",
              "                                          intercept_scaling=1, l1_ratio=None,\n",
              "                                          max_iter=10000, multi_class='auto',\n",
              "                                          n_jobs=None, penalty='l2',\n",
              "                                          random_state=None, solver='lbfgs',\n",
              "                                          tol=0.0001, verbose=0,\n",
              "                                          warm_start=False),\n",
              "             iid='deprecated', n_jobs=None,\n",
              "             param_grid={'C': array([0.1, 0.2, 0.3, 0.4, 0.5, 0.6, 0.7, 0.8, 0.9, 1. ])},\n",
              "             pre_dispatch='2*n_jobs', refit=True, return_train_score=False,\n",
              "             scoring=None, verbose=3)"
            ]
          },
          "metadata": {
            "tags": []
          },
          "execution_count": 106
        }
      ]
    },
    {
      "cell_type": "code",
      "metadata": {
        "colab": {
          "base_uri": "https://localhost:8080/"
        },
        "id": "mo6fjR0IAYk0",
        "outputId": "6528b1a6-7292-4626-8ac5-a4dd2e746605"
      },
      "source": [
        "best_C = search_under.best_params_['C']\n",
        "print(best_C)\n",
        "LR_under = LogisticRegression(C=best_C, max_iter=1000, verbose=3)\n",
        "LR_under.fit(X_under, y_under)\n",
        "y_under_pred = LR_under.predict(X_test)"
      ],
      "execution_count": null,
      "outputs": [
        {
          "output_type": "stream",
          "text": [
            "0.9\n"
          ],
          "name": "stdout"
        },
        {
          "output_type": "stream",
          "text": [
            "[Parallel(n_jobs=1)]: Using backend SequentialBackend with 1 concurrent workers.\n",
            "[Parallel(n_jobs=1)]: Done   1 out of   1 | elapsed:    0.0s remaining:    0.0s\n",
            "[Parallel(n_jobs=1)]: Done   1 out of   1 | elapsed:    0.0s finished\n"
          ],
          "name": "stderr"
        }
      ]
    },
    {
      "cell_type": "markdown",
      "metadata": {
        "id": "bX4jZGmoKkMM"
      },
      "source": [
        "## Confusion matrix for LR with Random Undersampling"
      ]
    },
    {
      "cell_type": "code",
      "metadata": {
        "colab": {
          "base_uri": "https://localhost:8080/",
          "height": 591
        },
        "id": "MpRiqhJFKOve",
        "outputId": "c6f3bd12-9ca2-49ae-9275-d72f516be75d"
      },
      "source": [
        "fig, ax = plt.subplots(figsize=(10, 10))\n",
        "ax.set_title('Confustion Matrix for LR with Random Undersampling')\n",
        "plot_confusion_matrix(LR_under, X_test, y_test, cmap='Blues', ax=ax, values_format='d')"
      ],
      "execution_count": null,
      "outputs": [
        {
          "output_type": "execute_result",
          "data": {
            "text/plain": [
              "<sklearn.metrics._plot.confusion_matrix.ConfusionMatrixDisplay at 0x7fde25048510>"
            ]
          },
          "metadata": {
            "tags": []
          },
          "execution_count": 108
        },
        {
          "output_type": "display_data",
          "data": {
            "image/png": "[encoded data removed]",
            "text/plain": [
              "<Figure size 720x720 with 2 Axes>"
            ]
          },
          "metadata": {
            "tags": [],
            "needs_background": "light"
          }
        }
      ]
    },
    {
      "cell_type": "markdown",
      "metadata": {
        "id": "X-8eCfNlKyk1"
      },
      "source": [
        "## Precision, Recall, F1 score for LR with Random Undersampling"
      ]
    },
    {
      "cell_type": "markdown",
      "metadata": {
        "id": "lQDor0ZSeMSY"
      },
      "source": [
        "### Precision"
      ]
    },
    {
      "cell_type": "code",
      "metadata": {
        "colab": {
          "base_uri": "https://localhost:8080/"
        },
        "id": "-m-ZKyekCtiQ",
        "outputId": "b2fb9ff2-a16c-4ef9-b983-d0c5cdda2183"
      },
      "source": [
        "precision_LR_random_under_1 = round(precision_score(y_test, y_under_pred, pos_label=1),5)\n",
        "print(precision_LR_random_under_1)\n",
        "precision_LR_random_under_0 = round(precision_score(y_test, y_under_pred, pos_label=0),5)\n",
        "print(precision_LR_random_under_0)\n",
        "precision_LR_random_under_avg = round(precision_score(y_test, y_under_pred, average='weighted'),5)\n",
        "print(precision_LR_random_under_avg)"
      ],
      "execution_count": null,
      "outputs": [
        {
          "output_type": "stream",
          "text": [
            "0.02257\n",
            "0.99985\n",
            "0.99824\n"
          ],
          "name": "stdout"
        }
      ]
    },
    {
      "cell_type": "markdown",
      "metadata": {
        "id": "MeNPpkK9ecbF"
      },
      "source": [
        "### Recall"
      ]
    },
    {
      "cell_type": "code",
      "metadata": {
        "colab": {
          "base_uri": "https://localhost:8080/"
        },
        "id": "LzcetTKceelf",
        "outputId": "4d357f64-89e3-4895-8b44-34d38c4f897e"
      },
      "source": [
        "recall_LR_random_under_1 = round(recall_score(y_test, y_under_pred, pos_label=1),5)\n",
        "print(recall_LR_random_under_1)\n",
        "recall_LR_random_under_0 = round(recall_score(y_test, y_under_pred, pos_label=0),5)\n",
        "print(recall_LR_random_under_0)\n",
        "recall_LR_random_under_avg = round(recall_score(y_test, y_under_pred, average='weighted'),5)\n",
        "print(recall_LR_random_under_avg)"
      ],
      "execution_count": null,
      "outputs": [
        {
          "output_type": "stream",
          "text": [
            "0.91489\n",
            "0.9345\n",
            "0.93447\n"
          ],
          "name": "stdout"
        }
      ]
    },
    {
      "cell_type": "markdown",
      "metadata": {
        "id": "0OV_vdD-e3s-"
      },
      "source": [
        "### F1 Score"
      ]
    },
    {
      "cell_type": "code",
      "metadata": {
        "colab": {
          "base_uri": "https://localhost:8080/"
        },
        "id": "F5O_Oj76e533",
        "outputId": "664e5f22-22e5-4317-e0be-7b39eaf17a6d"
      },
      "source": [
        "f1_LR_random_under_1 = round(f1_score(y_test, y_under_pred, pos_label=1),5)\n",
        "print(f1_LR_random_under_1)\n",
        "f1_LR_random_under_0 = round(f1_score(y_test, y_under_pred, pos_label=0),5)\n",
        "print(f1_LR_random_under_0)\n",
        "f1_LR_random_under_avg = round(f1_score(y_test, y_under_pred, average='weighted'),5)\n",
        "print(f1_LR_random_under_avg)"
      ],
      "execution_count": null,
      "outputs": [
        {
          "output_type": "stream",
          "text": [
            "0.04405\n",
            "0.96607\n",
            "0.96455\n"
          ],
          "name": "stdout"
        }
      ]
    },
    {
      "cell_type": "markdown",
      "metadata": {
        "id": "hWghaGx1K4wl"
      },
      "source": [
        "### Classification Report"
      ]
    },
    {
      "cell_type": "code",
      "metadata": {
        "colab": {
          "base_uri": "https://localhost:8080/"
        },
        "id": "xSCFYXUQKrAz",
        "outputId": "a24a7102-d767-4aee-f8f6-516968ab8bb2"
      },
      "source": [
        "target_names = ['Class 0', 'Class 1']\n",
        "print(classification_report(y_test, y_under_pred, target_names=target_names, digits=5))"
      ],
      "execution_count": null,
      "outputs": [
        {
          "output_type": "stream",
          "text": [
            "              precision    recall  f1-score   support\n",
            "\n",
            "     Class 0    0.99985   0.93450   0.96607     85302\n",
            "     Class 1    0.02257   0.91489   0.04405       141\n",
            "\n",
            "    accuracy                        0.93447     85443\n",
            "   macro avg    0.51121   0.92470   0.50506     85443\n",
            "weighted avg    0.99824   0.93447   0.96455     85443\n",
            "\n"
          ],
          "name": "stdout"
        }
      ]
    },
    {
      "cell_type": "markdown",
      "metadata": {
        "id": "SmXYlQ-OLyeL"
      },
      "source": [
        "## PR Curve"
      ]
    },
    {
      "cell_type": "code",
      "metadata": {
        "colab": {
          "base_uri": "https://localhost:8080/",
          "height": 651
        },
        "id": "kVfioWFtLAw6",
        "outputId": "2e638a51-bd09-45ed-b88a-bede3462c9dd"
      },
      "source": [
        "fig, ax = plt.subplots(figsize=(12,10))\n",
        "ax.set_title('Precision-Recall Curve for LR with Random Undersampling')\n",
        "plot_precision_recall_curve(LR_under, X_test, y_test, ax=ax)"
      ],
      "execution_count": null,
      "outputs": [
        {
          "output_type": "execute_result",
          "data": {
            "text/plain": [
              "<sklearn.metrics._plot.precision_recall_curve.PrecisionRecallDisplay at 0x7fde24f1e3d0>"
            ]
          },
          "metadata": {
            "tags": []
          },
          "execution_count": 113
        },
        {
          "output_type": "display_data",
          "data": {
            "image/png": "[encoded data removed]",
            "text/plain": [
              "<Figure size 864x720 with 1 Axes>"
            ]
          },
          "metadata": {
            "tags": [],
            "needs_background": "light"
          }
        }
      ]
    },
    {
      "cell_type": "markdown",
      "metadata": {
        "id": "vDwuwvzWLhLN"
      },
      "source": [
        "## ROC Curve"
      ]
    },
    {
      "cell_type": "code",
      "metadata": {
        "colab": {
          "base_uri": "https://localhost:8080/",
          "height": 651
        },
        "id": "tFLD8xwwLW0q",
        "outputId": "442001cc-9df1-47d9-ebe0-c76fadd1c972"
      },
      "source": [
        "fig, ax = plt.subplots(figsize=(12,10))\n",
        "ax.set_title('ROC Curve for LR with Random Undersampling')\n",
        "plot_roc_curve(LR_under, X_test, y_test, ax=ax)"
      ],
      "execution_count": null,
      "outputs": [
        {
          "output_type": "execute_result",
          "data": {
            "text/plain": [
              "<sklearn.metrics._plot.roc_curve.RocCurveDisplay at 0x7fde24e8a1d0>"
            ]
          },
          "metadata": {
            "tags": []
          },
          "execution_count": 114
        },
        {
          "output_type": "display_data",
          "data": {
            "image/png": "[encoded data removed]",
            "text/plain": [
              "<Figure size 864x720 with 1 Axes>"
            ]
          },
          "metadata": {
            "tags": [],
            "needs_background": "light"
          }
        }
      ]
    },
    {
      "cell_type": "markdown",
      "metadata": {
        "id": "5pp48GlOamvc"
      },
      "source": [
        "# Logistic Regression with SMOTE"
      ]
    },
    {
      "cell_type": "markdown",
      "metadata": {
        "id": "JXmkuzfAasEz"
      },
      "source": [
        "## Parameter Tuning using Cross-Validation"
      ]
    },
    {
      "cell_type": "code",
      "metadata": {
        "id": "RFN0MSjrLfvk"
      },
      "source": [
        "clf = LogisticRegression(max_iter=10000)\n",
        "search_smote = GridSearchCV(clf,PARAM,cv=10, verbose=3)"
      ],
      "execution_count": null,
      "outputs": []
    },
    {
      "cell_type": "code",
      "metadata": {
        "colab": {
          "base_uri": "https://localhost:8080/"
        },
        "id": "XI5YF_kgbBgF",
        "outputId": "f91d60eb-fbf2-4441-9aed-c4e0e6c91d9f"
      },
      "source": [
        "search_smote.fit(X_smote, y_smote)"
      ],
      "execution_count": null,
      "outputs": [
        {
          "output_type": "stream",
          "text": [
            "Fitting 10 folds for each of 10 candidates, totalling 100 fits\n",
            "[CV] C=0.1 ...........................................................\n"
          ],
          "name": "stdout"
        },
        {
          "output_type": "stream",
          "text": [
            "[Parallel(n_jobs=1)]: Using backend SequentialBackend with 1 concurrent workers.\n"
          ],
          "name": "stderr"
        },
        {
          "output_type": "stream",
          "text": [
            "[CV] ............................... C=0.1, score=0.975, total=  10.9s\n",
            "[CV] C=0.1 ...........................................................\n"
          ],
          "name": "stdout"
        },
        {
          "output_type": "stream",
          "text": [
            "[Parallel(n_jobs=1)]: Done   1 out of   1 | elapsed:   10.9s remaining:    0.0s\n"
          ],
          "name": "stderr"
        },
        {
          "output_type": "stream",
          "text": [
            "[CV] ............................... C=0.1, score=0.972, total=   4.8s\n",
            "[CV] C=0.1 ...........................................................\n"
          ],
          "name": "stdout"
        },
        {
          "output_type": "stream",
          "text": [
            "[Parallel(n_jobs=1)]: Done   2 out of   2 | elapsed:   15.7s remaining:    0.0s\n"
          ],
          "name": "stderr"
        },
        {
          "output_type": "stream",
          "text": [
            "[CV] ............................... C=0.1, score=0.976, total=   9.5s\n",
            "[CV] C=0.1 ...........................................................\n",
            "[CV] ............................... C=0.1, score=0.972, total=   4.8s\n",
            "[CV] C=0.1 ...........................................................\n",
            "[CV] ............................... C=0.1, score=0.971, total=   4.7s\n",
            "[CV] C=0.1 ...........................................................\n",
            "[CV] ............................... C=0.1, score=0.975, total=   8.6s\n",
            "[CV] C=0.1 ...........................................................\n",
            "[CV] ............................... C=0.1, score=0.973, total=   7.4s\n",
            "[CV] C=0.1 ...........................................................\n",
            "[CV] ............................... C=0.1, score=0.973, total=   4.4s\n",
            "[CV] C=0.1 ...........................................................\n",
            "[CV] ............................... C=0.1, score=0.958, total=   2.8s\n",
            "[CV] C=0.1 ...........................................................\n",
            "[CV] ............................... C=0.1, score=0.956, total=   2.8s\n",
            "[CV] C=0.2 ...........................................................\n",
            "[CV] ............................... C=0.2, score=0.971, total=   4.1s\n",
            "[CV] C=0.2 ...........................................................\n",
            "[CV] ............................... C=0.2, score=0.972, total=   4.8s\n",
            "[CV] C=0.2 ...........................................................\n",
            "[CV] ............................... C=0.2, score=0.974, total=   6.9s\n",
            "[CV] C=0.2 ...........................................................\n",
            "[CV] ............................... C=0.2, score=0.972, total=   4.6s\n",
            "[CV] C=0.2 ...........................................................\n",
            "[CV] ............................... C=0.2, score=0.976, total=   7.9s\n",
            "[CV] C=0.2 ...........................................................\n",
            "[CV] ............................... C=0.2, score=0.975, total=   7.4s\n",
            "[CV] C=0.2 ...........................................................\n",
            "[CV] ............................... C=0.2, score=0.972, total=   4.1s\n",
            "[CV] C=0.2 ...........................................................\n",
            "[CV] ............................... C=0.2, score=0.973, total=   4.5s\n",
            "[CV] C=0.2 ...........................................................\n",
            "[CV] ............................... C=0.2, score=0.958, total=   2.9s\n",
            "[CV] C=0.2 ...........................................................\n",
            "[CV] ............................... C=0.2, score=0.956, total=   2.8s\n",
            "[CV] C=0.30000000000000004 ...........................................\n",
            "[CV] ............... C=0.30000000000000004, score=0.971, total=   4.2s\n",
            "[CV] C=0.30000000000000004 ...........................................\n",
            "[CV] ............... C=0.30000000000000004, score=0.972, total=   4.8s\n",
            "[CV] C=0.30000000000000004 ...........................................\n",
            "[CV] ............... C=0.30000000000000004, score=0.972, total=   4.5s\n",
            "[CV] C=0.30000000000000004 ...........................................\n",
            "[CV] ............... C=0.30000000000000004, score=0.974, total=   6.5s\n",
            "[CV] C=0.30000000000000004 ...........................................\n",
            "[CV] ............... C=0.30000000000000004, score=0.976, total=  10.2s\n",
            "[CV] C=0.30000000000000004 ...........................................\n",
            "[CV] ............... C=0.30000000000000004, score=0.973, total=   5.9s\n",
            "[CV] C=0.30000000000000004 ...........................................\n",
            "[CV] ............... C=0.30000000000000004, score=0.972, total=   4.1s\n",
            "[CV] C=0.30000000000000004 ...........................................\n",
            "[CV] ............... C=0.30000000000000004, score=0.974, total=   6.5s\n",
            "[CV] C=0.30000000000000004 ...........................................\n",
            "[CV] ............... C=0.30000000000000004, score=0.958, total=   2.9s\n",
            "[CV] C=0.30000000000000004 ...........................................\n",
            "[CV] ............... C=0.30000000000000004, score=0.956, total=   2.8s\n",
            "[CV] C=0.4 ...........................................................\n",
            "[CV] ............................... C=0.4, score=0.971, total=   4.1s\n",
            "[CV] C=0.4 ...........................................................\n",
            "[CV] ............................... C=0.4, score=0.972, total=   4.7s\n",
            "[CV] C=0.4 ...........................................................\n",
            "[CV] ............................... C=0.4, score=0.972, total=   4.5s\n",
            "[CV] C=0.4 ...........................................................\n",
            "[CV] ............................... C=0.4, score=0.972, total=   4.6s\n",
            "[CV] C=0.4 ...........................................................\n",
            "[CV] ............................... C=0.4, score=0.971, total=   4.6s\n",
            "[CV] C=0.4 ...........................................................\n",
            "[CV] ............................... C=0.4, score=0.975, total=   8.1s\n",
            "[CV] C=0.4 ...........................................................\n",
            "[CV] ............................... C=0.4, score=0.974, total=   9.1s\n",
            "[CV] C=0.4 ...........................................................\n",
            "[CV] ............................... C=0.4, score=0.973, total=   4.5s\n",
            "[CV] C=0.4 ...........................................................\n",
            "[CV] ............................... C=0.4, score=0.958, total=   2.9s\n",
            "[CV] C=0.4 ...........................................................\n",
            "[CV] ............................... C=0.4, score=0.956, total=   2.8s\n",
            "[CV] C=0.5 ...........................................................\n",
            "[CV] ............................... C=0.5, score=0.971, total=   4.2s\n",
            "[CV] C=0.5 ...........................................................\n",
            "[CV] ............................... C=0.5, score=0.972, total=   4.8s\n",
            "[CV] C=0.5 ...........................................................\n",
            "[CV] ............................... C=0.5, score=0.972, total=   4.3s\n",
            "[CV] C=0.5 ...........................................................\n",
            "[CV] ............................... C=0.5, score=0.972, total=   4.5s\n",
            "[CV] C=0.5 ...........................................................\n",
            "[CV] ............................... C=0.5, score=0.971, total=   4.6s\n",
            "[CV] C=0.5 ...........................................................\n",
            "[CV] ............................... C=0.5, score=0.973, total=   5.9s\n",
            "[CV] C=0.5 ...........................................................\n",
            "[CV] ............................... C=0.5, score=0.973, total=   6.0s\n",
            "[CV] C=0.5 ...........................................................\n",
            "[CV] ............................... C=0.5, score=0.973, total=   4.3s\n",
            "[CV] C=0.5 ...........................................................\n",
            "[CV] ............................... C=0.5, score=0.958, total=   2.9s\n",
            "[CV] C=0.5 ...........................................................\n",
            "[CV] ............................... C=0.5, score=0.956, total=   2.8s\n",
            "[CV] C=0.6 ...........................................................\n",
            "[CV] ............................... C=0.6, score=0.971, total=   4.2s\n",
            "[CV] C=0.6 ...........................................................\n",
            "[CV] ............................... C=0.6, score=0.972, total=   4.8s\n",
            "[CV] C=0.6 ...........................................................\n",
            "[CV] ............................... C=0.6, score=0.972, total=   4.5s\n",
            "[CV] C=0.6 ...........................................................\n",
            "[CV] ............................... C=0.6, score=0.975, total=   8.9s\n",
            "[CV] C=0.6 ...........................................................\n",
            "[CV] ............................... C=0.6, score=0.973, total=   6.1s\n",
            "[CV] C=0.6 ...........................................................\n",
            "[CV] ............................... C=0.6, score=0.975, total=   8.2s\n",
            "[CV] C=0.6 ...........................................................\n",
            "[CV] ............................... C=0.6, score=0.972, total=   4.0s\n",
            "[CV] C=0.6 ...........................................................\n",
            "[CV] ............................... C=0.6, score=0.973, total=   4.5s\n",
            "[CV] C=0.6 ...........................................................\n",
            "[CV] ............................... C=0.6, score=0.958, total=   2.9s\n",
            "[CV] C=0.6 ...........................................................\n",
            "[CV] ............................... C=0.6, score=0.956, total=   2.8s\n",
            "[CV] C=0.7000000000000001 ............................................\n",
            "[CV] ................ C=0.7000000000000001, score=0.971, total=   4.2s\n",
            "[CV] C=0.7000000000000001 ............................................\n",
            "[CV] ................ C=0.7000000000000001, score=0.972, total=   4.8s\n",
            "[CV] C=0.7000000000000001 ............................................\n",
            "[CV] ................ C=0.7000000000000001, score=0.972, total=   4.5s\n",
            "[CV] C=0.7000000000000001 ............................................\n",
            "[CV] ................ C=0.7000000000000001, score=0.976, total=   8.7s\n",
            "[CV] C=0.7000000000000001 ............................................\n",
            "[CV] ................ C=0.7000000000000001, score=0.976, total=   9.1s\n",
            "[CV] C=0.7000000000000001 ............................................\n",
            "[CV] ................ C=0.7000000000000001, score=0.975, total=   8.7s\n",
            "[CV] C=0.7000000000000001 ............................................\n",
            "[CV] ................ C=0.7000000000000001, score=0.972, total=   4.1s\n",
            "[CV] C=0.7000000000000001 ............................................\n",
            "[CV] ................ C=0.7000000000000001, score=0.973, total=   4.5s\n",
            "[CV] C=0.7000000000000001 ............................................\n",
            "[CV] ................ C=0.7000000000000001, score=0.958, total=   2.9s\n",
            "[CV] C=0.7000000000000001 ............................................\n",
            "[CV] ................ C=0.7000000000000001, score=0.956, total=   2.8s\n",
            "[CV] C=0.8 ...........................................................\n",
            "[CV] ............................... C=0.8, score=0.971, total=   4.1s\n",
            "[CV] C=0.8 ...........................................................\n",
            "[CV] ............................... C=0.8, score=0.972, total=   4.8s\n",
            "[CV] C=0.8 ...........................................................\n",
            "[CV] ............................... C=0.8, score=0.972, total=   4.4s\n",
            "[CV] C=0.8 ...........................................................\n",
            "[CV] ............................... C=0.8, score=0.972, total=   4.4s\n",
            "[CV] C=0.8 ...........................................................\n",
            "[CV] ............................... C=0.8, score=0.976, total=  11.0s\n",
            "[CV] C=0.8 ...........................................................\n",
            "[CV] ............................... C=0.8, score=0.973, total=   6.6s\n",
            "[CV] C=0.8 ...........................................................\n",
            "[CV] ............................... C=0.8, score=0.972, total=   4.2s\n",
            "[CV] C=0.8 ...........................................................\n",
            "[CV] ............................... C=0.8, score=0.973, total=   4.5s\n",
            "[CV] C=0.8 ...........................................................\n",
            "[CV] ............................... C=0.8, score=0.958, total=   2.9s\n",
            "[CV] C=0.8 ...........................................................\n",
            "[CV] ............................... C=0.8, score=0.956, total=   2.8s\n",
            "[CV] C=0.9 ...........................................................\n",
            "[CV] ............................... C=0.9, score=0.971, total=   4.2s\n",
            "[CV] C=0.9 ...........................................................\n",
            "[CV] ............................... C=0.9, score=0.972, total=   4.7s\n",
            "[CV] C=0.9 ...........................................................\n",
            "[CV] ............................... C=0.9, score=0.972, total=   4.3s\n",
            "[CV] C=0.9 ...........................................................\n",
            "[CV] ............................... C=0.9, score=0.974, total=   6.2s\n",
            "[CV] C=0.9 ...........................................................\n",
            "[CV] ............................... C=0.9, score=0.971, total=   4.5s\n",
            "[CV] C=0.9 ...........................................................\n",
            "[CV] ............................... C=0.9, score=0.973, total=   6.1s\n",
            "[CV] C=0.9 ...........................................................\n",
            "[CV] ............................... C=0.9, score=0.972, total=   4.3s\n",
            "[CV] C=0.9 ...........................................................\n",
            "[CV] ............................... C=0.9, score=0.973, total=   4.5s\n",
            "[CV] C=0.9 ...........................................................\n",
            "[CV] ............................... C=0.9, score=0.958, total=   2.9s\n",
            "[CV] C=0.9 ...........................................................\n",
            "[CV] ............................... C=0.9, score=0.956, total=   2.8s\n",
            "[CV] C=1.0 ...........................................................\n",
            "[CV] ............................... C=1.0, score=0.971, total=   4.2s\n",
            "[CV] C=1.0 ...........................................................\n",
            "[CV] ............................... C=1.0, score=0.972, total=   4.7s\n",
            "[CV] C=1.0 ...........................................................\n",
            "[CV] ............................... C=1.0, score=0.972, total=   4.9s\n",
            "[CV] C=1.0 ...........................................................\n",
            "[CV] ............................... C=1.0, score=0.979, total=  18.3s\n",
            "[CV] C=1.0 ...........................................................\n",
            "[CV] ............................... C=1.0, score=0.976, total=  10.2s\n",
            "[CV] C=1.0 ...........................................................\n",
            "[CV] ............................... C=1.0, score=0.973, total=   6.1s\n",
            "[CV] C=1.0 ...........................................................\n",
            "[CV] ............................... C=1.0, score=0.972, total=   4.2s\n",
            "[CV] C=1.0 ...........................................................\n",
            "[CV] ............................... C=1.0, score=0.973, total=   4.5s\n",
            "[CV] C=1.0 ...........................................................\n",
            "[CV] ............................... C=1.0, score=0.958, total=   2.8s\n",
            "[CV] C=1.0 ...........................................................\n",
            "[CV] ............................... C=1.0, score=0.956, total=   2.8s\n"
          ],
          "name": "stdout"
        },
        {
          "output_type": "stream",
          "text": [
            "[Parallel(n_jobs=1)]: Done 100 out of 100 | elapsed:  8.7min finished\n"
          ],
          "name": "stderr"
        },
        {
          "output_type": "execute_result",
          "data": {
            "text/plain": [
              "GridSearchCV(cv=10, error_score=nan,\n",
              "             estimator=LogisticRegression(C=1.0, class_weight=None, dual=False,\n",
              "                                          fit_intercept=True,\n",
              "                                          intercept_scaling=1, l1_ratio=None,\n",
              "                                          max_iter=10000, multi_class='auto',\n",
              "                                          n_jobs=None, penalty='l2',\n",
              "                                          random_state=None, solver='lbfgs',\n",
              "                                          tol=0.0001, verbose=0,\n",
              "                                          warm_start=False),\n",
              "             iid='deprecated', n_jobs=None,\n",
              "             param_grid={'C': array([0.1, 0.2, 0.3, 0.4, 0.5, 0.6, 0.7, 0.8, 0.9, 1. ])},\n",
              "             pre_dispatch='2*n_jobs', refit=True, return_train_score=False,\n",
              "             scoring=None, verbose=3)"
            ]
          },
          "metadata": {
            "tags": []
          },
          "execution_count": 116
        }
      ]
    },
    {
      "cell_type": "code",
      "metadata": {
        "colab": {
          "base_uri": "https://localhost:8080/"
        },
        "id": "BRAKiy0PbFz5",
        "outputId": "91c0a9c6-1a41-40b5-938b-625b8deddac2"
      },
      "source": [
        "best_C = search_smote.best_params_['C']\n",
        "print(best_C)"
      ],
      "execution_count": null,
      "outputs": [
        {
          "output_type": "stream",
          "text": [
            "1.0\n"
          ],
          "name": "stdout"
        }
      ]
    },
    {
      "cell_type": "code",
      "metadata": {
        "colab": {
          "base_uri": "https://localhost:8080/"
        },
        "id": "uDzPc_8BdjMm",
        "outputId": "6318bf77-24fd-4d96-b3a1-441cbcd624d7"
      },
      "source": [
        "LR_smote = LogisticRegression(C=best_C, max_iter=10000, verbose=3)\n",
        "LR_smote.fit(X_smote, y_smote)\n",
        "y_smote_pred = LR_smote.predict(X_test)"
      ],
      "execution_count": null,
      "outputs": [
        {
          "output_type": "stream",
          "text": [
            "[Parallel(n_jobs=1)]: Using backend SequentialBackend with 1 concurrent workers.\n",
            "[Parallel(n_jobs=1)]: Done   1 out of   1 | elapsed:    6.2s remaining:    0.0s\n",
            "[Parallel(n_jobs=1)]: Done   1 out of   1 | elapsed:    6.2s finished\n"
          ],
          "name": "stderr"
        }
      ]
    },
    {
      "cell_type": "markdown",
      "metadata": {
        "id": "WndauYwhd80e"
      },
      "source": [
        "## Confusion matrix for LR with SMOTE"
      ]
    },
    {
      "cell_type": "code",
      "metadata": {
        "colab": {
          "base_uri": "https://localhost:8080/",
          "height": 591
        },
        "id": "t3KTOB8Gd0pB",
        "outputId": "8c4aa7ce-5798-4f3a-9ded-ba2431bdde8a"
      },
      "source": [
        "fig, ax = plt.subplots(figsize=(10, 10))\n",
        "ax.set_title('Confusion Matrix for LR with SMOTE')\n",
        "plot_confusion_matrix(LR_smote, X_test, y_test, cmap='Blues', ax=ax, values_format='d')"
      ],
      "execution_count": null,
      "outputs": [
        {
          "output_type": "execute_result",
          "data": {
            "text/plain": [
              "<sklearn.metrics._plot.confusion_matrix.ConfusionMatrixDisplay at 0x7fde24e6c990>"
            ]
          },
          "metadata": {
            "tags": []
          },
          "execution_count": 119
        },
        {
          "output_type": "display_data",
          "data": {
            "image/png": "[encoded data removed]",
            "text/plain": [
              "<Figure size 720x720 with 2 Axes>"
            ]
          },
          "metadata": {
            "tags": [],
            "needs_background": "light"
          }
        }
      ]
    },
    {
      "cell_type": "markdown",
      "metadata": {
        "id": "r9iuoamKfJiR"
      },
      "source": [
        "## Precision, Recall, F1 score for LR with SMOTE"
      ]
    },
    {
      "cell_type": "markdown",
      "metadata": {
        "id": "BKsDe8JqfPMX"
      },
      "source": [
        "### Precision"
      ]
    },
    {
      "cell_type": "code",
      "metadata": {
        "colab": {
          "base_uri": "https://localhost:8080/"
        },
        "id": "lTdNfxU8eHIW",
        "outputId": "aa9049be-dada-4ec6-a465-dfb95229f1d1"
      },
      "source": [
        "precision_LR_smote_1 = round(precision_score(y_test,y_smote_pred,pos_label=1),5)\n",
        "print(precision_LR_smote_1)\n",
        "precision_LR_smote_0 = round(precision_score(y_test,y_smote_pred,pos_label=0),5)\n",
        "print(precision_LR_smote_0)\n",
        "precision_LR_smote_avg = round(precision_score(y_test,y_smote_pred, average='weighted'),5)\n",
        "print(precision_LR_smote_avg)"
      ],
      "execution_count": null,
      "outputs": [
        {
          "output_type": "stream",
          "text": [
            "0.06503\n",
            "0.99983\n",
            "0.99829\n"
          ],
          "name": "stdout"
        }
      ]
    },
    {
      "cell_type": "markdown",
      "metadata": {
        "id": "cYQ2SPbogjvK"
      },
      "source": [
        "### Recall"
      ]
    },
    {
      "cell_type": "code",
      "metadata": {
        "colab": {
          "base_uri": "https://localhost:8080/"
        },
        "id": "AB9v7rMGgd4s",
        "outputId": "56c0ecca-5050-4701-9d21-5253bec4e6c0"
      },
      "source": [
        "recall_LR_smote_1 = round(recall_score(y_test,y_smote_pred,pos_label=1),5)\n",
        "print(recall_LR_smote_1)\n",
        "recall_LR_smote_0 = round(recall_score(y_test,y_smote_pred,pos_label=0),5)\n",
        "print(recall_LR_smote_0)\n",
        "recall_LR_smote_avg = round(recall_score(y_test,y_smote_pred, average='weighted'),5)\n",
        "print(recall_LR_smote_avg)"
      ],
      "execution_count": null,
      "outputs": [
        {
          "output_type": "stream",
          "text": [
            "0.90071\n",
            "0.97859\n",
            "0.97847\n"
          ],
          "name": "stdout"
        }
      ]
    },
    {
      "cell_type": "markdown",
      "metadata": {
        "id": "SVa5oF3ugyRs"
      },
      "source": [
        "### F1 Score"
      ]
    },
    {
      "cell_type": "code",
      "metadata": {
        "colab": {
          "base_uri": "https://localhost:8080/"
        },
        "id": "Gc_nfrxZgwZ9",
        "outputId": "ea6ba13c-a416-403b-f06d-9ac96b8964a1"
      },
      "source": [
        "f1_LR_smote_1 = round(f1_score(y_test,y_smote_pred,pos_label=1),5)\n",
        "print(f1_LR_smote_1)\n",
        "f1_LR_smote_0 = round(f1_score(y_test,y_smote_pred,pos_label=0),5)\n",
        "print(f1_LR_smote_0)\n",
        "f1_LR_smote_avg = round(f1_score(y_test,y_smote_pred, average='weighted'),5)\n",
        "print(f1_LR_smote_avg)"
      ],
      "execution_count": null,
      "outputs": [
        {
          "output_type": "stream",
          "text": [
            "0.1213\n",
            "0.9891\n",
            "0.98767\n"
          ],
          "name": "stdout"
        }
      ]
    },
    {
      "cell_type": "markdown",
      "metadata": {
        "id": "3nWaG1pqg-vS"
      },
      "source": [
        "### Classification Report"
      ]
    },
    {
      "cell_type": "code",
      "metadata": {
        "colab": {
          "base_uri": "https://localhost:8080/"
        },
        "id": "l-mRT4gdg9dh",
        "outputId": "977c88cc-ade9-4356-c0b5-b58b8ac78e96"
      },
      "source": [
        "target_names = ['Class 0', 'Class 1']\n",
        "print(classification_report(y_test, y_smote_pred, target_names=target_names, digits=5))"
      ],
      "execution_count": null,
      "outputs": [
        {
          "output_type": "stream",
          "text": [
            "              precision    recall  f1-score   support\n",
            "\n",
            "     Class 0    0.99983   0.97859   0.98910     85302\n",
            "     Class 1    0.06503   0.90071   0.12130       141\n",
            "\n",
            "    accuracy                        0.97847     85443\n",
            "   macro avg    0.53243   0.93965   0.55520     85443\n",
            "weighted avg    0.99829   0.97847   0.98767     85443\n",
            "\n"
          ],
          "name": "stdout"
        }
      ]
    },
    {
      "cell_type": "markdown",
      "metadata": {
        "id": "gheZ4Ba9hhCA"
      },
      "source": [
        "## PR Curve"
      ]
    },
    {
      "cell_type": "code",
      "metadata": {
        "colab": {
          "base_uri": "https://localhost:8080/",
          "height": 651
        },
        "id": "M-Ydzc39hFq4",
        "outputId": "5b90363f-9a86-4d3f-b193-bda868e8dddd"
      },
      "source": [
        "fig, ax = plt.subplots(figsize=(12,10))\n",
        "ax.set_title('PR Curve for LR with SMOTE')\n",
        "plot_precision_recall_curve(LR_smote,X_test, y_test, ax=ax)"
      ],
      "execution_count": null,
      "outputs": [
        {
          "output_type": "execute_result",
          "data": {
            "text/plain": [
              "<sklearn.metrics._plot.precision_recall_curve.PrecisionRecallDisplay at 0x7fde24d9ee90>"
            ]
          },
          "metadata": {
            "tags": []
          },
          "execution_count": 124
        },
        {
          "output_type": "display_data",
          "data": {
            "image/png": "[encoded data removed]",
            "text/plain": [
              "<Figure size 864x720 with 1 Axes>"
            ]
          },
          "metadata": {
            "tags": [],
            "needs_background": "light"
          }
        }
      ]
    },
    {
      "cell_type": "markdown",
      "metadata": {
        "id": "yAu2YpmAiGF5"
      },
      "source": [
        "## ROC Curve"
      ]
    },
    {
      "cell_type": "code",
      "metadata": {
        "colab": {
          "base_uri": "https://localhost:8080/",
          "height": 651
        },
        "id": "TrhZ-FdAh6ja",
        "outputId": "4deb3319-3353-4d44-b6aa-5e7b3507e1bd"
      },
      "source": [
        "fig, ax = plt.subplots(figsize=(12,10))\n",
        "ax.set_title('ROC Curve for PR with SMOTE')\n",
        "plot_roc_curve(LR_smote, X_test, y_test, ax=ax)"
      ],
      "execution_count": null,
      "outputs": [
        {
          "output_type": "execute_result",
          "data": {
            "text/plain": [
              "<sklearn.metrics._plot.roc_curve.RocCurveDisplay at 0x7fde24cc13d0>"
            ]
          },
          "metadata": {
            "tags": []
          },
          "execution_count": 125
        },
        {
          "output_type": "display_data",
          "data": {
            "image/png": "[encoded data removed]",
            "text/plain": [
              "<Figure size 864x720 with 1 Axes>"
            ]
          },
          "metadata": {
            "tags": [],
            "needs_background": "light"
          }
        }
      ]
    },
    {
      "cell_type": "markdown",
      "metadata": {
        "id": "bGfIqARjuzXQ"
      },
      "source": [
        "# Logistic Regression with Tomek Links Removal"
      ]
    },
    {
      "cell_type": "markdown",
      "metadata": {
        "id": "cZnS6T9Cu34i"
      },
      "source": [
        "## Parameter Tuning using Cross-Validation"
      ]
    },
    {
      "cell_type": "code",
      "metadata": {
        "id": "jC-9u83HiXKF"
      },
      "source": [
        "clf = LogisticRegression(max_iter=10000)\n",
        "search_tomek = GridSearchCV(clf, PARAM, cv=10, verbose=3)"
      ],
      "execution_count": null,
      "outputs": []
    },
    {
      "cell_type": "code",
      "metadata": {
        "colab": {
          "base_uri": "https://localhost:8080/"
        },
        "id": "GO4PmZHuvzAN",
        "outputId": "fb0c3f16-5fb3-4ba6-c975-13fcf1a57a4d"
      },
      "source": [
        "search_tomek.fit(X_tomek, y_tomek)"
      ],
      "execution_count": null,
      "outputs": [
        {
          "output_type": "stream",
          "text": [
            "Fitting 10 folds for each of 10 candidates, totalling 100 fits\n",
            "[CV] C=0.1 ...........................................................\n"
          ],
          "name": "stdout"
        },
        {
          "output_type": "stream",
          "text": [
            "[Parallel(n_jobs=1)]: Using backend SequentialBackend with 1 concurrent workers.\n"
          ],
          "name": "stderr"
        },
        {
          "output_type": "stream",
          "text": [
            "[CV] ............................... C=0.1, score=0.999, total=  12.9s\n",
            "[CV] C=0.1 ...........................................................\n"
          ],
          "name": "stdout"
        },
        {
          "output_type": "stream",
          "text": [
            "[Parallel(n_jobs=1)]: Done   1 out of   1 | elapsed:   12.9s remaining:    0.0s\n"
          ],
          "name": "stderr"
        },
        {
          "output_type": "stream",
          "text": [
            "[CV] ............................... C=0.1, score=0.999, total=  15.0s\n",
            "[CV] C=0.1 ...........................................................\n"
          ],
          "name": "stdout"
        },
        {
          "output_type": "stream",
          "text": [
            "[Parallel(n_jobs=1)]: Done   2 out of   2 | elapsed:   27.9s remaining:    0.0s\n"
          ],
          "name": "stderr"
        },
        {
          "output_type": "stream",
          "text": [
            "[CV] ............................... C=0.1, score=0.999, total=  15.3s\n",
            "[CV] C=0.1 ...........................................................\n",
            "[CV] ............................... C=0.1, score=0.999, total=  12.1s\n",
            "[CV] C=0.1 ...........................................................\n",
            "[CV] ............................... C=0.1, score=0.999, total=   8.8s\n",
            "[CV] C=0.1 ...........................................................\n",
            "[CV] ............................... C=0.1, score=0.999, total=  18.3s\n",
            "[CV] C=0.1 ...........................................................\n",
            "[CV] ............................... C=0.1, score=0.999, total=   8.3s\n",
            "[CV] C=0.1 ...........................................................\n",
            "[CV] ............................... C=0.1, score=0.999, total=   7.4s\n",
            "[CV] C=0.1 ...........................................................\n",
            "[CV] ............................... C=0.1, score=0.999, total=   8.7s\n",
            "[CV] C=0.1 ...........................................................\n",
            "[CV] ............................... C=0.1, score=0.999, total=   9.1s\n",
            "[CV] C=0.2 ...........................................................\n",
            "[CV] ............................... C=0.2, score=0.999, total=   9.4s\n",
            "[CV] C=0.2 ...........................................................\n",
            "[CV] ............................... C=0.2, score=0.999, total=   5.3s\n",
            "[CV] C=0.2 ...........................................................\n",
            "[CV] ............................... C=0.2, score=0.999, total=   8.5s\n",
            "[CV] C=0.2 ...........................................................\n",
            "[CV] ............................... C=0.2, score=0.999, total=  17.6s\n",
            "[CV] C=0.2 ...........................................................\n",
            "[CV] ............................... C=0.2, score=0.999, total=   8.1s\n",
            "[CV] C=0.2 ...........................................................\n",
            "[CV] ............................... C=0.2, score=0.999, total=  15.9s\n",
            "[CV] C=0.2 ...........................................................\n",
            "[CV] ............................... C=0.2, score=0.999, total=   8.2s\n",
            "[CV] C=0.2 ...........................................................\n",
            "[CV] ............................... C=0.2, score=0.999, total=  11.4s\n",
            "[CV] C=0.2 ...........................................................\n",
            "[CV] ............................... C=0.2, score=0.999, total=   6.8s\n",
            "[CV] C=0.2 ...........................................................\n",
            "[CV] ............................... C=0.2, score=0.999, total=   9.0s\n",
            "[CV] C=0.30000000000000004 ...........................................\n",
            "[CV] ............... C=0.30000000000000004, score=0.999, total=   8.6s\n",
            "[CV] C=0.30000000000000004 ...........................................\n",
            "[CV] ............... C=0.30000000000000004, score=0.999, total=   6.9s\n",
            "[CV] C=0.30000000000000004 ...........................................\n",
            "[CV] ............... C=0.30000000000000004, score=0.999, total=   3.1s\n",
            "[CV] C=0.30000000000000004 ...........................................\n",
            "[CV] ............... C=0.30000000000000004, score=0.999, total=  11.6s\n",
            "[CV] C=0.30000000000000004 ...........................................\n",
            "[CV] ............... C=0.30000000000000004, score=0.999, total=  10.9s\n",
            "[CV] C=0.30000000000000004 ...........................................\n",
            "[CV] ............... C=0.30000000000000004, score=0.999, total=   9.9s\n",
            "[CV] C=0.30000000000000004 ...........................................\n",
            "[CV] ............... C=0.30000000000000004, score=0.999, total=  12.8s\n",
            "[CV] C=0.30000000000000004 ...........................................\n",
            "[CV] ............... C=0.30000000000000004, score=0.999, total=  14.8s\n",
            "[CV] C=0.30000000000000004 ...........................................\n",
            "[CV] ............... C=0.30000000000000004, score=0.999, total=  21.1s\n",
            "[CV] C=0.30000000000000004 ...........................................\n",
            "[CV] ............... C=0.30000000000000004, score=0.999, total=   6.0s\n",
            "[CV] C=0.4 ...........................................................\n",
            "[CV] ............................... C=0.4, score=0.999, total=  15.8s\n",
            "[CV] C=0.4 ...........................................................\n",
            "[CV] ............................... C=0.4, score=0.999, total=  10.2s\n",
            "[CV] C=0.4 ...........................................................\n",
            "[CV] ............................... C=0.4, score=0.999, total=   9.8s\n",
            "[CV] C=0.4 ...........................................................\n",
            "[CV] ............................... C=0.4, score=0.999, total=  14.1s\n",
            "[CV] C=0.4 ...........................................................\n",
            "[CV] ............................... C=0.4, score=0.999, total=   7.2s\n",
            "[CV] C=0.4 ...........................................................\n",
            "[CV] ............................... C=0.4, score=0.999, total=   8.6s\n",
            "[CV] C=0.4 ...........................................................\n",
            "[CV] ............................... C=0.4, score=0.999, total=  14.7s\n",
            "[CV] C=0.4 ...........................................................\n",
            "[CV] ............................... C=0.4, score=0.999, total=   8.1s\n",
            "[CV] C=0.4 ...........................................................\n",
            "[CV] ............................... C=0.4, score=0.999, total=   7.9s\n",
            "[CV] C=0.4 ...........................................................\n",
            "[CV] ............................... C=0.4, score=0.999, total=   7.3s\n",
            "[CV] C=0.5 ...........................................................\n",
            "[CV] ............................... C=0.5, score=0.999, total=   8.8s\n",
            "[CV] C=0.5 ...........................................................\n",
            "[CV] ............................... C=0.5, score=0.999, total=   6.6s\n",
            "[CV] C=0.5 ...........................................................\n",
            "[CV] ............................... C=0.5, score=0.999, total=  10.5s\n",
            "[CV] C=0.5 ...........................................................\n",
            "[CV] ............................... C=0.5, score=0.999, total=   9.1s\n",
            "[CV] C=0.5 ...........................................................\n",
            "[CV] ............................... C=0.5, score=0.999, total=  10.7s\n",
            "[CV] C=0.5 ...........................................................\n",
            "[CV] ............................... C=0.5, score=0.999, total=   8.0s\n",
            "[CV] C=0.5 ...........................................................\n",
            "[CV] ............................... C=0.5, score=0.999, total=  13.4s\n",
            "[CV] C=0.5 ...........................................................\n",
            "[CV] ............................... C=0.5, score=0.999, total=   7.2s\n",
            "[CV] C=0.5 ...........................................................\n",
            "[CV] ............................... C=0.5, score=0.999, total=  12.4s\n",
            "[CV] C=0.5 ...........................................................\n",
            "[CV] ............................... C=0.5, score=0.999, total=   8.1s\n",
            "[CV] C=0.6 ...........................................................\n",
            "[CV] ............................... C=0.6, score=0.999, total=   6.2s\n",
            "[CV] C=0.6 ...........................................................\n",
            "[CV] ............................... C=0.6, score=0.999, total=  16.9s\n",
            "[CV] C=0.6 ...........................................................\n",
            "[CV] ............................... C=0.6, score=0.999, total=  15.3s\n",
            "[CV] C=0.6 ...........................................................\n",
            "[CV] ............................... C=0.6, score=0.999, total=   6.4s\n",
            "[CV] C=0.6 ...........................................................\n",
            "[CV] ............................... C=0.6, score=0.998, total=   3.2s\n",
            "[CV] C=0.6 ...........................................................\n",
            "[CV] ............................... C=0.6, score=0.999, total=  10.0s\n",
            "[CV] C=0.6 ...........................................................\n",
            "[CV] ............................... C=0.6, score=0.999, total=   8.1s\n",
            "[CV] C=0.6 ...........................................................\n",
            "[CV] ............................... C=0.6, score=0.999, total=   6.5s\n",
            "[CV] C=0.6 ...........................................................\n",
            "[CV] ............................... C=0.6, score=0.999, total=  12.4s\n",
            "[CV] C=0.6 ...........................................................\n",
            "[CV] ............................... C=0.6, score=0.999, total=   8.0s\n",
            "[CV] C=0.7000000000000001 ............................................\n",
            "[CV] ................ C=0.7000000000000001, score=0.999, total=  10.2s\n",
            "[CV] C=0.7000000000000001 ............................................\n",
            "[CV] ................ C=0.7000000000000001, score=0.999, total=  22.3s\n",
            "[CV] C=0.7000000000000001 ............................................\n",
            "[CV] ................ C=0.7000000000000001, score=0.999, total=  12.8s\n",
            "[CV] C=0.7000000000000001 ............................................\n",
            "[CV] ................ C=0.7000000000000001, score=0.999, total=  10.9s\n",
            "[CV] C=0.7000000000000001 ............................................\n",
            "[CV] ................ C=0.7000000000000001, score=0.998, total=   3.2s\n",
            "[CV] C=0.7000000000000001 ............................................\n",
            "[CV] ................ C=0.7000000000000001, score=0.999, total=   8.9s\n",
            "[CV] C=0.7000000000000001 ............................................\n",
            "[CV] ................ C=0.7000000000000001, score=0.999, total=   9.5s\n",
            "[CV] C=0.7000000000000001 ............................................\n",
            "[CV] ................ C=0.7000000000000001, score=0.999, total=   8.8s\n",
            "[CV] C=0.7000000000000001 ............................................\n",
            "[CV] ................ C=0.7000000000000001, score=0.999, total=   8.6s\n",
            "[CV] C=0.7000000000000001 ............................................\n",
            "[CV] ................ C=0.7000000000000001, score=0.999, total=   5.2s\n",
            "[CV] C=0.8 ...........................................................\n",
            "[CV] ............................... C=0.8, score=0.999, total=   7.1s\n",
            "[CV] C=0.8 ...........................................................\n",
            "[CV] ............................... C=0.8, score=0.999, total=  14.1s\n",
            "[CV] C=0.8 ...........................................................\n",
            "[CV] ............................... C=0.8, score=0.999, total=   6.9s\n",
            "[CV] C=0.8 ...........................................................\n",
            "[CV] ............................... C=0.8, score=0.999, total=   8.8s\n",
            "[CV] C=0.8 ...........................................................\n",
            "[CV] ............................... C=0.8, score=0.998, total=   3.1s\n",
            "[CV] C=0.8 ...........................................................\n",
            "[CV] ............................... C=0.8, score=0.999, total=   8.8s\n",
            "[CV] C=0.8 ...........................................................\n",
            "[CV] ............................... C=0.8, score=0.999, total=  10.6s\n",
            "[CV] C=0.8 ...........................................................\n",
            "[CV] ............................... C=0.8, score=0.999, total=   6.6s\n",
            "[CV] C=0.8 ...........................................................\n",
            "[CV] ............................... C=0.8, score=0.999, total=   8.4s\n",
            "[CV] C=0.8 ...........................................................\n",
            "[CV] ............................... C=0.8, score=0.999, total=   8.2s\n",
            "[CV] C=0.9 ...........................................................\n",
            "[CV] ............................... C=0.9, score=0.999, total=   5.9s\n",
            "[CV] C=0.9 ...........................................................\n",
            "[CV] ............................... C=0.9, score=0.999, total=   7.1s\n",
            "[CV] C=0.9 ...........................................................\n",
            "[CV] ............................... C=0.9, score=0.999, total=   8.7s\n",
            "[CV] C=0.9 ...........................................................\n",
            "[CV] ............................... C=0.9, score=0.999, total=  10.0s\n",
            "[CV] C=0.9 ...........................................................\n",
            "[CV] ............................... C=0.9, score=0.998, total=   3.2s\n",
            "[CV] C=0.9 ...........................................................\n",
            "[CV] ............................... C=0.9, score=0.999, total=   9.9s\n",
            "[CV] C=0.9 ...........................................................\n",
            "[CV] ............................... C=0.9, score=0.999, total=   7.9s\n",
            "[CV] C=0.9 ...........................................................\n",
            "[CV] ............................... C=0.9, score=0.999, total=   9.0s\n",
            "[CV] C=0.9 ...........................................................\n",
            "[CV] ............................... C=0.9, score=0.999, total=  12.4s\n",
            "[CV] C=0.9 ...........................................................\n",
            "[CV] ............................... C=0.9, score=0.999, total=  14.1s\n",
            "[CV] C=1.0 ...........................................................\n",
            "[CV] ............................... C=1.0, score=0.999, total=  18.1s\n",
            "[CV] C=1.0 ...........................................................\n",
            "[CV] ............................... C=1.0, score=0.999, total=  19.1s\n",
            "[CV] C=1.0 ...........................................................\n",
            "[CV] ............................... C=1.0, score=0.999, total=   5.9s\n",
            "[CV] C=1.0 ...........................................................\n",
            "[CV] ............................... C=1.0, score=0.999, total=   9.3s\n",
            "[CV] C=1.0 ...........................................................\n",
            "[CV] ............................... C=1.0, score=0.998, total=   3.2s\n",
            "[CV] C=1.0 ...........................................................\n",
            "[CV] ............................... C=1.0, score=0.999, total=   6.7s\n",
            "[CV] C=1.0 ...........................................................\n",
            "[CV] ............................... C=1.0, score=0.999, total=   7.0s\n",
            "[CV] C=1.0 ...........................................................\n",
            "[CV] ............................... C=1.0, score=0.999, total=  14.1s\n",
            "[CV] C=1.0 ...........................................................\n",
            "[CV] ............................... C=1.0, score=0.999, total=   9.9s\n",
            "[CV] C=1.0 ...........................................................\n",
            "[CV] ............................... C=1.0, score=0.999, total=   8.3s\n"
          ],
          "name": "stdout"
        },
        {
          "output_type": "stream",
          "text": [
            "[Parallel(n_jobs=1)]: Done 100 out of 100 | elapsed: 16.4min finished\n"
          ],
          "name": "stderr"
        },
        {
          "output_type": "execute_result",
          "data": {
            "text/plain": [
              "GridSearchCV(cv=10, error_score=nan,\n",
              "             estimator=LogisticRegression(C=1.0, class_weight=None, dual=False,\n",
              "                                          fit_intercept=True,\n",
              "                                          intercept_scaling=1, l1_ratio=None,\n",
              "                                          max_iter=10000, multi_class='auto',\n",
              "                                          n_jobs=None, penalty='l2',\n",
              "                                          random_state=None, solver='lbfgs',\n",
              "                                          tol=0.0001, verbose=0,\n",
              "                                          warm_start=False),\n",
              "             iid='deprecated', n_jobs=None,\n",
              "             param_grid={'C': array([0.1, 0.2, 0.3, 0.4, 0.5, 0.6, 0.7, 0.8, 0.9, 1. ])},\n",
              "             pre_dispatch='2*n_jobs', refit=True, return_train_score=False,\n",
              "             scoring=None, verbose=3)"
            ]
          },
          "metadata": {
            "tags": []
          },
          "execution_count": 131
        }
      ]
    },
    {
      "cell_type": "code",
      "metadata": {
        "colab": {
          "base_uri": "https://localhost:8080/"
        },
        "id": "Vm9rd8p_v27Y",
        "outputId": "d34f409d-c517-4c36-cfc6-73835c6ece5e"
      },
      "source": [
        "best_C = search_tomek.best_params_['C']\n",
        "print(best_C)"
      ],
      "execution_count": null,
      "outputs": [
        {
          "output_type": "stream",
          "text": [
            "0.4\n"
          ],
          "name": "stdout"
        }
      ]
    },
    {
      "cell_type": "code",
      "metadata": {
        "colab": {
          "base_uri": "https://localhost:8080/"
        },
        "id": "AnxEj8_JwDVx",
        "outputId": "f5eb7f9f-d1e2-4f68-cacf-839826a13b20"
      },
      "source": [
        "LR_tomek = LogisticRegression(C=best_C, max_iter=10000, verbose=3)\n",
        "LR_tomek.fit(X_tomek, y_tomek)\n",
        "y_tomek_pred = LR_tomek.predict(X_test)"
      ],
      "execution_count": null,
      "outputs": [
        {
          "output_type": "stream",
          "text": [
            "[Parallel(n_jobs=1)]: Using backend SequentialBackend with 1 concurrent workers.\n",
            "[Parallel(n_jobs=1)]: Done   1 out of   1 | elapsed:    9.7s remaining:    0.0s\n",
            "[Parallel(n_jobs=1)]: Done   1 out of   1 | elapsed:    9.7s finished\n"
          ],
          "name": "stderr"
        }
      ]
    },
    {
      "cell_type": "markdown",
      "metadata": {
        "id": "oNZbcUKzxIby"
      },
      "source": [
        "## Confusion matrix for LR with Tomek Links Removal"
      ]
    },
    {
      "cell_type": "code",
      "metadata": {
        "colab": {
          "base_uri": "https://localhost:8080/",
          "height": 591
        },
        "id": "Vx0BPpUixNZO",
        "outputId": "ac20af24-5f6d-4f8b-ec1d-89997e2bbd76"
      },
      "source": [
        "fig, ax = plt.subplots(figsize=(10,10))\n",
        "ax.set_title(\"Confusion matrix for LR with Tomek Links Removal\")\n",
        "plot_confusion_matrix(LR_tomek, X_test, y_test, cmap='Blues', ax=ax, values_format='d')"
      ],
      "execution_count": null,
      "outputs": [
        {
          "output_type": "execute_result",
          "data": {
            "text/plain": [
              "<sklearn.metrics._plot.confusion_matrix.ConfusionMatrixDisplay at 0x7fde253f2990>"
            ]
          },
          "metadata": {
            "tags": []
          },
          "execution_count": 136
        },
        {
          "output_type": "display_data",
          "data": {
            "image/png": "[encoded data removed]",
            "text/plain": [
              "<Figure size 720x720 with 2 Axes>"
            ]
          },
          "metadata": {
            "tags": [],
            "needs_background": "light"
          }
        }
      ]
    },
    {
      "cell_type": "markdown",
      "metadata": {
        "id": "11oHXdeAwhKW"
      },
      "source": [
        "## Precision, Recall, F1 score for LR with Tomek Links Removal"
      ]
    },
    {
      "cell_type": "markdown",
      "metadata": {
        "id": "ksFS9jf3wmft"
      },
      "source": [
        "### Precision"
      ]
    },
    {
      "cell_type": "markdown",
      "metadata": {
        "id": "ma4kPRvPwm8A"
      },
      "source": [
        "### Recall"
      ]
    },
    {
      "cell_type": "markdown",
      "metadata": {
        "id": "d3H4cw-twnQv"
      },
      "source": [
        "### F1 Score"
      ]
    },
    {
      "cell_type": "markdown",
      "metadata": {
        "id": "yga94xBuwrjQ"
      },
      "source": [
        "### Classification Report"
      ]
    },
    {
      "cell_type": "markdown",
      "metadata": {
        "id": "-gZZ59qmwuF5"
      },
      "source": [
        "## PR Curve"
      ]
    },
    {
      "cell_type": "code",
      "metadata": {
        "colab": {
          "base_uri": "https://localhost:8080/",
          "height": 651
        },
        "id": "JXkeWyFkwQWL",
        "outputId": "4568460e-6c43-4723-bbf2-4017ff227628"
      },
      "source": [
        "fig, ax = plt.subplots(figsize=(12,10))\n",
        "ax.set_title('PR Curve for LR with Tomek Links Removal')\n",
        "plot_precision_recall_curve(LR_tomek, X_test, y_test, ax=ax)"
      ],
      "execution_count": null,
      "outputs": [
        {
          "output_type": "execute_result",
          "data": {
            "text/plain": [
              "<sklearn.metrics._plot.precision_recall_curve.PrecisionRecallDisplay at 0x7fde24caa2d0>"
            ]
          },
          "metadata": {
            "tags": []
          },
          "execution_count": 135
        },
        {
          "output_type": "display_data",
          "data": {
            "image/png": "[encoded data removed]",
            "text/plain": [
              "<Figure size 864x720 with 1 Axes>"
            ]
          },
          "metadata": {
            "tags": [],
            "needs_background": "light"
          }
        }
      ]
    },
    {
      "cell_type": "code",
      "metadata": {
        "id": "lyl-3ypYxG78"
      },
      "source": [
        ""
      ],
      "execution_count": null,
      "outputs": []
    }
  ]
}